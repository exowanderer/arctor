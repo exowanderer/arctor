{
 "cells": [
  {
   "cell_type": "code",
   "execution_count": null,
   "metadata": {
    "colab": {},
    "colab_type": "code",
    "id": "cQ0H-RyAp_2T"
   },
   "outputs": [],
   "source": [
    "%matplotlib inline\n",
    "%config InlineBackend.figure_format='retina'"
   ]
  },
  {
   "cell_type": "code",
   "execution_count": null,
   "metadata": {},
   "outputs": [],
   "source": [
    "import warnings\n",
    "warnings.simplefilter(\"ignore\")"
   ]
  },
  {
   "cell_type": "code",
   "execution_count": null,
   "metadata": {
    "colab": {},
    "colab_type": "code",
    "id": "1o7Q6X8TCXnt"
   },
   "outputs": [],
   "source": [
    "import os"
   ]
  },
  {
   "cell_type": "code",
   "execution_count": null,
   "metadata": {
    "colab": {},
    "colab_type": "code",
    "id": "Qpt0amocp_2X"
   },
   "outputs": [],
   "source": [
    "%run notebook_setup"
   ]
  },
  {
   "cell_type": "markdown",
   "metadata": {
    "colab_type": "text",
    "id": "j-ZULzpx60SU"
   },
   "source": [
    "# Load data in from Google Drive"
   ]
  },
  {
   "cell_type": "markdown",
   "metadata": {
    "colab_type": "text",
    "id": "kJOWjvPFCj2M"
   },
   "source": [
    "from google.colab import drive\n",
    "drive.mount('/content/drive')"
   ]
  },
  {
   "cell_type": "markdown",
   "metadata": {
    "colab_type": "text",
    "id": "_2LRtWCAp_2Z"
   },
   "source": [
    "# Transit fitting"
   ]
  },
  {
   "cell_type": "markdown",
   "metadata": {
    "colab_type": "text",
    "id": "oRQyaGBOp_2a"
   },
   "source": [
    "*exoplanet* includes methods for computing the light curves transiting planets.\n",
    "In its simplest form this can be used to evaluate a light curve like you would do with [batman](https://astro.uchicago.edu/~kreidberg/batman/), for example:"
   ]
  },
  {
   "cell_type": "code",
   "execution_count": null,
   "metadata": {},
   "outputs": [],
   "source": [
    "import os\n",
    "HOME = os.environ['HOME']\n",
    "working_dir = os.path.join(HOME, 'path/to/notebooks/')\n",
    "os.chdir(working_dir)"
   ]
  },
  {
   "cell_type": "code",
   "execution_count": null,
   "metadata": {},
   "outputs": [],
   "source": [
    "from astropy import units\n",
    "from exomast_api import exoMAST_API\n",
    "from time import time\n",
    "\n",
    "import exoplanet as xo\n",
    "import matplotlib.pyplot as plt\n",
    "import multiprocessing as mp\n",
    "import numpy as np\n",
    "import pymc3 as pm\n",
    "import starry\n",
    "import theano.tensor as tt\n",
    "import theano\n",
    "\n",
    "starry.config.quiet = True"
   ]
  },
  {
   "cell_type": "code",
   "execution_count": null,
   "metadata": {
    "colab": {},
    "colab_type": "code",
    "id": "nEjzyJgip_2a"
   },
   "outputs": [],
   "source": [
    "import joblib\n",
    "import pandas as pd\n",
    "\n",
    "from tqdm import tqdm_notebook as tqdm"
   ]
  },
  {
   "cell_type": "code",
   "execution_count": null,
   "metadata": {
    "colab": {},
    "colab_type": "code",
    "id": "nEjzyJgip_2a"
   },
   "outputs": [],
   "source": [
    "from arctor import Arctor, info_message\n",
    "from arctor.utils import instantiate_arctor, create_raw_lc_stddev, instantiate_star_planet_system"
   ]
  },
  {
   "cell_type": "code",
   "execution_count": null,
   "metadata": {
    "colab": {},
    "colab_type": "code",
    "id": "GWd1PNSXDWWa"
   },
   "outputs": [],
   "source": [
    "plot_verbose = False\n",
    "save_now = False\n",
    "planet_name = 'planet_name'\n",
    "file_type = 'flt.fits'\n",
    "\n",
    "HOME = os.environ['HOME']\n",
    "base_dir = os.path.join(HOME, 'Research', 'Planets', planet_name)\n",
    "data_dir = os.path.join(base_dir, 'path', 'to', 'FLT', 'files')\n",
    "data_dir = os.path.join(data_dir, 'HST', 'FLTs')\n",
    "working_dir = os.path.join(base_dir, 'path', 'to', 'savefiles')"
   ]
  },
  {
   "cell_type": "code",
   "execution_count": null,
   "metadata": {
    "colab": {
     "base_uri": "https://localhost:8080/",
     "height": 542
    },
    "colab_type": "code",
    "id": "AEcnGARKD56O",
    "outputId": "3623dbf5-dbd8-463c-d0c3-8150383538f4"
   },
   "outputs": [],
   "source": [
    "planet = instantiate_arctor(planet_name, data_dir, working_dir, file_type)"
   ]
  },
  {
   "cell_type": "code",
   "execution_count": null,
   "metadata": {},
   "outputs": [],
   "source": [
    "joblib_filename = 'name_of_savefile_100x100_finescale.joblib.save'\n",
    "joblib_filename = f'{working_dir}/{joblib_filename}'\n",
    "planet.load_dict(joblib_filename)"
   ]
  },
  {
   "cell_type": "code",
   "execution_count": null,
   "metadata": {},
   "outputs": [],
   "source": [
    "planet.photometry_df.columns"
   ]
  },
  {
   "cell_type": "code",
   "execution_count": null,
   "metadata": {},
   "outputs": [],
   "source": [
    "if not hasattr(planet, 'gaussian_centers'):\n",
    "    planet.load_dict(joblib_filename)\n",
    "    planet.clean_cosmic_rays()\n",
    "    planet.calibration_trace_location()\n",
    "    planet.identify_trace_direction()\n",
    "    planet.simple_phots()\n",
    "    planet.center_all_traces()\n",
    "    planet.fit_trace_slopes()\n",
    "    planet.compute_sky_background(subpixels=32)\n",
    "    planet.compute_columnwise_sky_background()"
   ]
  },
  {
   "cell_type": "markdown",
   "metadata": {},
   "source": [
    "# Run Multi-Phot"
   ]
  },
  {
   "cell_type": "code",
   "execution_count": null,
   "metadata": {},
   "outputs": [],
   "source": [
    "if not hasattr(planet, 'photometry_df'):\n",
    "    # Set up the list of aperture widths and heights to search\n",
    "    min_aper_width = 1\n",
    "    max_aper_width = 100\n",
    "    min_aper_height = 1\n",
    "    max_aper_height = 100\n",
    "\n",
    "    aper_widths = np.arange(min_aper_width, max_aper_width + 2, 5)\n",
    "    aper_heights = np.arange(min_aper_height, max_aper_height + 2, 5)\n",
    "    \n",
    "    planet.do_multi_phot(aper_widths, aper_heights)"
   ]
  },
  {
   "cell_type": "markdown",
   "metadata": {},
   "source": [
    "# Determine the 'best' photometry SNR"
   ]
  },
  {
   "cell_type": "code",
   "execution_count": null,
   "metadata": {},
   "outputs": [],
   "source": [
    "med_photometry_df = np.median(planet.photometry_df, axis=0)\n",
    "planet.normed_photometry_df = planet.photometry_df / med_photometry_df\n",
    "planet.normed_uncertainty_df = np.sqrt(planet.photometry_df) / med_photometry_df"
   ]
  },
  {
   "cell_type": "code",
   "execution_count": null,
   "metadata": {},
   "outputs": [],
   "source": [
    "planet_fine_photometry_df = planet.photometry_df.copy()"
   ]
  },
  {
   "cell_type": "code",
   "execution_count": null,
   "metadata": {},
   "outputs": [],
   "source": [
    "fine_snr_lightcurves = create_raw_lc_stddev(planet)\n",
    "fine_min_snr = fine_snr_lightcurves[fine_snr_lightcurves.argmin()]\n",
    "fine_min_snr_colname = planet.photometry_df.columns[fine_snr_lightcurves.argmin()]\n",
    "fine_min_snr_flux = planet.normed_photometry_df[fine_min_snr_colname]\n",
    "fine_min_snr_uncs = planet.normed_uncertainty_df[fine_min_snr_colname]\n",
    "fine_temp = fine_min_snr_colname.split('_')[-1].split('x')\n",
    "fine_min_snr_aper_width, fine_min_snr_aper_height = np.int32(fine_temp)"
   ]
  },
  {
   "cell_type": "code",
   "execution_count": null,
   "metadata": {},
   "outputs": [],
   "source": [
    "info_message(f'Fine Aperture Photometry Resulted in {fine_min_snr:0.0f}ppm with '\n",
    "             f'{fine_min_snr_aper_width}x{fine_min_snr_aper_height} aperture size; '\n",
    "             f'with median uncertainties of {np.median(fine_min_snr_uncs)*1e6:0.0f} ppm')"
   ]
  },
  {
   "cell_type": "markdown",
   "metadata": {},
   "source": [
    "# Configure system for PyMC3"
   ]
  },
  {
   "cell_type": "code",
   "execution_count": null,
   "metadata": {
    "colab": {},
    "colab_type": "code",
    "id": "jqJxdF0I7bTK"
   },
   "outputs": [],
   "source": [
    "idx_fwd = planet.idx_fwd\n",
    "idx_rev = planet.idx_rev"
   ]
  },
  {
   "cell_type": "code",
   "execution_count": null,
   "metadata": {
    "colab": {
     "base_uri": "https://localhost:8080/",
     "height": 464
    },
    "colab_type": "code",
    "id": "6vGrEIEv7YnO",
    "outputId": "bfed0117-0b8a-423e-f2a1-13068d698e0e"
   },
   "outputs": [],
   "source": [
    "# Compute a limb-darkened light curve using starry\n",
    "times = planet.times\n",
    "u = []\n",
    "flux = planet.normed_photometry_df['aperture_sum_16x51']\n",
    "yerr = planet.normed_uncertainty_df['aperture_sum_16x51']\n",
    "\n",
    "plt.errorbar(times[idx_fwd], flux[idx_fwd], yerr[idx_fwd], fmt='o', color=\"C0\")\n",
    "plt.errorbar(times[idx_rev], flux[idx_rev], yerr[idx_rev], fmt='o', color=\"C3\")\n",
    "plt.axhline(1.0, ls='--', color='C1')\n",
    "plt.ylabel(\"relative flux\")\n",
    "plt.xlabel(\"time [days]\")\n",
    "plt.xlim(times.min(), times.max());"
   ]
  },
  {
   "cell_type": "markdown",
   "metadata": {
    "colab_type": "text",
    "id": "UDHaejnap_2d"
   },
   "source": [
    "But the real power comes from the fact that this is defined as a [Theano operation](http://deeplearning.net/software/theano/extending/extending_theano.html) so it can be combined with PyMC3 to do transit inference using Hamiltonian Monte Carlo.\n",
    "\n",
    "## The transit model in PyMC3\n",
    "\n",
    "In this section, we will construct a simple transit fit model using *PyMC3* and then we will fit a two planet model to simulated data.\n",
    "To start, let's randomly sample some periods and phases and then define the time sampling:"
   ]
  },
  {
   "cell_type": "code",
   "execution_count": null,
   "metadata": {
    "colab": {},
    "colab_type": "code",
    "id": "urdyPprvp_2e"
   },
   "outputs": [],
   "source": [
    "np.random.seed(42)\n",
    "\n",
    "time_med = np.median(times)\n",
    "med_t_diff = np.median(np.diff(times))"
   ]
  },
  {
   "cell_type": "markdown",
   "metadata": {
    "colab_type": "text",
    "id": "So0C6fKop_2g"
   },
   "source": [
    "Then, define the parameters.\n",
    "In this simple model, we'll just fit for the limb darkening parameters of the star, and the period, phase, impact parameter, and radius ratio of the planets (note: this is already 10 parameters and running MCMC to convergence using [emcee](https://emcee.readthedocs.io) would probably take at least an hour).\n",
    "For the limb darkening, we'll use a quadratic law as parameterized by [Kipping (2013)](https://arxiv.org/abs/1308.0009).\n",
    "This reparameterizations is implemented in *exoplanet* as custom *PyMC3* distribution :class:`exoplanet.distributions.QuadLimbDark`."
   ]
  },
  {
   "cell_type": "code",
   "execution_count": null,
   "metadata": {
    "colab": {
     "base_uri": "https://localhost:8080/",
     "height": 34
    },
    "colab_type": "code",
    "id": "z-oUic6qrjXZ",
    "outputId": "85f6974f-cbc1-476a-d3ce-3372c7f02451"
   },
   "outputs": [],
   "source": [
    "print(f'This instance has {mp.cpu_count()} CPUs')"
   ]
  },
  {
   "cell_type": "code",
   "execution_count": null,
   "metadata": {
    "colab": {},
    "colab_type": "code",
    "id": "f5jMP0gg2Gxy"
   },
   "outputs": [],
   "source": [
    "import pymc3 as pm\n",
    "b = 0.66 # Hellier 2011\n",
    "period = 0.813475  # days # exo.mast.stsci.edu\n",
    "u = [0]\n",
    "t0 = time_med\n",
    "edepth = np.sqrt(1000/1e6)\n",
    "\n",
    "orbit = xo.orbits.KeplerianOrbit(period=period, t0=t0, b=b)\n",
    "injected_light_curves = xo.LimbDarkLightCurve(u).get_light_curve(orbit=orbit, r=edepth, t=times).eval().flatten()"
   ]
  },
  {
   "cell_type": "code",
   "execution_count": null,
   "metadata": {
    "colab": {
     "base_uri": "https://localhost:8080/",
     "height": 464
    },
    "colab_type": "code",
    "id": "jcnrG-JX2l4Y",
    "outputId": "4def2a2b-1baa-4698-d8a1-3d55289ff259"
   },
   "outputs": [],
   "source": [
    "plt.errorbar(times, flux * (injected_light_curves+1), yerr, fmt='o')\n",
    "plt.plot(times, injected_light_curves+1,'o')\n",
    "plt.ylabel(\"relative flux\")\n",
    "plt.xlabel(\"time [days]\")\n",
    "plt.xlim(times.min(), times.max());"
   ]
  },
  {
   "cell_type": "code",
   "execution_count": null,
   "metadata": {
    "colab": {},
    "colab_type": "code",
    "id": "EW_PSKNreRpC"
   },
   "outputs": [],
   "source": [
    "t0_planet = 55528.3684  # exo.mast.stsci.edu\n",
    "n_epochs = np.int(np.round(((time_med - t0_planet) / period)-0.5))\n",
    "n_epochs, ((time_med - t0_planet) / period)\n",
    "t0_guess = t0_planet + (n_epochs+0.5) * period  # eclipse\n",
    "\n",
    "# t0s = np.random.normal(t0_guess, 0.1*med_t_diff, size=2)\n",
    "t0s = t0_guess"
   ]
  },
  {
   "cell_type": "markdown",
   "metadata": {},
   "source": [
    "# Run 400 MCMCs"
   ]
  },
  {
   "cell_type": "code",
   "execution_count": null,
   "metadata": {},
   "outputs": [],
   "source": [
    "b = 0.66 # Hellier 2011\n",
    "period = 0.813475  # days # exo.mast.stsci.edu\n",
    "u = [0]\n",
    "\n",
    "oot_guess = np.median(np.r_[flux[:2*18], flux[-18:]])\n",
    "# stellar_variance = np.std(np.r_[flux[:2*18], flux[-18:]])\n",
    "data = flux * (injected_light_curves+1)# - oot_guess\n",
    "t0 = t0_guess\n",
    "\n",
    "edepth = np.sqrt(1000/1e6)\n",
    "orbit = xo.orbits.KeplerianOrbit(period=period, t0=t0, b=b)\n",
    "injected_light_curve = xo.LimbDarkLightCurve(u).get_light_curve(orbit=orbit, r=edepth, t=times).eval().flatten()"
   ]
  },
  {
   "cell_type": "code",
   "execution_count": null,
   "metadata": {},
   "outputs": [],
   "source": [
    "planet_info = exoMAST_API('PlanetNameb')"
   ]
  },
  {
   "cell_type": "code",
   "execution_count": null,
   "metadata": {},
   "outputs": [],
   "source": [
    "kwargs = {}\n",
    "\n",
    "# Stellar parameters\n",
    "kwargs['star_ydeg'] = 0\n",
    "kwargs['star_udeg'] = 2\n",
    "kwargs['star_L'] = 1.0\n",
    "kwargs['star_inc'] = 90.0\n",
    "kwargs['star_obl'] = 0.0\n",
    "kwargs['star_m'] = planet_info.Ms\n",
    "kwargs['star_r'] = planet_info.Rs\n",
    "kwargs['star_prot'] = 1.0\n",
    "kwargs['star_t0'] = 0\n",
    "kwargs['star_theta0'] = 0.0\n",
    "kwargs['star_A1'] = 1.0\n",
    "kwargs['star_A2'] = 0.0\n",
    "\n",
    "# Planetary parameters\n",
    "kwargs['planet_B1'] = 1.0\n",
    "kwargs['planet_ydeg'] = 0\n",
    "kwargs['planet_udeg'] = 0\n",
    "kwargs['planet_L']  =  5e-4\n",
    "kwargs['planet_a'] = 1.0\n",
    "kwargs['planet_phase_offset'] = 0.\n",
    "kwargs['planet_inc'] = planet_info.inclination\n",
    "kwargs['planet_porb'] = planet_info.orbital_period\n",
    "kwargs['planet_t0'] = 0.0#planet_info.transit_time\n",
    "kwargs['planet_obl'] = 0.0\n",
    "kwargs['planet_m'] = 0.0  # planet_info.Mp\n",
    "kwargs['planet_r'] = planet_info.Rp\n",
    "kwargs['planet_ecc'] = planet_info.eccentricity\n",
    "kwargs['planet_w'] = planet_info.omega\n",
    "kwargs['planet_Omega'] = 0.0\n",
    "kwargs['planet_theta0'] = 0.0\n",
    "\n",
    "sys = instantiate_star_planet_system(**kwargs)\n",
    "# map_soln, mcmc_trace = run_pymc3(times, flux, yerr, tune=250, draws=500, target_accept=0.9, **kwargs)"
   ]
  },
  {
   "cell_type": "code",
   "execution_count": null,
   "metadata": {},
   "outputs": [],
   "source": [
    "artificial_times = np.linspace(times_mod.min(), times_mod.max(), 300)\n",
    "sys.show(t=artificial_times, window_pad=1, figsize=(5, 5))"
   ]
  },
  {
   "cell_type": "code",
   "execution_count": null,
   "metadata": {},
   "outputs": [],
   "source": [
    "n_epochs = np.int(np.round(np.median(((times - planet_info.transit_time)/planet_info.orbital_period) - 0.5)))\n",
    "times_mod = times - planet_info.transit_time - n_epochs*planet_info.orbital_period"
   ]
  },
  {
   "cell_type": "code",
   "execution_count": null,
   "metadata": {},
   "outputs": [],
   "source": [
    "artificial_times = times_mod\n",
    "flux_true = sys.flux(artificial_times).eval()\n",
    "ferr = 1e-4\n",
    "flux = flux_true + yerr * np.random.randn(len(artificial_times))\n",
    "plt.errorbar(artificial_times, flux, yerr, fmt=\"ko\", alpha=0.3, ms=3, zorder=2)\n",
    "plt.plot(artificial_times, flux_true, 'o');"
   ]
  },
  {
   "cell_type": "code",
   "execution_count": null,
   "metadata": {},
   "outputs": [],
   "source": [
    "import pymc3 as pm\n",
    "b = 0.66 # Hellier 2011\n",
    "period = 0.813475  # days # exo.mast.stsci.edu\n",
    "u = [0]\n",
    "\n",
    "# oot_guess = np.median(np.r_[flux[:2*18], flux[-18:]])\n",
    "# stellar_variance = np.std(np.r_[flux[:2*18], flux[-18:]])\n",
    "data = flux * (injected_light_curves+1)# - oot_guess\n",
    "t0 = t0_guess\n",
    "\n",
    "def run_pymc3(times, flux, ferr, xcenters, tune=3000, draws=3000, target_accept=0.9, do_mcmc_now=False, **kwargs):\n",
    "    \"\"\"\n",
    "        KWARGS:\n",
    "             # Stellar parameters\n",
    "             star_ydeg=0, star_udeg=2, star_L=1.0, star_inc=90.0, \n",
    "             star_obl=0.0, star_m=1.0, star_r=1.0, star_prot=1.0, \n",
    "             star_t0=0, star_theta0=0.0, star_A1=0.4, star_A2=0.2, \n",
    "             # Planetary parameters\n",
    "             planet_B1=1.0, planet_ydeg=1, planet_udeg=0, planet_L = 1.0, \n",
    "             planet_a=1.0, planet_phase_offset=0., planet_inc=90.0, planet_porb=1.0,\n",
    "             planet_t0=0.0, planet_obl=0.0, planet_m=0.0, planet_r=0.1, planet_ecc=0.0,\n",
    "             planet_w=90.0, planet_Omega=0.0, planet_theta0=0.0):\n",
    "    \"\"\"\n",
    "    with pm.Model() as model:\n",
    "        # planet_phase_offset = pm.Normal(\"planet_phase_offset\", 0.0, 30.0, testval=0.11)\n",
    "        # log_L = pm.Normal(\"log_L\", -4.0, 2.0, testval=-3.91)\n",
    "        log_L = pm.Uniform(\"log_L\", -np.inf, 0)\n",
    "        mean = pm.Normal(\"mean\", mu=0.0, sd=1.0)\n",
    "            \n",
    "        # kwargs['planet_phase_offset'] = planet_phase_offset\n",
    "        kwargs['planet_L'] = 10**log_L\n",
    "        \n",
    "        sys = instantiate_star_planet_system(**kwargs)\n",
    "        light_curve = sys.flux(times)\n",
    "        \n",
    "        slope = pm.Uniform(\"slope\", lower=-0.1, upper=0.1)\n",
    "#         slope_xc = pm.Uniform(\"slope_xcenter\", lower=-0.1, upper=0.1)\n",
    "        \n",
    "        line = means + slope * times + slope_xc * xcenters\n",
    "        \n",
    "        model_ = light_curve + line\n",
    "        \n",
    "        flux_model = pm.Deterministic(\"flux_model\", model_)\n",
    "        pm.Normal(\"obs\", flux_model, sd=ferr, observed=flux)\n",
    "        \n",
    "        start0 = time()\n",
    "        map_soln = xo.optimize()\n",
    "        print(f'[INFO] MAP Solution took {time() - start0} seconds')\n",
    "        \n",
    "        if do_mcmc_now:\n",
    "            start1 = time()\n",
    "            trace = pm.sample(\n",
    "                tune=tune,\n",
    "                draws=draws,\n",
    "                start=map_soln,\n",
    "                chains=mp.cpu_count(),\n",
    "                cores=mp.cpu_count(),\n",
    "                step=xo.get_dense_nuts_step(target_accept=target_accept),\n",
    "            )\n",
    "            print(f'[INFO] MCMC took {time() - start1} seconds')\n",
    "        else:\n",
    "            trace = None\n",
    "        print(f'[INFO] Full Process took {time() - start0} seconds')\n",
    "        \n",
    "    return map_soln, trace"
   ]
  },
  {
   "cell_type": "code",
   "execution_count": null,
   "metadata": {},
   "outputs": [],
   "source": [
    "kwargs['planet_L'] = "
   ]
  },
  {
   "cell_type": "code",
   "execution_count": null,
   "metadata": {},
   "outputs": [],
   "source": [
    "sys = instantiate_star_planet_system(**kwargs)"
   ]
  },
  {
   "cell_type": "code",
   "execution_count": null,
   "metadata": {},
   "outputs": [],
   "source": [
    "fine_snr_flux = planet.normed_photometry_df\n",
    "fine_snr_uncs = planet.normed_uncertainty_df\n",
    "\n",
    "n_columns = len(fine_snr_flux.columns)\n",
    "\n",
    "aper_sum_columns = planet.normed_photometry_df.drop(\n",
    "    ['xcenter', 'ycenter'], axis=1).columns\n",
    "\n",
    "xcenters = planet.photometry_df['xcenter']\n",
    "xcenters_mod = xcenters - np.median(xcenters)\n",
    "\n",
    "n_epochs = np.int(np.round(np.median(((times - planet_info.transit_time)/planet_info.orbital_period) - 0.5)))\n",
    "times_mod = times - planet_info.transit_time - n_epochs*planet_info.orbital_period\n",
    "\n",
    "\n",
    "do_mcmc_now = False\n",
    "save_as_you_go = False\n",
    "\n",
    "# varnames = [\"edepth\", \"slope_xcenter\", \"mean\", \"slope\"]\n",
    "varnames = ['log_L', 'mean', 'slope', 'slope_xcenter']\n",
    "fine_grain_mcmcs_w_xcenterfit = {}\n",
    "for colname in aper_sum_columns:  # [fine_min_snr_colname]:  # \n",
    "    start = time()\n",
    "    info_message(f'Working on {colname} for Trace MCMCs')\n",
    "    flux = fine_snr_flux[colname] * (injected_light_curve + 1.0)\n",
    "    ferr = fine_snr_uncs[colname]\n",
    "    \n",
    "    map_soln, trace  = run_pymc3(times, flux, ferr, xcenters, do_mcmc_now=do_mcmc_now,\n",
    "                                 tune=3000, draws=3000, target_accept=0.9, **kwargs)\n",
    "    fine_grain_mcmcs_w_xcenterfit[colname] = {}\n",
    "    fine_grain_mcmcs_w_xcenterfit[colname]['trace'] = trace\n",
    "    fine_grain_mcmcs_w_xcenterfit[colname]['map_soln'] = map_soln\n",
    "    \n",
    "    if save_as_you_go:\n",
    "        info_message(f'Completed {colname} for Trace MCMCs took {time()-start}')\n",
    "        filename = f'{planet_name}_fine_grain_photometry_100x100_XXXppm_100MAPs.joblib.save'\n",
    "        filename = os.path.join(working_dir, filename)\n",
    "\n",
    "        info_message(f'Saving MCMCs to {filename}')\n",
    "        joblib.dump(fine_grain_mcmcs_w_xcenterfit, filename)\n",
    "    if trace is not None:\n",
    "        print(pm.summary(trace, var_names=varnames))"
   ]
  },
  {
   "cell_type": "code",
   "execution_count": null,
   "metadata": {},
   "outputs": [],
   "source": [
    "%%timeit\n",
    "filename = f'{planet_name}_fine_grain_photometry_100x100_XXXppm_100MAPs.joblib.save'\n",
    "filename = os.path.join(working_dir, filename)\n",
    "\n",
    "info_message(f'Saving MCMCs to {filename}')\n",
    "joblib.dump(fine_grain_mcmcs_w_xcenterfit, filename)"
   ]
  },
  {
   "cell_type": "code",
   "execution_count": null,
   "metadata": {},
   "outputs": [],
   "source": [
    "varnames = ['log_L', 'mean', 'slope', 'slope_xcenter']\n",
    "pm.summary(trace, varnames=varnames)"
   ]
  },
  {
   "cell_type": "code",
   "execution_count": null,
   "metadata": {},
   "outputs": [],
   "source": [
    "import corner\n",
    "samples = pm.trace_to_dataframe(trace, varnames=varnames)\n",
    "corner.corner(np.array(samples), truths=[-3, 10, 0., 0.], labels=varnames);"
   ]
  },
  {
   "cell_type": "markdown",
   "metadata": {
    "colab_type": "text",
    "id": "AXl22v6jp_2i"
   },
   "source": [
    "Now we can plot the simulated data and the maximum a posteriori model to make sure that our initialization looks ok."
   ]
  },
  {
   "cell_type": "markdown",
   "metadata": {
    "colab_type": "text",
    "id": "y9xbZ7Atp_2l"
   },
   "source": [
    "## Sampling\n",
    "\n",
    "Now, let's sample from the posterior defined by this model.\n",
    "As usual, there are strong covariances between some of the parameters so we'll use :func:`exoplanet.get_dense_nuts_step`."
   ]
  },
  {
   "cell_type": "raw",
   "metadata": {
    "colab": {
     "base_uri": "https://localhost:8080/",
     "height": 67
    },
    "colab_type": "code",
    "id": "beb1lgP_p_2l",
    "outputId": "ad0bf51d-16f0-4600-d929-d074d3f525d2"
   },
   "source": [
    "np.random.seed(42)\n",
    "with model:\n",
    "    trace = pm.sample(\n",
    "        tune=3000,\n",
    "        draws=3000,\n",
    "        start=map_soln,\n",
    "        chains=mp.cpu_count(),\n",
    "        step=xo.get_dense_nuts_step(target_accept=0.9),\n",
    "        cores=mp.cpu_count()\n",
    "    )"
   ]
  },
  {
   "cell_type": "markdown",
   "metadata": {
    "colab_type": "text",
    "id": "r6Sgztjkp_2n"
   },
   "source": [
    "After sampling, it's important that we assess convergence.\n",
    "We can do that using the `pymc3.summary` function:"
   ]
  },
  {
   "cell_type": "code",
   "execution_count": null,
   "metadata": {},
   "outputs": [],
   "source": [
    "aper_sum_columns = planet.normed_photometry_df.drop(\n",
    "    ['xcenter', 'ycenter'], axis=1).columns\n",
    "aper_sum_columns"
   ]
  },
  {
   "cell_type": "code",
   "execution_count": null,
   "metadata": {},
   "outputs": [],
   "source": [
    "varnames = [\"edepth\", \"mean\", \"slope\", \"slope_xcenter\"]"
   ]
  },
  {
   "cell_type": "code",
   "execution_count": null,
   "metadata": {},
   "outputs": [],
   "source": [
    "trace_ = fine_grain_mcmcs_w_xcenterfit[colname]['trace']\n",
    "dir(trace_)\n",
    "trace_.report._gelman_rubin.values()\n",
    "dir(trace_.report)\n",
    "trace_.report._run_convergence_checks??"
   ]
  },
  {
   "cell_type": "code",
   "execution_count": null,
   "metadata": {
    "colab": {
     "base_uri": "https://localhost:8080/",
     "height": 166
    },
    "colab_type": "code",
    "id": "OHVfu27Ip_2o",
    "outputId": "09042a5e-52a6-479b-806a-040551f27b4a"
   },
   "outputs": [],
   "source": [
    "# fine_grain_mcmcs_w_xcenterfit[colname]['map_soln']\n",
    "edepths = []\n",
    "means = []\n",
    "slopes = []\n",
    "slopes_xcenter = []\n",
    "\n",
    "edepths_unc = []\n",
    "means_unc = []\n",
    "slopes_unc = []\n",
    "slopes_xcenter_unc = []\n",
    "\n",
    "mesh_widths = []\n",
    "mesh_heights = []\n",
    "\n",
    "for colname in tqdm(aper_sum_columns):\n",
    "    aper_width_, aper_height_ = np.int32(colname.split('_')[-1].split('x'))\n",
    "    mesh_widths.append(aper_width_)\n",
    "    mesh_heights.append(aper_height_)\n",
    "\n",
    "    # Load Summary from Colname\n",
    "    summary_df = pm.summary(fine_grain_mcmcs_w_xcenterfit[colname]['trace'], varnames=varnames)\n",
    "\n",
    "    # Store mean values\n",
    "    edepths.append(summary_df['mean'].loc['edepth'])\n",
    "    means.append(summary_df['mean'].loc['mean'])\n",
    "    slopes.append(summary_df['mean'].loc['slope'])\n",
    "    slopes_xcenter.append(summary_df['mean'].loc['slope_xcenter'])\n",
    "\n",
    "    # Store uncertainties\n",
    "    edepths_unc.append(summary_df['sd'].loc['edepth'])\n",
    "    means_unc.append(summary_df['sd'].loc['mean'])\n",
    "    slopes_unc.append(summary_df['sd'].loc['slope'])\n",
    "    slopes_xcenter_unc.append(summary_df['sd'].loc['slope_xcenter'])"
   ]
  },
  {
   "cell_type": "code",
   "execution_count": null,
   "metadata": {
    "colab": {
     "base_uri": "https://localhost:8080/",
     "height": 166
    },
    "colab_type": "code",
    "id": "OHVfu27Ip_2o",
    "outputId": "09042a5e-52a6-479b-806a-040551f27b4a"
   },
   "outputs": [],
   "source": [
    "df_columns = [\"aper_width\", \"aper_height\", \"edepth\", \"mean\", \"slope\", \"slope_xcenter\"]\n",
    "means_df = pd.DataFrame(np.transpose([mesh_widths, mesh_heights, edepths, means, slopes, slopes_xcenter]), \n",
    "                        columns=df_columns)\n",
    "uncs_df = pd.DataFrame(np.transpose([mesh_widths, mesh_heights, edepths_unc, means_unc, slopes_unc, slopes_xcenter_unc]), \n",
    "                        columns=df_columns)"
   ]
  },
  {
   "cell_type": "code",
   "execution_count": null,
   "metadata": {},
   "outputs": [],
   "source": [
    "# mesh_widths_sorted = np.argsort(mesh_widths)\n",
    "# mesh_heights_sorted = np.argsort(mesh_heights)\n",
    "plt.plot(means_df['aper_width'], (means_df['edepth'] / uncs_df['edepth']), '.')\n",
    "plt.plot(means_df['aper_height'], (means_df['edepth'] / uncs_df['edepth']),'.')\n",
    "\n",
    "plt.figure()\n",
    "plt.plot(means_df['aper_height']*means_df['aper_width'], (means_df['edepth'] / uncs_df['edepth']),'.')"
   ]
  },
  {
   "cell_type": "code",
   "execution_count": null,
   "metadata": {},
   "outputs": [],
   "source": [
    "mesh_widths_sorted = np.argsort(mesh_widths)\n",
    "mesh_heights_sorted = np.argsort(mesh_heights)\n",
    "\n",
    "plt.figure()\n",
    "plt.plot(means_df['aper_width'], means_df['mean'],'.')\n",
    "plt.plot(means_df['aper_height'], means_df['mean'],'.')\n",
    "\n",
    "plt.figure()\n",
    "plt.plot(means_df['aper_height']*means_df['aper_width'], means_df['mean'],'.')"
   ]
  },
  {
   "cell_type": "markdown",
   "metadata": {
    "colab_type": "text",
    "id": "Ka3b7ucAp_2q"
   },
   "source": [
    "That looks pretty good!\n",
    "Fitting this without *exoplanet* would have taken a lot more patience.\n",
    "\n",
    "Now we can also look at the [corner plot](https://corner.readthedocs.io) of some of that parameters of interest:"
   ]
  },
  {
   "cell_type": "code",
   "execution_count": null,
   "metadata": {},
   "outputs": [],
   "source": [
    "import pygtc\n",
    "import corner"
   ]
  },
  {
   "cell_type": "code",
   "execution_count": null,
   "metadata": {},
   "outputs": [],
   "source": [
    "trace = fine_grain_mcmcs_w_xcenterfit[colname]['trace']"
   ]
  },
  {
   "cell_type": "code",
   "execution_count": null,
   "metadata": {},
   "outputs": [],
   "source": [
    "n_lightcurves_fwd = trace['light_curves_fwd'].shape[0]\n",
    "light_curves_fwd = trace['light_curves_fwd'].reshape(trace['light_curves_fwd'].shape[:2])#trace['mean_fwd'][:,None]\n",
    "\n",
    "n_lightcurves_rev = trace['light_curves_rev'].shape[0]\n",
    "light_curves_rev = trace['light_curves_rev'].reshape(trace['light_curves_rev'].shape[:2])#trace['mean_rev'][:,None]\n",
    "\n",
    "for k in np.random.choice(np.arange(n_lightcurves_fwd), size=100):\n",
    "    plt.plot(t[idx_fwd], light_curves_fwd[k], '.', color='C0', alpha=0.25)\n",
    "\n",
    "for k in np.random.choice(np.arange(n_lightcurves_rev), size=100):\n",
    "    plt.plot(t[idx_rev], light_curves_rev[k], '.', color='C1', alpha=0.25)\n",
    "\n",
    "plt.ylim(-1e-5, 1e-6);\n",
    "plt.xlim(t0_guess - 0.1, t0_guess + 0.1);"
   ]
  },
  {
   "cell_type": "code",
   "execution_count": null,
   "metadata": {
    "colab": {
     "base_uri": "https://localhost:8080/",
     "height": 983
    },
    "colab_type": "code",
    "id": "jfCeokGEp_2q",
    "outputId": "7bf78c3f-897d-4f23-cc05-b80a9c1fbcd6"
   },
   "outputs": [],
   "source": [
    "for colname in tqdm(aper_sum_columns):\n",
    "    trace = fine_grain_mcmcs_w_xcenterfit[colname]['trace']\n",
    "    \n",
    "    samples = pm.trace_to_dataframe(trace, varnames=varnames)\n",
    "    truth = [0.0, 1.0, 1.0, 0.0]\n",
    "    corner.corner(samples, truths=truth, labels=varnames);"
   ]
  },
  {
   "cell_type": "markdown",
   "metadata": {
    "colab_type": "text",
    "id": "MpMLcJQOp_2s"
   },
   "source": [
    "## Phase plots\n",
    "\n",
    "Like in the radial velocity tutorial (:ref:`rv`), we can make plots of the model predictions for each planet."
   ]
  },
  {
   "cell_type": "code",
   "execution_count": null,
   "metadata": {},
   "outputs": [],
   "source": [
    "line_fit.shape"
   ]
  },
  {
   "cell_type": "code",
   "execution_count": null,
   "metadata": {
    "colab": {
     "base_uri": "https://localhost:8080/",
     "height": 490
    },
    "colab_type": "code",
    "id": "WjqqqQGIp_2t",
    "outputId": "23dd3dec-e1ba-4464-b4d4-997746b357cd"
   },
   "outputs": [],
   "source": [
    "plt.figure()\n",
    "# Get the posterior median orbital parameters\n",
    "p = period\n",
    "# t0 = np.median(trace[\"t0\"])\n",
    "\n",
    "# Plot the folded data\n",
    "line_fit =  + trace['slope_xcenter'] + trace['slope']\n",
    "line_fit = slope * (t-t0_guess) + mean + slope * (xcenters-np.median(xcenters))\n",
    "\n",
    "plt.errorbar(times[idx_fwd] - t0, (data - line_fit + 1.0)[idx_fwd], yerr=yerr[idx_fwd], fmt=\".\", color='C0', label=\"fwd data\", zorder=-1000)\n",
    "plt.errorbar(times[idx_rev] - t0, (data - line_fit + 1.0)[idx_rev], yerr=yerr[idx_rev], fmt=\".\", color='C3', label=\"rev data\", zorder=-1000)\n",
    "\n",
    "# Plot the folded model\n",
    "preds_fwd = trace[\"light_curves\"][:,:,0]\n",
    "# preds_rev = trace[\"light_curves\"][:,:,0] + trace[\"mean\"][:, None]\n",
    "pred_fwd = np.median(preds_fwd, axis=0)\n",
    "# pred_rev = np.median(preds_rev, axis=0)\n",
    "\n",
    "\n",
    "plt.plot(times - t0, pred_fwd, color=\"C1\", label=\"model\", zorder=10)\n",
    "# plt.plot(t[idx_rev] - t0, pred_rev, color=\"C2\", label=\"model\", zorder=10)\n",
    "plt.axhline(1.0, ls='--', color='k')\n",
    "\n",
    "# Annotate the plot with the planet's period\n",
    "txt = f\"Eclipse Depth = {np.mean(trace['edepth']*1e6):.0f}\"\n",
    "txt += f\" +/- {np.std(trace['edepth']*1e6):.0f} ppm\"\n",
    "\n",
    "plt.annotate(\n",
    "    txt,\n",
    "    (0, 0),\n",
    "    xycoords=\"axes fraction\",\n",
    "    xytext=(5, 5),\n",
    "    textcoords=\"offset points\",\n",
    "    ha=\"left\",\n",
    "    va=\"bottom\",\n",
    "    fontsize=12,\n",
    ")\n",
    "\n",
    "add_traces = False\n",
    "if add_traces:\n",
    "    n_traces = 1000\n",
    "    \n",
    "    idx_rand = np.random.choice(np.arange(preds_fwd.shape[0]), size=n_traces, replace=False)\n",
    "    for pred_ in preds_fwd[idx_rand]:\n",
    "        plt.plot(times - t0, pred_, color=\"grey\", alpha=0.5, zorder=0)\n",
    "\n",
    "    # idx_rand = np.random.choice(np.arange(preds_fwd.shape[0]), size=n_traces, replace=False)\n",
    "    # for pred_ in preds_rev[idx_rand]:\n",
    "    #     plt.plot(t[idx_rev] - t0, pred_, color=\"grey\", alpha=0.5, zorder=0)\n",
    "\n",
    "plt.legend(fontsize=10, loc=4)\n",
    "plt.xlim((times - t0).min(), (times - t0).max())\n",
    "plt.xlabel(\"Time Since Eclipse [days]\")\n",
    "plt.ylabel(\"Relative Flux\")\n",
    "plt.title(\"PlanetName UVIS Eclipse\");"
   ]
  },
  {
   "cell_type": "markdown",
   "metadata": {
    "colab_type": "text",
    "id": "_DCj2Oh6p_2v"
   },
   "source": [
    "## Citations\n",
    "\n",
    "As described in the :ref:`citation` tutorial, we can use :func:`exoplanet.citations.get_citations_for_model` to construct an acknowledgement and BibTeX listing that includes the relevant citations for this model.\n",
    "This is especially important here because we have used quite a few model components that should be cited."
   ]
  },
  {
   "cell_type": "code",
   "execution_count": null,
   "metadata": {
    "colab": {
     "base_uri": "https://localhost:8080/",
     "height": 67
    },
    "colab_type": "code",
    "id": "hn6rJIQVp_2v",
    "outputId": "3f1e259e-984c-4934-d986-b9a44cf1ba70"
   },
   "outputs": [],
   "source": [
    "with model:\n",
    "    txt, bib = xo.citations.get_citations_for_model()\n",
    "print(txt)"
   ]
  },
  {
   "cell_type": "code",
   "execution_count": null,
   "metadata": {
    "colab": {
     "base_uri": "https://localhost:8080/",
     "height": 202
    },
    "colab_type": "code",
    "id": "qOIgfN87p_2x",
    "outputId": "69589eb5-c895-4753-dfc9-8aa3a043a989"
   },
   "outputs": [],
   "source": [
    "print(\"\\n\".join(bib.splitlines()[:10]) + \"\\n...\")"
   ]
  },
  {
   "cell_type": "code",
   "execution_count": null,
   "metadata": {
    "colab": {},
    "colab_type": "code",
    "id": "v8yMkKOXp_2z"
   },
   "outputs": [],
   "source": []
  }
 ],
 "metadata": {
  "colab": {
   "collapsed_sections": [],
   "machine_shape": "hm",
   "name": "planet name exoplanet transit tutorial.ipynb",
   "provenance": []
  },
  "kernelspec": {
   "display_name": "Python 3",
   "language": "python",
   "name": "python3"
  },
  "language_info": {
   "codemirror_mode": {
    "name": "ipython",
    "version": 3
   },
   "file_extension": ".py",
   "mimetype": "text/x-python",
   "name": "python",
   "nbconvert_exporter": "python",
   "pygments_lexer": "ipython3",
   "version": "3.7.2"
  }
 },
 "nbformat": 4,
 "nbformat_minor": 2
}
