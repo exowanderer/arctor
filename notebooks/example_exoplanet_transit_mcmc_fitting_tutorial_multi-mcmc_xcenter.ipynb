{
 "cells": [
  {
   "cell_type": "code",
   "execution_count": 1,
   "metadata": {
    "colab": {},
    "colab_type": "code",
    "id": "cQ0H-RyAp_2T"
   },
   "outputs": [],
   "source": [
    "%matplotlib inline"
   ]
  },
  {
   "cell_type": "code",
   "execution_count": 2,
   "metadata": {
    "colab": {},
    "colab_type": "code",
    "id": "1o7Q6X8TCXnt"
   },
   "outputs": [],
   "source": [
    "import os"
   ]
  },
  {
   "cell_type": "code",
   "execution_count": 3,
   "metadata": {
    "colab": {},
    "colab_type": "code",
    "id": "Qpt0amocp_2X"
   },
   "outputs": [],
   "source": [
    "%run notebook_setup"
   ]
  },
  {
   "cell_type": "markdown",
   "metadata": {
    "colab_type": "text",
    "id": "j-ZULzpx60SU"
   },
   "source": [
    "# Load data in from Google Drive"
   ]
  },
  {
   "cell_type": "markdown",
   "metadata": {
    "colab_type": "text",
    "id": "kJOWjvPFCj2M"
   },
   "source": [
    "from google.colab import drive\n",
    "drive.mount('/content/drive')"
   ]
  },
  {
   "cell_type": "markdown",
   "metadata": {
    "colab_type": "text",
    "id": "_2LRtWCAp_2Z"
   },
   "source": [
    "# Transit fitting"
   ]
  },
  {
   "cell_type": "markdown",
   "metadata": {
    "colab_type": "text",
    "id": "oRQyaGBOp_2a"
   },
   "source": [
    "*exoplanet* includes methods for computing the light curves transiting planets.\n",
    "In its simplest form this can be used to evaluate a light curve like you would do with [batman](https://astro.uchicago.edu/~kreidberg/batman/), for example:"
   ]
  },
  {
   "cell_type": "code",
   "execution_count": 4,
   "metadata": {},
   "outputs": [],
   "source": [
    "import os\n",
    "HOME = os.environ['HOME']\n",
    "os.chdir(f'{HOME}/Research/Planets/WASP43/github_analysis/notebooks')"
   ]
  },
  {
   "cell_type": "code",
   "execution_count": 5,
   "metadata": {
    "colab": {},
    "colab_type": "code",
    "id": "nEjzyJgip_2a"
   },
   "outputs": [],
   "source": [
    "import exoplanet as xo\n",
    "import joblib\n",
    "import numpy as np\n",
    "import matplotlib.pyplot as plt\n",
    "import multiprocessing as mp\n",
    "import pandas as pd\n",
    "import pymc3 as pm\n",
    "\n",
    "from exomast_api import exoMAST_API\n",
    "from statsmodels.robust.scale import mad\n",
    "from time import time\n",
    "# from tqdm import tqdm_notebook as tqdm\n",
    "\n",
    "from arctor import create_raw_lc_stddev, Arctor, run_multiple_pymc3#, setup_and_plot_GTC\n",
    "from arctor.utils import setup_and_plot_GTC\n",
    "from arctor.utils import fit_2D_time_vs_other"
   ]
  },
  {
   "cell_type": "code",
   "execution_count": 6,
   "metadata": {},
   "outputs": [],
   "source": [
    "def debug_message(message, end='\\n'):\n",
    "    print(f'[DEBUG] {message}', end=end)\n",
    "\n",
    "\n",
    "def warning_message(message, end='\\n'):\n",
    "    print(f'[WARNING] {message}', end=end)\n",
    "\n",
    "\n",
    "def info_message(message, end='\\n'):\n",
    "    print(f'[INFO] {message}', end=end)"
   ]
  },
  {
   "cell_type": "code",
   "execution_count": 7,
   "metadata": {
    "colab": {},
    "colab_type": "code",
    "id": "GWd1PNSXDWWa"
   },
   "outputs": [],
   "source": [
    "plot_verbose = False\n",
    "save_now = False\n",
    "planet_name = 'WASP43'\n",
    "file_type = 'flt.fits'\n",
    "\n",
    "HOME = os.environ['HOME']\n",
    "base_dir = os.path.join(HOME, 'Research', 'Planets', 'WASP43')\n",
    "data_dir = os.path.join(base_dir, 'data', 'UVIS', 'MAST_2019-07-03T0738')\n",
    "data_dir = os.path.join(data_dir, 'HST', 'FLTs')\n",
    "working_dir = os.path.join(base_dir, 'github_analysis', 'savefiles')"
   ]
  },
  {
   "cell_type": "code",
   "execution_count": 8,
   "metadata": {},
   "outputs": [
    {
     "name": "stdout",
     "output_type": "stream",
     "text": [
      "[INFO] Initializing Instance of the `Arctor` Object\n"
     ]
    }
   ],
   "source": [
    "planet = Arctor(planet_name, data_dir, working_dir, file_type)\n",
    "joblib_filename = 'WASP43_savedict_206ppm_100x100_finescale.joblib.save'\n",
    "save_dir = f'{HOME}/Research/Planets/savefiles'\n",
    "joblib_filename = f'{save_dir}/{joblib_filename}'\n",
    "planet.load_dict(joblib_filename)"
   ]
  },
  {
   "cell_type": "code",
   "execution_count": 9,
   "metadata": {},
   "outputs": [
    {
     "data": {
      "text/plain": [
       "Index(['aperture_sum_11x41', 'aperture_sum_12x41', 'aperture_sum_13x41',\n",
       "       'aperture_sum_14x41', 'aperture_sum_15x41', 'aperture_sum_16x41',\n",
       "       'aperture_sum_17x41', 'aperture_sum_18x41', 'aperture_sum_19x41',\n",
       "       'aperture_sum_20x41',\n",
       "       ...\n",
       "       'aperture_sum_23x60', 'aperture_sum_24x60', 'aperture_sum_25x60',\n",
       "       'aperture_sum_26x60', 'aperture_sum_27x60', 'aperture_sum_28x60',\n",
       "       'aperture_sum_29x60', 'aperture_sum_30x60', 'xcenter', 'ycenter'],\n",
       "      dtype='object', length=402)"
      ]
     },
     "execution_count": 9,
     "metadata": {},
     "output_type": "execute_result"
    }
   ],
   "source": [
    "planet.photometry_df.columns"
   ]
  },
  {
   "cell_type": "code",
   "execution_count": 10,
   "metadata": {},
   "outputs": [],
   "source": [
    "if not hasattr(planet, 'photometry_df'):\n",
    "    # planet.load_dict(joblib_filename)\n",
    "    planet.clean_cosmic_rays()\n",
    "    planet.calibration_trace_location()\n",
    "    planet.identify_trace_direction()\n",
    "    planet.simple_phots()\n",
    "    planet.center_all_traces()\n",
    "    planet.fit_trace_slopes()\n",
    "    planet.compute_sky_background(subpixels=32)\n",
    "    planet.compute_columnwise_sky_background()"
   ]
  },
  {
   "cell_type": "markdown",
   "metadata": {},
   "source": [
    "# Run Multi-Phot"
   ]
  },
  {
   "cell_type": "code",
   "execution_count": 11,
   "metadata": {},
   "outputs": [],
   "source": [
    "if not hasattr(planet, 'photometry_df'):\n",
    "    # Set up the list of aperture widths and heights to search\n",
    "    min_aper_width = 1\n",
    "    max_aper_width = 100\n",
    "    min_aper_height = 1\n",
    "    max_aper_height = 100\n",
    "\n",
    "    aper_widths = np.arange(min_aper_width, max_aper_width + 2, 5)\n",
    "    aper_heights = np.arange(min_aper_height, max_aper_height + 2, 5)\n",
    "    \n",
    "    planet.do_multi_phot(aper_widths, aper_heights)"
   ]
  },
  {
   "cell_type": "markdown",
   "metadata": {},
   "source": [
    "# Determine the 'best' photometry SNR"
   ]
  },
  {
   "cell_type": "code",
   "execution_count": 12,
   "metadata": {},
   "outputs": [],
   "source": [
    "med_photometry_df = np.median(planet.photometry_df, axis=0)\n",
    "planet.normed_photometry_df = planet.photometry_df / med_photometry_df\n",
    "planet.normed_uncertainty_df = np.sqrt(planet.photometry_df) / med_photometry_df"
   ]
  },
  {
   "cell_type": "code",
   "execution_count": 13,
   "metadata": {},
   "outputs": [],
   "source": [
    "planet_fine_photometry_df = planet.photometry_df.copy()"
   ]
  },
  {
   "cell_type": "code",
   "execution_count": 14,
   "metadata": {},
   "outputs": [],
   "source": [
    "fine_snr_lightcurves = create_raw_lc_stddev(planet)\n",
    "fine_min_snr = fine_snr_lightcurves[fine_snr_lightcurves.argmin()]\n",
    "fine_min_snr_colname = planet.photometry_df.columns[fine_snr_lightcurves.argmin()]\n",
    "fine_min_snr_flux = planet.normed_photometry_df[fine_min_snr_colname]\n",
    "fine_min_snr_uncs = planet.normed_uncertainty_df[fine_min_snr_colname]\n",
    "fine_temp = fine_min_snr_colname.split('_')[-1].split('x')\n",
    "fine_min_snr_aper_width, fine_min_snr_aper_height = np.int32(fine_temp)"
   ]
  },
  {
   "cell_type": "code",
   "execution_count": 15,
   "metadata": {},
   "outputs": [
    {
     "name": "stdout",
     "output_type": "stream",
     "text": [
      "[INFO] Fine Aperture Photometry Resulted in 209ppm with 20x50 aperture size; with median uncertainties of 126 ppm\n"
     ]
    }
   ],
   "source": [
    "info_message(f'Fine Aperture Photometry Resulted in {fine_min_snr:0.0f}ppm with '\n",
    "             f'{fine_min_snr_aper_width}x{fine_min_snr_aper_height} aperture size; '\n",
    "             f'with median uncertainties of {np.median(fine_min_snr_uncs)*1e6:0.0f} ppm')"
   ]
  },
  {
   "cell_type": "markdown",
   "metadata": {},
   "source": [
    "# Configure system for PyMC3"
   ]
  },
  {
   "cell_type": "code",
   "execution_count": 16,
   "metadata": {
    "colab": {},
    "colab_type": "code",
    "id": "jqJxdF0I7bTK"
   },
   "outputs": [],
   "source": [
    "idx_fwd = planet.idx_fwd\n",
    "idx_rev = planet.idx_rev"
   ]
  },
  {
   "cell_type": "code",
   "execution_count": 17,
   "metadata": {
    "colab": {
     "base_uri": "https://localhost:8080/",
     "height": 464
    },
    "colab_type": "code",
    "id": "6vGrEIEv7YnO",
    "outputId": "bfed0117-0b8a-423e-f2a1-13068d698e0e"
   },
   "outputs": [],
   "source": [
    "# Compute a limb-darkened light curve using starry\n",
    "times = planet.times\n",
    "u = []\n",
    "flux = planet.normed_photometry_df[fine_min_snr_colname]\n",
    "yerr = planet.normed_uncertainty_df[fine_min_snr_colname]"
   ]
  },
  {
   "cell_type": "raw",
   "metadata": {
    "colab": {
     "base_uri": "https://localhost:8080/",
     "height": 464
    },
    "colab_type": "code",
    "id": "6vGrEIEv7YnO",
    "outputId": "bfed0117-0b8a-423e-f2a1-13068d698e0e"
   },
   "source": [
    "plt.errorbar(times[idx_fwd], flux[idx_fwd], yerr[idx_fwd], fmt='o', color=\"C0\")\n",
    "plt.errorbar(times[idx_rev], flux[idx_rev], yerr[idx_rev], fmt='o', color=\"C3\")\n",
    "plt.axhline(1.0, ls='--', color='C1')\n",
    "plt.ylabel(\"relative flux\")\n",
    "plt.xlabel(\"time [days]\")\n",
    "plt.xlim(times.min(), times.max());"
   ]
  },
  {
   "cell_type": "markdown",
   "metadata": {
    "colab_type": "text",
    "id": "UDHaejnap_2d"
   },
   "source": [
    "But the real power comes from the fact that this is defined as a [Theano operation](http://deeplearning.net/software/theano/extending/extending_theano.html) so it can be combined with PyMC3 to do transit inference using Hamiltonian Monte Carlo.\n",
    "\n",
    "## The transit model in PyMC3\n",
    "\n",
    "In this section, we will construct a simple transit fit model using *PyMC3* and then we will fit a two planet model to simulated data.\n",
    "To start, let's randomly sample some periods and phases and then define the time sampling:"
   ]
  },
  {
   "cell_type": "markdown",
   "metadata": {
    "colab_type": "text",
    "id": "So0C6fKop_2g"
   },
   "source": [
    "Then, define the parameters.\n",
    "In this simple model, we'll just fit for the limb darkening parameters of the star, and the period, phase, impact parameter, and radius ratio of the planets (note: this is already 10 parameters and running MCMC to convergence using [emcee](https://emcee.readthedocs.io) would probably take at least an hour).\n",
    "For the limb darkening, we'll use a quadratic law as parameterized by [Kipping (2013)](https://arxiv.org/abs/1308.0009).\n",
    "This reparameterizations is implemented in *exoplanet* as custom *PyMC3* distribution :class:`exoplanet.distributions.QuadLimbDark`."
   ]
  },
  {
   "cell_type": "code",
   "execution_count": 18,
   "metadata": {
    "colab": {
     "base_uri": "https://localhost:8080/",
     "height": 34
    },
    "colab_type": "code",
    "id": "z-oUic6qrjXZ",
    "outputId": "85f6974f-cbc1-476a-d3ce-3372c7f02451"
   },
   "outputs": [
    {
     "name": "stdout",
     "output_type": "stream",
     "text": [
      "This instance has 16 CPUs\n"
     ]
    }
   ],
   "source": [
    "print(f'This instance has {mp.cpu_count()} CPUs')"
   ]
  },
  {
   "cell_type": "code",
   "execution_count": 19,
   "metadata": {},
   "outputs": [],
   "source": [
    "wasp43 = exoMAST_API('WASP43b')\n",
    "t0_wasp43 = wasp43.transit_time  # 55528.3684  # exo.mast.stsci.edu\n",
    "period_wasp43 = wasp43.orbital_period\n",
    "n_epochs = np.int(np.round(((np.median(times) - t0_wasp43) / period_wasp43)-0.5))\n",
    "t0_guess = t0_wasp43 + (n_epochs+0.5) * period_wasp43"
   ]
  },
  {
   "cell_type": "code",
   "execution_count": 20,
   "metadata": {
    "colab": {},
    "colab_type": "code",
    "id": "f5jMP0gg2Gxy"
   },
   "outputs": [],
   "source": [
    "b_wasp43 = wasp43.impact_parameter # 0.66 # Hellier 2011\n",
    "u = [0]\n",
    "edepth = np.sqrt(500/1e6)\n",
    "\n",
    "orbit_wasp43 = xo.orbits.KeplerianOrbit(period=period_wasp43, t0=t0_guess, b=b_wasp43)\n",
    "injected_light_curves = xo.LimbDarkLightCurve(u).get_light_curve(orbit=orbit_wasp43, r=edepth, t=times).eval().flatten()"
   ]
  },
  {
   "cell_type": "raw",
   "metadata": {
    "colab": {
     "base_uri": "https://localhost:8080/",
     "height": 464
    },
    "colab_type": "code",
    "id": "jcnrG-JX2l4Y",
    "outputId": "4def2a2b-1baa-4698-d8a1-3d55289ff259"
   },
   "source": [
    "plt.rcParams['figure.figsize'] = (10,6)\n",
    "plt.errorbar(times, flux, yerr, fmt='o')#  * (injected_light_curves+1)\n",
    "plt.plot(times, injected_light_curves+1,'o')\n",
    "plt.ylabel(\"relative flux\")\n",
    "plt.xlabel(\"time [days]\")\n",
    "plt.xlim(times.min(), times.max());"
   ]
  },
  {
   "cell_type": "markdown",
   "metadata": {},
   "source": [
    "# Run 400 MCMCs"
   ]
  },
  {
   "cell_type": "code",
   "execution_count": 21,
   "metadata": {},
   "outputs": [],
   "source": [
    "fine_snr_flux = planet.normed_photometry_df\n",
    "fine_snr_uncs = planet.normed_uncertainty_df\n",
    "\n",
    "n_columns = len(fine_snr_flux.columns)\n",
    "\n",
    "aper_sum_columns = planet.normed_photometry_df.drop(\n",
    "    ['xcenter', 'ycenter'], axis=1).columns\n",
    "\n",
    "xcenters = planet.photometry_df['xcenter']\n",
    "ycenters = planet.photometry_df['ycenter']\n",
    "xcenters_mod = xcenters - np.median(xcenters)\n",
    "ycenters_mod = ycenters - np.median(ycenters)\n",
    "times_mod = times - t0_guess#np.median(times)"
   ]
  },
  {
   "cell_type": "code",
   "execution_count": 22,
   "metadata": {},
   "outputs": [],
   "source": [
    "n_space = 2\n",
    "near_best_apertures_NxN_small = [f'aperture_sum_{aper_width_}x{aper_height_}' \n",
    "                       for aper_width_ in (np.arange(-n_space+1,n_space)+fine_min_snr_aper_width)\n",
    "                       for aper_height_ in (np.arange(-n_space+1,n_space)+fine_min_snr_aper_height)]"
   ]
  },
  {
   "cell_type": "code",
   "execution_count": 23,
   "metadata": {},
   "outputs": [
    {
     "data": {
      "text/plain": [
       "(['aperture_sum_19x49',\n",
       "  'aperture_sum_19x50',\n",
       "  'aperture_sum_19x51',\n",
       "  'aperture_sum_20x49',\n",
       "  'aperture_sum_20x50',\n",
       "  'aperture_sum_20x51',\n",
       "  'aperture_sum_21x49',\n",
       "  'aperture_sum_21x50',\n",
       "  'aperture_sum_21x51'],\n",
       " 9)"
      ]
     },
     "execution_count": 23,
     "metadata": {},
     "output_type": "execute_result"
    }
   ],
   "source": [
    "near_best_apertures_NxN_small,len(near_best_apertures_NxN_small)"
   ]
  },
  {
   "cell_type": "markdown",
   "metadata": {},
   "source": [
    "# RUN ALL 12 IN ONE FUNCTION"
   ]
  },
  {
   "cell_type": "raw",
   "metadata": {},
   "source": [
    "from arctor.utils import run_all_12_options\n",
    "plt.rcParams['figure.figsize'] = (10, 6)\n",
    "\n",
    "tune = 3000\n",
    "draws = 3000\n",
    "target_accept = 0.9\n",
    "do_mcmc = False\n",
    "save_as_you_go = False\n",
    "\n",
    "base_name = 'WASP43_fine_grain_photometry_208ppm'\n",
    "base_name = f'{base_name}_near_best_{n_space}x{n_space}'\n",
    "near_best_apertures_NxN_small = [fine_min_snr_colname]  # aper_sum_columns,  #\n",
    "\n",
    "mcmc_fits_all_12 = run_all_12_options(times,\n",
    "                                      fine_snr_flux,\n",
    "                                      fine_snr_uncs,\n",
    "                                      near_best_apertures_NxN_small,\n",
    "                                      xcenters=planet.trace_xcenters - np.median(planet.trace_xcenters),\n",
    "                                      ycenters=planet.trace_ycenters - np.median(planet.trace_ycenters),\n",
    "                                      trace_angles=planet.trace_angles - np.median(planet.trace_angles),\n",
    "                                      trace_lengths=planet.trace_lengths - np.median(planet.trace_lengths),\n",
    "                                      t0=t0_guess,\n",
    "                                      u=u,\n",
    "                                      period=period_wasp43,\n",
    "                                      b=b_wasp43,\n",
    "                                      idx_fwd=idx_fwd,\n",
    "                                      idx_rev=idx_rev,\n",
    "                                      tune=tune,\n",
    "                                      draws=draws,\n",
    "                                      target_accept=target_accept,\n",
    "                                      do_mcmc=do_mcmc,\n",
    "                                      save_as_you_go=save_as_you_go,\n",
    "                                      injected_light_curve=1.0,\n",
    "                                      working_dir=working_dir,\n",
    "                                      base_name=base_name)"
   ]
  },
  {
   "cell_type": "markdown",
   "metadata": {},
   "source": [
    "# RUN ALL 12 MANUALLY"
   ]
  },
  {
   "cell_type": "raw",
   "metadata": {},
   "source": [
    "start0 = time()\n",
    "# Linear Eclipse Depths with Negative Allowed\n",
    "start1 = time()\n",
    "print('Linear Eclipse depth fits - Allow Negative Eclipse Depths')\n",
    "fine_grain_mcmcs, filename = run_multiple_pymc3(\n",
    "    times, fine_snr_flux, fine_snr_uncs, near_best_apertures_NxN_small,\n",
    "    t0=t0_guess, u=u, period=period_wasp43, b=b_wasp43,\n",
    "    idx_fwd=idx_fwd, idx_rev=idx_rev,\n",
    "    tune=tune, draws=draws, target_accept=target_accept,\n",
    "    do_mcmc=do_mcmc, save_as_you_go=save_as_you_go,\n",
    "    injected_light_curve=1.0, base_name=base_name, working_dir=working_dir,\n",
    "    xcenters=None,\n",
    "    allow_negative_edepths=True,\n",
    "    use_rev_fwd_split=False,\n",
    "    use_log_edepth=False\n",
    ")\n",
    "\n",
    "fine_grain_mcmcs_no_xcenter_lin_edepth_no_split_w_negEcl = fine_grain_mcmcs\n",
    "filename_no_xcenter_lin_edepth_no_split_w_negEcl = filename\n",
    "print(f'[INFO] This MCMCs took {(time() - start1)/60:0.2f} minutes')\n",
    "\n",
    "del fine_grain_mcmcs, filename\n",
    "\n",
    "start1 = time()\n",
    "print('Linear Eclipse depth fits - Allow Negative Eclipse Depths with splitting fwd rev')\n",
    "fine_grain_mcmcs, filename = run_multiple_pymc3(\n",
    "    times, fine_snr_flux, fine_snr_uncs, near_best_apertures_NxN_small,\n",
    "    t0=t0_guess, u=u, period=period_wasp43, b=b_wasp43,\n",
    "    idx_fwd=idx_fwd, idx_rev=idx_rev,\n",
    "    tune=tune, draws=draws, target_accept=target_accept,\n",
    "    do_mcmc=do_mcmc, save_as_you_go=save_as_you_go,\n",
    "    injected_light_curve=1.0, base_name=base_name, working_dir=working_dir,\n",
    "    xcenters=None,  # SAME\n",
    "    allow_negative_edepths=True,  # SAME\n",
    "    use_rev_fwd_split=True,  # DIFFERENT\n",
    "    use_log_edepth=False  # SAME\n",
    ")\n",
    "fine_grain_mcmcs_with_no_xcenter_lin_edepth_w_split_w_negEcl = fine_grain_mcmcs\n",
    "filename_with_no_xcenter_lin_edepth_w_split_w_negEcl = filename\n",
    "\n",
    "print(f'[INFO] This MCMCs took {(time() - start1)/60:0.2f} minutes')\n",
    "\n",
    "del fine_grain_mcmcs, filename\n",
    "\n",
    "start1 = time()\n",
    "print('Linear Eclipse depth fits - Allow Negative Eclipse Depths with xcenter')\n",
    "fine_grain_mcmcs, filename = run_multiple_pymc3(\n",
    "    times, fine_snr_flux, fine_snr_uncs, near_best_apertures_NxN_small,\n",
    "    t0=t0_guess, u=u, period=period_wasp43, b=b_wasp43,\n",
    "    idx_fwd=idx_fwd, idx_rev=idx_rev,\n",
    "    tune=tune, draws=draws, target_accept=target_accept,\n",
    "    do_mcmc=do_mcmc, save_as_you_go=save_as_you_go,\n",
    "    injected_light_curve=1.0, base_name=base_name, working_dir=working_dir,\n",
    "    xcenters=xcenters_mod,  # DIFFERENT\n",
    "    allow_negative_edepths=True,  # SAME\n",
    "    use_rev_fwd_split=False,  # SAME\n",
    "    use_log_edepth=False,  # SAME\n",
    ")\n",
    "\n",
    "fine_grain_mcmcs_with_w_xcenter_lin_edepth_no_split_w_negEcl = fine_grain_mcmcs\n",
    "filename_with_w_xcenter_lin_edepth_no_split_w_negEcl = filename\n",
    "print(f'[INFO] This MCMCs took {(time() - start1)/60:0.2f} minutes')\n",
    "\n",
    "del fine_grain_mcmcs, filename\n",
    "\n",
    "start1 = time()\n",
    "print('Linear Eclipse depth fits - '\n",
    "      'Allow Negative Eclipse Depths with xcenter and splitting fwd rev')\n",
    "fine_grain_mcmcs, filename = run_multiple_pymc3(\n",
    "    times, fine_snr_flux, fine_snr_uncs, near_best_apertures_NxN_small,\n",
    "    t0=t0_guess, u=u, period=period_wasp43, b=b_wasp43,\n",
    "    idx_fwd=idx_fwd, idx_rev=idx_rev,\n",
    "    tune=tune, draws=draws, target_accept=target_accept,\n",
    "    do_mcmc=do_mcmc, save_as_you_go=save_as_you_go,\n",
    "    injected_light_curve=1.0, base_name=base_name, working_dir=working_dir,\n",
    "    xcenters=xcenters_mod,  # SAME\n",
    "    allow_negative_edepths=True,  # SAME\n",
    "    use_rev_fwd_split=True,  # DIFFERENT\n",
    "    use_log_edepth=False  # SAME\n",
    ")\n",
    "\n",
    "fine_grain_mcmcs_with_w_xcenter_lin_edepth_w_split_w_negEcl = fine_grain_mcmcs\n",
    "filename_with_w_xcenter_lin_edepth_w_split_w_negEcl = filename\n",
    "print(f'[INFO] This MCMCs took {(time() - start1)/60:0.2f} minutes')\n",
    "\n",
    "del fine_grain_mcmcs, filename\n",
    "\n",
    "start1 = time()\n",
    "# Linear Eclipse Depths without Negative Allowed\n",
    "print('Linear Eclipse depth fits - Default everything')\n",
    "fine_grain_mcmcs, filename = run_multiple_pymc3(\n",
    "    times, fine_snr_flux, fine_snr_uncs, near_best_apertures_NxN_small,\n",
    "    t0=t0_guess, u=u, period=period_wasp43, b=b_wasp43, idx_fwd=idx_fwd, idx_rev=idx_rev,\n",
    "    tune=tune, draws=draws, target_accept=target_accept,\n",
    "    injected_light_curve=1.0, base_name=base_name, working_dir=working_dir,\n",
    "    do_mcmc=do_mcmc, save_as_you_go=save_as_you_go,\n",
    "    xcenters=None,  # DIFFERENT\n",
    "    allow_negative_edepths=False,  # DIFFERENT\n",
    "    use_rev_fwd_split=False,  # DIFFERENT\n",
    "    use_log_edepth=False  # SAME\n",
    ")\n",
    "\n",
    "fine_grain_mcmcs_with_no_xcenter_lin_edepth_no_split = fine_grain_mcmcs\n",
    "filename_with_no_xcenter_lin_edepth_no_split = filename\n",
    "print(f'[INFO] This MCMCs took {(time() - start1)/60:0.2f} minutes')\n",
    "\n",
    "del fine_grain_mcmcs, filename\n",
    "\n",
    "start1 = time()\n",
    "print('Linear Eclipse depth fits - Everything with splitting fwd rev')\n",
    "fine_grain_mcmcs, filename = run_multiple_pymc3(\n",
    "    times, fine_snr_flux, fine_snr_uncs, near_best_apertures_NxN_small,\n",
    "    t0=t0_guess, u=u, period=period_wasp43, b=b_wasp43, idx_fwd=idx_fwd, idx_rev=idx_rev,\n",
    "    tune=tune, draws=draws, target_accept=target_accept,\n",
    "    injected_light_curve=1.0, base_name=base_name, working_dir=working_dir,\n",
    "    do_mcmc=do_mcmc, save_as_you_go=save_as_you_go,\n",
    "    xcenters=None,  # SAME\n",
    "    allow_negative_edepths=False,  # SAME\n",
    "    use_rev_fwd_split=True,  # DIFFERENT\n",
    "    use_log_edepth=False,  # SAME\n",
    ")\n",
    "\n",
    "fine_grain_mcmcs_with_no_xcenter_lin_edepth_w_split = fine_grain_mcmcs\n",
    "filename_with_no_xcenter_lin_edepth_w_split = filename\n",
    "\n",
    "print(f'[INFO] This MCMCs took {(time() - start1)/60:0.2f} minutes')\n",
    "\n",
    "del fine_grain_mcmcs, filename\n",
    "\n",
    "start1 = time()\n",
    "print('Linear Eclipse depth fits - Everything with xcenter')\n",
    "fine_grain_mcmcs, filename = run_multiple_pymc3(\n",
    "    times, fine_snr_flux, fine_snr_uncs, near_best_apertures_NxN_small,\n",
    "    t0=t0_guess, u=u, period=period_wasp43, b=b_wasp43,\n",
    "    idx_fwd=idx_fwd, idx_rev=idx_rev,\n",
    "    tune=tune, draws=draws, target_accept=target_accept,\n",
    "    do_mcmc=do_mcmc, save_as_you_go=save_as_you_go,\n",
    "    injected_light_curve=1.0, base_name=base_name, working_dir=working_dir,\n",
    "    xcenters=xcenters_mod,  # DIFFERENT\n",
    "    allow_negative_edepths=False,  # SAME\n",
    "    use_rev_fwd_split=False,  # DIFFERENT\n",
    "    use_log_edepth=False  # SAME\n",
    ")\n",
    "\n",
    "fine_grain_mcmcs_with_w_xcenter_lin_edepth_no_split = fine_grain_mcmcs\n",
    "filename_with_w_xcenter_lin_edepth_no_split = filename\n",
    "\n",
    "print(f'[INFO] This MCMCs took {(time() - start1)/60:0.2f} minutes')\n",
    "\n",
    "del fine_grain_mcmcs, filename\n",
    "\n",
    "start1 = time()\n",
    "print('Linear Eclipse depth fits - '\n",
    "      'Everything with xcenter and splitting fwd rev')\n",
    "fine_grain_mcmcs, filename = run_multiple_pymc3(\n",
    "    times, fine_snr_flux, fine_snr_uncs, near_best_apertures_NxN_small,\n",
    "    t0=t0_guess, u=u, period=period_wasp43, b=b_wasp43,\n",
    "    idx_fwd=idx_fwd, idx_rev=idx_rev,\n",
    "    tune=tune, draws=draws, target_accept=target_accept,\n",
    "    do_mcmc=do_mcmc, save_as_you_go=save_as_you_go,\n",
    "    injected_light_curve=1.0, base_name=base_name, working_dir=working_dir,\n",
    "    xcenters=xcenters_mod,  # SAME\n",
    "    allow_negative_edepths=False,  # SAME\n",
    "    use_rev_fwd_split=True,  # DIFFERENT\n",
    "    use_log_edepth=False)  # SAME\n",
    "\n",
    "fine_grain_mcmcs_with_w_xcenter_lin_edepth_w_split = fine_grain_mcmcs\n",
    "filename_with_w_xcenter_lin_edepth_w_split = filename\n",
    "\n",
    "print(f'[INFO] This MCMCs took {(time() - start1)/60:0.2f} minutes')\n",
    "\n",
    "del fine_grain_mcmcs, filename\n",
    "\n",
    "# Logarithmic Eclipse Depths\n",
    "start1 = time()\n",
    "print('Log Eclipse depth fits - Default everything')\n",
    "fine_grain_mcmcs, filename = run_multiple_pymc3(\n",
    "    times, fine_snr_flux, fine_snr_uncs, near_best_apertures_NxN_small,\n",
    "    t0=t0_guess, u=u, period=period_wasp43, b=b_wasp43,\n",
    "    idx_fwd=idx_fwd, idx_rev=idx_rev,\n",
    "    tune=tune, draws=draws, target_accept=target_accept,\n",
    "    do_mcmc=do_mcmc, save_as_you_go=save_as_you_go,\n",
    "    injected_light_curve=1.0, base_name=base_name, working_dir=working_dir,\n",
    "    xcenters=None,  # DIFFERENT\n",
    "    allow_negative_edepths=False,  # SAME\n",
    "    use_rev_fwd_split=False,  # DIFFERENT\n",
    "    use_log_edepth=True  # DIFFERENT\n",
    ")\n",
    "\n",
    "fine_grain_mcmcs_with_no_xcenter_log_edepth_no_split = fine_grain_mcmcs\n",
    "filename_with_no_xcenter_log_edepth_no_split = filename\n",
    "\n",
    "print(f'[INFO] This MCMCs took {(time() - start1)/60:0.2f} minutes')\n",
    "\n",
    "del fine_grain_mcmcs, filename\n",
    "\n",
    "start1 = time()\n",
    "print('Log Eclipse depth fits - Everything with splitting fwd rev')\n",
    "fine_grain_mcmcs, filename = run_multiple_pymc3(\n",
    "    times, fine_snr_flux, fine_snr_uncs, near_best_apertures_NxN_small,\n",
    "    t0=t0_guess, u=u, period=period_wasp43, b=b_wasp43,\n",
    "    idx_fwd=idx_fwd, idx_rev=idx_rev,\n",
    "    tune=tune, draws=draws, target_accept=target_accept,\n",
    "    do_mcmc=do_mcmc, save_as_you_go=save_as_you_go,\n",
    "    injected_light_curve=1.0, base_name=base_name, working_dir=working_dir,\n",
    "    xcenters=None,  # SAME\n",
    "    allow_negative_edepths=False,  # SAME\n",
    "    use_rev_fwd_split=True,  # DIFFERENT\n",
    "    use_log_edepth=True  # SAME\n",
    ")\n",
    "\n",
    "fine_grain_mcmcs_with_no_xcenter_log_edepth_w_split = fine_grain_mcmcs\n",
    "filename_with_no_xcenter_log_edepth_w_split = filename\n",
    "\n",
    "print(f'[INFO] This MCMCs took {(time() - start1)/60:0.2f} minutes')\n",
    "\n",
    "start1 = time()\n",
    "print('Log Eclipse depth fits - Everything with xcenter')\n",
    "fine_grain_mcmcs, filename = run_multiple_pymc3(\n",
    "    times, fine_snr_flux, fine_snr_uncs, near_best_apertures_NxN_small,\n",
    "    t0=t0_guess, u=u, period=period_wasp43, b=b_wasp43,\n",
    "    idx_fwd=idx_fwd, idx_rev=idx_rev,\n",
    "    tune=tune, draws=draws, target_accept=target_accept,\n",
    "    do_mcmc=do_mcmc, save_as_you_go=save_as_you_go,\n",
    "    injected_light_curve=1.0, base_name=base_name, working_dir=working_dir,\n",
    "    xcenters=xcenters_mod,  # DIFFERENT\n",
    "    allow_negative_edepths=False,  # SAME\n",
    "    use_rev_fwd_split=False,  # DIFFERENT\n",
    "    use_log_edepth=True  # SAME\n",
    ")\n",
    "\n",
    "fine_grain_mcmcs_with_w_xcenter_log_edepth_no_split = fine_grain_mcmcs\n",
    "filename_with_w_xcenter_log_edepth_no_split = filename\n",
    "\n",
    "print(f'[INFO] This MCMCs took {(time() - start1)/60:0.2f} minutes')\n",
    "\n",
    "del fine_grain_mcmcs, filename\n",
    "\n",
    "start1 = time()\n",
    "print('Log Eclipse depth fits - Everything with xcenter and splitting fwd rev')\n",
    "fine_grain_mcmcs, filename = run_multiple_pymc3(\n",
    "    times, fine_snr_flux, fine_snr_uncs, near_best_apertures_NxN_small,\n",
    "    t0=t0_guess, u=u, period=period_wasp43, b=b_wasp43,\n",
    "    idx_fwd=idx_fwd, idx_rev=idx_rev,\n",
    "    tune=tune, draws=draws, target_accept=target_accept,\n",
    "    do_mcmc=do_mcmc, save_as_you_go=save_as_you_go,\n",
    "    injected_light_curve=1.0, base_name=base_name, working_dir=working_dir,\n",
    "    xcenters=xcenters_mod,  # SAME\n",
    "    allow_negative_edepths=False,  # SAME\n",
    "    use_rev_fwd_split=True,  # DIFFERENT\n",
    "    use_log_edepth=True  # SAME\n",
    ")\n",
    "\n",
    "fine_grain_mcmcs_with_w_xcenter_log_edepth_w_split = fine_grain_mcmcs\n",
    "filename_with_w_xcenter_log_edepth_w_split = filename\n",
    "\n",
    "print(f'[INFO] This MCMCs took {(time() - start1)/60:0.2f} minutes')\n",
    "\n",
    "print(f'[INFO] All 12 MCMCs took {(time() - start0)/60:0.2f} minutes')"
   ]
  },
  {
   "cell_type": "raw",
   "metadata": {},
   "source": [
    "# allow negative\n",
    "[slope, edepth, mean]\n",
    "[slope, edepth, mean_rev, mean_fwd]\n",
    "[slope_xcenter, slope, edepth, mean]\n",
    "[slope_xcenter, slope, edepth, mean_rev, mean_fwd]\n",
    "\n",
    "# all positive\n",
    "[slope, edepth, mean]\n",
    "[slope, edepth, mean_rev, mean_fwd]\n",
    "[slope_xcenter, slope, edepth, mean]\n",
    "[slope_xcenter, slope, edepth, mean_rev, mean_fwd]\n",
    "\n",
    "# log edepth\n",
    "[slope, log_edepth, mean]\n",
    "[slope, log_edepth, mean_rev, mean_fwd]\n",
    "[slope_xcenter, slope, log_edepth, mean]\n",
    "[slope_xcenter, slope, log_edepth, mean_rev, mean_fwd]"
   ]
  },
  {
   "cell_type": "markdown",
   "metadata": {},
   "source": [
    "# Combine all 12 manually"
   ]
  },
  {
   "cell_type": "raw",
   "metadata": {},
   "source": [
    "mcmc_fits = [fine_grain_mcmcs_with_no_xcenter_lin_edepth_no_split_w_negEcl,\n",
    "             fine_grain_mcmcs_with_no_xcenter_lin_edepth_w_split_w_negEcl,\n",
    "             fine_grain_mcmcs_with_w_xcenter_lin_edepth_no_split_w_negEcl,\n",
    "             fine_grain_mcmcs_with_w_xcenter_lin_edepth_w_split_w_negEcl,\n",
    "             fine_grain_mcmcs_with_no_xcenter_lin_edepth_no_split,\n",
    "             fine_grain_mcmcs_with_no_xcenter_lin_edepth_w_split,\n",
    "             fine_grain_mcmcs_with_w_xcenter_lin_edepth_no_split,\n",
    "             fine_grain_mcmcs_with_w_xcenter_lin_edepth_w_split,\n",
    "             fine_grain_mcmcs_with_no_xcenter_log_edepth_no_split,\n",
    "             fine_grain_mcmcs_with_no_xcenter_log_edepth_w_split,\n",
    "             fine_grain_mcmcs_with_w_xcenter_log_edepth_no_split,\n",
    "             fine_grain_mcmcs_with_w_xcenter_log_edepth_w_split\n",
    "            ]"
   ]
  },
  {
   "cell_type": "raw",
   "metadata": {},
   "source": [
    "plt.rcParams['figure.figsize'] = 8,6"
   ]
  },
  {
   "cell_type": "code",
   "execution_count": 24,
   "metadata": {},
   "outputs": [
    {
     "data": {
      "image/png": "[encoded data removed]",
      "text/plain": [
       "<Figure size 640x480 with 1 Axes>"
      ]
     },
     "metadata": {
      "image/png": {
       "height": 447,
       "width": 612
      }
     },
     "output_type": "display_data"
    }
   ],
   "source": [
    "flux = planet.normed_photometry_df[fine_min_snr_colname]\n",
    "trace_angles = planet.trace_angles\n",
    "fit_2D_time_vs_other(times, flux, trace_angles, idx_fwd, idx_rev, \n",
    "                     label='trace_angles,time vs flux', n_sig=3)"
   ]
  },
  {
   "cell_type": "code",
   "execution_count": 25,
   "metadata": {},
   "outputs": [
    {
     "data": {
      "image/png": "[encoded data removed]",
      "text/plain": [
       "<Figure size 640x480 with 1 Axes>"
      ]
     },
     "metadata": {
      "image/png": {
       "height": 447,
       "width": 608
      }
     },
     "output_type": "display_data"
    }
   ],
   "source": [
    "flux = planet.normed_photometry_df[fine_min_snr_colname]\n",
    "trace_lengths = planet.trace_lengths\n",
    "fit_2D_time_vs_other(times, flux, trace_lengths, idx_fwd, idx_rev, \n",
    "                     label='trace_angles,time vs flux', n_sig=3)"
   ]
  },
  {
   "cell_type": "code",
   "execution_count": 26,
   "metadata": {},
   "outputs": [
    {
     "data": {
      "image/png": "[encoded data removed]",
      "text/plain": [
       "<Figure size 640x480 with 1 Axes>"
      ]
     },
     "metadata": {
      "image/png": {
       "height": 447,
       "width": 608
      }
     },
     "output_type": "display_data"
    }
   ],
   "source": [
    "flux = planet.normed_photometry_df[fine_min_snr_colname]\n",
    "trace_angles = planet.trace_angles\n",
    "fit_2D_time_vs_other(times, flux, xcenters, idx_fwd, idx_rev, \n",
    "                     label='trace_angles,time vs flux', n_sig=3)"
   ]
  },
  {
   "cell_type": "code",
   "execution_count": 27,
   "metadata": {},
   "outputs": [
    {
     "data": {
      "image/png": "[encoded data removed]",
      "text/plain": [
       "<Figure size 640x480 with 1 Axes>"
      ]
     },
     "metadata": {
      "image/png": {
       "height": 447,
       "width": 608
      }
     },
     "output_type": "display_data"
    }
   ],
   "source": [
    "flux = planet.normed_photometry_df[fine_min_snr_colname]\n",
    "trace_angles = planet.trace_angles\n",
    "fit_2D_time_vs_other(times, flux, ycenters, idx_fwd, idx_rev, \n",
    "                     label='trace_angles,time vs flux', n_sig=3)"
   ]
  },
  {
   "cell_type": "markdown",
   "metadata": {},
   "source": [
    "# Testing new \"all correlations and all flavors\" MCMC"
   ]
  },
  {
   "cell_type": "code",
   "execution_count": 28,
   "metadata": {},
   "outputs": [],
   "source": [
    "def compute_sdnr(map_soln, phots, idx_fwd, idx_rev):\n",
    "    ppm = 1e6\n",
    "    phots_std_fwd = phots[idx_fwd].std()\n",
    "    phots_std_rev = phots[idx_rev].std()\n",
    "    phots_std = np.mean([phots_std_fwd, phots_std_rev])\n",
    "    \n",
    "    if 'mean_fwd' not in map_soln.keys():\n",
    "        map_model = map_soln['light_curves'].flatten() + map_soln['line_model']\n",
    "    else:\n",
    "        map_model = np.zeros_like(times)\n",
    "        map_model[idx_fwd] = map_soln['light_curves_fwd'].flatten() + map_soln['line_model_fwd']\n",
    "        map_model[idx_rev] = map_soln['light_curves_rev'].flatten() + map_soln['line_model_rev']\n",
    "    \n",
    "    varnames = [key for key in map_soln.keys() if '__' not in key and 'light' not in key and 'line' not in key and 'le_edepth_0' not in key]\n",
    "    \n",
    "    res_fwd = np.std(map_model[idx_fwd] - phots[idx_fwd])\n",
    "    res_rev = np.std(map_model[idx_rev] - phots[idx_rev])\n",
    "    res_std = np.mean([res_fwd, res_rev])\n",
    "    \n",
    "    print(f'{str(varnames):<80}')\n",
    "    print(f'{res_std*ppm:0.2f}, {phots_std*ppm:0.2f}, {(phots_std - res_std)*ppm:0.2f} ppm difference'),\n",
    "    \n",
    "    return res_std*ppm, phots_std*ppm, (phots_std - res_std)*ppm"
   ]
  },
  {
   "cell_type": "markdown",
   "metadata": {},
   "source": [
    "# HERE"
   ]
  },
  {
   "cell_type": "raw",
   "metadata": {},
   "source": [
    "n_space = 10\n",
    "near_best_apertures_NxN_small = [f'aperture_sum_{aper_width_}x{aper_height_}' \n",
    "                                 for aper_width_ in (np.arange(-n_space//2+1, n_space//2+1)+fine_min_snr_aper_width)\n",
    "                                 for aper_height_ in (np.arange(-n_space//2+1, n_space//2+1)+fine_min_snr_aper_height)]\n",
    "len(near_best_apertures_NxN_small)#, near_best_apertures_NxN_small"
   ]
  },
  {
   "cell_type": "code",
   "execution_count": 33,
   "metadata": {},
   "outputs": [],
   "source": [
    "save_dir = os.path.join(HOME, 'Research', 'Planets', 'WASP43', 'github_analysis', 'notebooks', 'all400_results_decor_MAPs_only_SDNR')"
   ]
  },
  {
   "cell_type": "code",
   "execution_count": null,
   "metadata": {},
   "outputs": [
    {
     "name": "stderr",
     "output_type": "stream",
     "text": [
      "optimizing logp for variables: [slope, edepth, mean]\n",
      "86it [00:00, 152.53it/s, logp=4.338151e+02]\n",
      "message: Desired error not necessarily achieved due to precision loss.\n",
      "logp: -14789.495098418858 -> 433.81506885728805\n"
     ]
    },
    {
     "name": "stdout",
     "output_type": "stream",
     "text": [
      "[INFO] Map Soln Edepth:8.159649347445775\n",
      "[INFO] Full decorrelation took 0.18 minutes\n",
      "['mean', 'edepth', 'slope']                                                     \n",
      "206.29, 210.07, 3.77 ppm difference\n"
     ]
    },
    {
     "name": "stderr",
     "output_type": "stream",
     "text": [
      "optimizing logp for variables: [slope_trace_length, slope, edepth, mean]\n",
      "31it [00:00, 73.21it/s, logp=4.843032e+02] \n",
      "message: Optimization terminated successfully.\n",
      "logp: -14790.881392779977 -> 484.30317437200506\n"
     ]
    },
    {
     "name": "stdout",
     "output_type": "stream",
     "text": [
      "[INFO] Map Soln Edepth:10.438077175975808\n",
      "[INFO] Full decorrelation took 0.03 minutes\n",
      "['mean', 'edepth', 'slope', 'slope_trace_length']                               \n",
      "207.09, 210.07, 2.98 ppm difference\n",
      "[INFO] Trace Length Option took 0.21 minutes\n"
     ]
    },
    {
     "name": "stderr",
     "output_type": "stream",
     "text": [
      "optimizing logp for variables: [slope_trace_angle, slope, edepth, mean]\n",
      "285it [00:00, 297.41it/s, logp=4.348352e+02]\n",
      "message: Desired error not necessarily achieved due to precision loss.\n",
      "logp: -14790.881392779977 -> 434.8352068614361\n"
     ]
    },
    {
     "name": "stdout",
     "output_type": "stream",
     "text": [
      "[INFO] Map Soln Edepth:8.667785720010125\n",
      "[INFO] Full decorrelation took 0.04 minutes\n",
      "['mean', 'edepth', 'slope', 'slope_trace_angle']                                \n",
      "208.79, 210.07, 1.27 ppm difference\n"
     ]
    },
    {
     "name": "stderr",
     "output_type": "stream",
     "text": [
      "optimizing logp for variables: [slope_trace_length, slope_trace_angle, slope, edepth, mean]\n",
      "184it [00:00, 233.88it/s, logp=4.835959e+02]\n",
      "message: Desired error not necessarily achieved due to precision loss.\n",
      "logp: -14792.267687141097 -> 483.5959134490685\n"
     ]
    },
    {
     "name": "stdout",
     "output_type": "stream",
     "text": [
      "[INFO] Map Soln Edepth:10.836346247093305\n",
      "[INFO] Full decorrelation took 0.05 minutes\n",
      "['mean', 'edepth', 'slope', 'slope_trace_angle', 'slope_trace_length']          \n",
      "207.02, 210.07, 3.05 ppm difference\n",
      "[INFO] Trace Length Option took 0.09 minutes\n",
      "[INFO] Trace Angle Option took 0.30 minutes\n"
     ]
    },
    {
     "name": "stderr",
     "output_type": "stream",
     "text": [
      "optimizing logp for variables: [slope_ycenter, slope, edepth, mean]\n",
      "87it [00:00, 171.96it/s, logp=4.449226e+02]\n",
      "message: Desired error not necessarily achieved due to precision loss.\n",
      "logp: -14790.881392779977 -> 444.92263812414535\n"
     ]
    },
    {
     "name": "stdout",
     "output_type": "stream",
     "text": [
      "[INFO] Map Soln Edepth:10.583504171327387\n",
      "[INFO] Full decorrelation took 0.04 minutes\n",
      "['mean', 'edepth', 'slope', 'slope_ycenter']                                    \n",
      "184.01, 210.07, 26.05 ppm difference\n"
     ]
    },
    {
     "name": "stderr",
     "output_type": "stream",
     "text": [
      "optimizing logp for variables: [slope_trace_length, slope_ycenter, slope, edepth, mean]\n",
      "32it [00:00, 82.51it/s, logp=4.976028e+02] \n",
      "message: Optimization terminated successfully.\n",
      "logp: -14792.267687141097 -> 497.6027965071323\n"
     ]
    },
    {
     "name": "stdout",
     "output_type": "stream",
     "text": [
      "[INFO] Map Soln Edepth:15.07435084090251\n",
      "[INFO] Full decorrelation took 0.04 minutes\n",
      "['mean', 'edepth', 'slope', 'slope_ycenter', 'slope_trace_length']              \n",
      "190.45, 210.07, 19.62 ppm difference\n",
      "[INFO] Trace Length Option took 0.07 minutes\n"
     ]
    },
    {
     "name": "stderr",
     "output_type": "stream",
     "text": [
      "optimizing logp for variables: [slope_trace_angle, slope_ycenter, slope, edepth, mean]\n",
      "153it [00:00, 224.54it/s, logp=4.473969e+02]\n",
      "message: Desired error not necessarily achieved due to precision loss.\n",
      "logp: -14792.267687141097 -> 447.39691155031034\n"
     ]
    },
    {
     "name": "stdout",
     "output_type": "stream",
     "text": [
      "[INFO] Map Soln Edepth:11.86102957909261\n",
      "[INFO] Full decorrelation took 0.04 minutes\n",
      "['mean', 'edepth', 'slope', 'slope_ycenter', 'slope_trace_angle']               \n",
      "186.23, 210.07, 23.83 ppm difference\n"
     ]
    },
    {
     "name": "stderr",
     "output_type": "stream",
     "text": [
      "optimizing logp for variables: [slope_trace_length, slope_trace_angle, slope_ycenter, slope, edepth, mean]\n",
      "96it [00:00, 161.94it/s, logp=4.978479e+02]\n",
      "message: Optimization terminated successfully.\n",
      "logp: -14793.653981502217 -> 497.8478668914785\n"
     ]
    },
    {
     "name": "stdout",
     "output_type": "stream",
     "text": [
      "[INFO] Map Soln Edepth:16.568515556455278\n",
      "[INFO] Full decorrelation took 0.05 minutes\n",
      "['mean', 'edepth', 'slope', 'slope_ycenter', 'slope_trace_angle', 'slope_trace_length']\n",
      "189.73, 210.07, 20.34 ppm difference\n",
      "[INFO] Trace Length Option took 0.09 minutes\n",
      "[INFO] Trace Angle Option took 0.16 minutes\n",
      "[INFO] Ycenter Option took 0.47 minutes\n"
     ]
    },
    {
     "name": "stderr",
     "output_type": "stream",
     "text": [
      "optimizing logp for variables: [slope_xcenter, slope, edepth, mean]\n",
      "122it [00:00, 206.90it/s, logp=5.104988e+02]\n",
      "message: Desired error not necessarily achieved due to precision loss.\n",
      "logp: -14790.881392779977 -> 510.49876024510144\n"
     ]
    },
    {
     "name": "stdout",
     "output_type": "stream",
     "text": [
      "[INFO] Map Soln Edepth:10.220085502954726\n",
      "[INFO] Full decorrelation took 0.04 minutes\n",
      "['mean', 'edepth', 'slope', 'slope_xcenter']                                    \n",
      "186.34, 210.07, 23.73 ppm difference\n"
     ]
    },
    {
     "name": "stderr",
     "output_type": "stream",
     "text": [
      "optimizing logp for variables: [slope_trace_length, slope_xcenter, slope, edepth, mean]\n",
      "33it [00:00, 82.88it/s, logp=5.112616e+02] \n",
      "message: Optimization terminated successfully.\n",
      "logp: -14792.267687141097 -> 511.2615792888773\n"
     ]
    },
    {
     "name": "stdout",
     "output_type": "stream",
     "text": [
      "[INFO] Map Soln Edepth:10.605005947124136\n",
      "[INFO] Full decorrelation took 0.04 minutes\n",
      "['mean', 'edepth', 'slope', 'slope_xcenter', 'slope_trace_length']              \n",
      "183.27, 210.07, 26.80 ppm difference\n",
      "[INFO] Trace Length Option took 0.08 minutes\n"
     ]
    },
    {
     "name": "stderr",
     "output_type": "stream",
     "text": [
      "optimizing logp for variables: [slope_trace_angle, slope_xcenter, slope, edepth, mean]\n",
      "99it [00:00, 176.89it/s, logp=5.092623e+02]\n",
      "message: Desired error not necessarily achieved due to precision loss.\n",
      "logp: -14792.267687141097 -> 509.2623015492043\n"
     ]
    },
    {
     "name": "stdout",
     "output_type": "stream",
     "text": [
      "[INFO] Map Soln Edepth:10.053372293569367\n",
      "[INFO] Full decorrelation took 0.04 minutes\n",
      "['mean', 'edepth', 'slope', 'slope_xcenter', 'slope_trace_angle']               \n",
      "186.22, 210.07, 23.85 ppm difference\n"
     ]
    },
    {
     "name": "stderr",
     "output_type": "stream",
     "text": [
      "optimizing logp for variables: [slope_trace_length, slope_trace_angle, slope_xcenter, slope, edepth, mean]\n",
      "109it [00:00, 178.17it/s, logp=5.099560e+02]\n",
      "message: Desired error not necessarily achieved due to precision loss.\n",
      "logp: -14793.653981502217 -> 509.95598144172124\n"
     ]
    },
    {
     "name": "stdout",
     "output_type": "stream",
     "text": [
      "[INFO] Map Soln Edepth:10.467762226819163\n",
      "[INFO] Full decorrelation took 0.05 minutes\n",
      "['mean', 'edepth', 'slope', 'slope_xcenter', 'slope_trace_angle', 'slope_trace_length']\n",
      "183.21, 210.07, 26.86 ppm difference\n",
      "[INFO] Trace Length Option took 0.09 minutes\n",
      "[INFO] Trace Angle Option took 0.16 minutes\n"
     ]
    },
    {
     "name": "stderr",
     "output_type": "stream",
     "text": [
      "optimizing logp for variables: [slope_ycenter, slope_xcenter, slope, edepth, mean]\n",
      "129it [00:00, 207.85it/s, logp=5.200760e+02]\n",
      "message: Desired error not necessarily achieved due to precision loss.\n",
      "logp: -14792.267687141097 -> 520.0760065692173\n"
     ]
    },
    {
     "name": "stdout",
     "output_type": "stream",
     "text": [
      "[INFO] Map Soln Edepth:13.736024916811443\n",
      "[INFO] Full decorrelation took 0.04 minutes\n",
      "['mean', 'edepth', 'slope', 'slope_xcenter', 'slope_ycenter']                   \n",
      "174.29, 210.07, 35.78 ppm difference\n"
     ]
    },
    {
     "name": "stderr",
     "output_type": "stream",
     "text": [
      "optimizing logp for variables: [slope_trace_length, slope_ycenter, slope_xcenter, slope, edepth, mean]\n",
      "106it [00:00, 171.36it/s, logp=5.217272e+02]\n",
      "message: Desired error not necessarily achieved due to precision loss.\n",
      "logp: -14793.653981502217 -> 521.7271793029597\n"
     ]
    },
    {
     "name": "stdout",
     "output_type": "stream",
     "text": [
      "[INFO] Map Soln Edepth:14.748342333488216\n",
      "[INFO] Full decorrelation took 0.05 minutes\n",
      "['mean', 'edepth', 'slope', 'slope_xcenter', 'slope_ycenter', 'slope_trace_length']\n",
      "170.57, 210.07, 39.50 ppm difference\n",
      "[INFO] Trace Length Option took 0.09 minutes\n"
     ]
    },
    {
     "name": "stderr",
     "output_type": "stream",
     "text": [
      "optimizing logp for variables: [slope_trace_angle, slope_ycenter, slope_xcenter, slope, edepth, mean]\n",
      "129it [00:00, 201.68it/s, logp=5.186915e+02]\n",
      "message: Desired error not necessarily achieved due to precision loss.\n",
      "logp: -14793.653981502217 -> 518.6915311438387\n"
     ]
    },
    {
     "name": "stdout",
     "output_type": "stream",
     "text": [
      "[INFO] Map Soln Edepth:13.775858614529925\n",
      "[INFO] Full decorrelation took 0.05 minutes\n",
      "['mean', 'edepth', 'slope', 'slope_xcenter', 'slope_ycenter', 'slope_trace_angle']\n",
      "174.28, 210.07, 35.79 ppm difference\n"
     ]
    },
    {
     "name": "stderr",
     "output_type": "stream",
     "text": [
      "optimizing logp for variables: [slope_trace_length, slope_trace_angle, slope_ycenter, slope_xcenter, slope, edepth, mean]\n",
      "56it [00:00, 111.51it/s, logp=5.203763e+02]\n",
      "message: Optimization terminated successfully.\n",
      "logp: -14795.040275863337 -> 520.3762951186318\n"
     ]
    },
    {
     "name": "stdout",
     "output_type": "stream",
     "text": [
      "[INFO] Map Soln Edepth:14.95951194499423\n",
      "[INFO] Full decorrelation took 0.05 minutes\n",
      "['mean', 'edepth', 'slope', 'slope_xcenter', 'slope_ycenter', 'slope_trace_angle', 'slope_trace_length']\n",
      "170.51, 210.07, 39.56 ppm difference\n",
      "[INFO] Trace Length Option took 0.10 minutes\n",
      "[INFO] Trace Angle Option took 0.19 minutes\n",
      "[INFO] Ycenter Option took 0.35 minutes\n",
      "[INFO] Xcenter Option took 0.82 minutes\n"
     ]
    },
    {
     "name": "stderr",
     "output_type": "stream",
     "text": [
      "optimizing logp for variables: [slope, edepth, mean_rev, mean_fwd]\n",
      "210it [00:00, 227.21it/s, logp=4.931978e+02]\n",
      "message: Desired error not necessarily achieved due to precision loss.\n",
      "logp: -14790.41403695206 -> 493.1977794157865\n"
     ]
    },
    {
     "name": "stdout",
     "output_type": "stream",
     "text": [
      "[INFO] Map Soln Edepth:8.083847486209692\n",
      "[INFO] Full decorrelation took 0.05 minutes\n",
      "['mean_fwd', 'mean_rev', 'edepth', 'slope']                                     \n",
      "206.27, 210.07, 3.80 ppm difference\n"
     ]
    },
    {
     "name": "stderr",
     "output_type": "stream",
     "text": [
      "optimizing logp for variables: [slope_trace_length, slope, edepth, mean_rev, mean_fwd]\n",
      "35it [00:00, 71.84it/s, logp=4.972268e+02] \n",
      "message: Optimization terminated successfully.\n",
      "logp: -14791.80033131318 -> 497.22681037068867\n"
     ]
    },
    {
     "name": "stdout",
     "output_type": "stream",
     "text": [
      "[INFO] Map Soln Edepth:9.026161292505915\n",
      "[INFO] Full decorrelation took 0.05 minutes\n",
      "['mean_fwd', 'mean_rev', 'edepth', 'slope', 'slope_trace_length']               \n",
      "199.90, 210.07, 10.17 ppm difference\n",
      "[INFO] Trace Length Option took 0.10 minutes\n"
     ]
    },
    {
     "name": "stderr",
     "output_type": "stream",
     "text": [
      "optimizing logp for variables: [slope_trace_angle, slope, edepth, mean_rev, mean_fwd]\n",
      "133it [00:00, 169.27it/s, logp=4.918900e+02]\n",
      "message: Desired error not necessarily achieved due to precision loss.\n",
      "logp: -14791.80033131318 -> 491.8899771788732\n"
     ]
    },
    {
     "name": "stdout",
     "output_type": "stream",
     "text": [
      "[INFO] Map Soln Edepth:7.9930104713076435\n",
      "[INFO] Full decorrelation took 0.05 minutes\n",
      "['mean_fwd', 'mean_rev', 'edepth', 'slope', 'slope_trace_angle']                \n",
      "206.19, 210.07, 3.88 ppm difference\n"
     ]
    },
    {
     "name": "stderr",
     "output_type": "stream",
     "text": [
      "optimizing logp for variables: [slope_trace_length, slope_trace_angle, slope, edepth, mean_rev, mean_fwd]\n",
      "96it [00:00, 136.54it/s, logp=4.958431e+02]\n",
      "message: Desired error not necessarily achieved due to precision loss.\n",
      "logp: -14793.186625674298 -> 495.84307972474573\n"
     ]
    },
    {
     "name": "stdout",
     "output_type": "stream",
     "text": [
      "[INFO] Map Soln Edepth:9.003400337442294\n",
      "[INFO] Full decorrelation took 0.05 minutes\n",
      "['mean_fwd', 'mean_rev', 'edepth', 'slope', 'slope_trace_angle', 'slope_trace_length']\n",
      "199.90, 210.07, 10.17 ppm difference\n",
      "[INFO] Trace Length Option took 0.11 minutes\n",
      "[INFO] Trace Angle Option took 0.20 minutes\n"
     ]
    },
    {
     "name": "stderr",
     "output_type": "stream",
     "text": [
      "optimizing logp for variables: [slope_ycenter, slope, edepth, mean_rev, mean_fwd]\n",
      "33it [00:00, 66.71it/s, logp=5.144931e+02] \n",
      "message: Optimization terminated successfully.\n",
      "logp: -14791.80033131318 -> 514.4930517100659\n"
     ]
    },
    {
     "name": "stdout",
     "output_type": "stream",
     "text": [
      "[INFO] Map Soln Edepth:11.65813010507151\n",
      "[INFO] Full decorrelation took 0.05 minutes\n",
      "['mean_fwd', 'mean_rev', 'edepth', 'slope', 'slope_ycenter']                    \n",
      "182.43, 210.07, 27.64 ppm difference\n"
     ]
    },
    {
     "name": "stderr",
     "output_type": "stream",
     "text": [
      "optimizing logp for variables: [slope_trace_length, slope_ycenter, slope, edepth, mean_rev, mean_fwd]\n",
      "242it [00:01, 234.68it/s, logp=5.165832e+02]\n",
      "message: Desired error not necessarily achieved due to precision loss.\n",
      "logp: -14793.186625674298 -> 516.583150582734\n"
     ]
    },
    {
     "name": "stdout",
     "output_type": "stream",
     "text": [
      "[INFO] Map Soln Edepth:12.92413297905722\n",
      "[INFO] Full decorrelation took 0.06 minutes\n",
      "['mean_fwd', 'mean_rev', 'edepth', 'slope', 'slope_ycenter', 'slope_trace_length']\n",
      "178.20, 210.07, 31.87 ppm difference\n",
      "[INFO] Trace Length Option took 0.11 minutes\n"
     ]
    },
    {
     "name": "stderr",
     "output_type": "stream",
     "text": [
      "optimizing logp for variables: [slope_trace_angle, slope_ycenter, slope, edepth, mean_rev, mean_fwd]\n",
      "86it [00:00, 108.85it/s, logp=5.131258e+02]\n",
      "message: Desired error not necessarily achieved due to precision loss.\n",
      "logp: -14793.186625674298 -> 513.1257696183156\n"
     ]
    },
    {
     "name": "stdout",
     "output_type": "stream",
     "text": [
      "[INFO] Map Soln Edepth:11.761309416517578\n",
      "[INFO] Full decorrelation took 0.06 minutes\n",
      "['mean_fwd', 'mean_rev', 'edepth', 'slope', 'slope_ycenter', 'slope_trace_angle']\n",
      "182.40, 210.07, 27.67 ppm difference\n"
     ]
    },
    {
     "name": "stderr",
     "output_type": "stream",
     "text": [
      "optimizing logp for variables: [slope_trace_length, slope_trace_angle, slope_ycenter, slope, edepth, mean_rev, mean_fwd]\n",
      "116it [00:00, 138.46it/s, logp=5.152934e+02]\n",
      "message: Desired error not necessarily achieved due to precision loss.\n",
      "logp: -14794.572920035418 -> 515.293361675843\n"
     ]
    },
    {
     "name": "stdout",
     "output_type": "stream",
     "text": [
      "[INFO] Map Soln Edepth:13.229952040366383\n",
      "[INFO] Full decorrelation took 0.07 minutes\n",
      "['mean_fwd', 'mean_rev', 'edepth', 'slope', 'slope_ycenter', 'slope_trace_angle', 'slope_trace_length']\n",
      "178.08, 210.07, 31.99 ppm difference\n",
      "[INFO] Trace Length Option took 0.12 minutes\n",
      "[INFO] Trace Angle Option took 0.23 minutes\n",
      "[INFO] Ycenter Option took 0.43 minutes\n"
     ]
    },
    {
     "name": "stderr",
     "output_type": "stream",
     "text": [
      "optimizing logp for variables: [slope_xcenter, slope, edepth, mean_rev, mean_fwd]\n",
      "91it [00:00, 116.31it/s, logp=5.104234e+02]\n",
      "message: Desired error not necessarily achieved due to precision loss.\n",
      "logp: -14791.80033131318 -> 510.42336349401273\n"
     ]
    },
    {
     "name": "stdout",
     "output_type": "stream",
     "text": [
      "[INFO] Map Soln Edepth:10.914222014418513\n",
      "[INFO] Full decorrelation took 0.06 minutes\n",
      "['mean_fwd', 'mean_rev', 'edepth', 'slope', 'slope_xcenter']                    \n",
      "185.41, 210.07, 24.66 ppm difference\n"
     ]
    },
    {
     "name": "stderr",
     "output_type": "stream",
     "text": [
      "optimizing logp for variables: [slope_trace_length, slope_xcenter, slope, edepth, mean_rev, mean_fwd]\n",
      "35it [00:00, 64.72it/s, logp=5.122663e+02] \n",
      "message: Optimization terminated successfully.\n",
      "logp: -14793.186625674298 -> 512.2662762786053\n"
     ]
    },
    {
     "name": "stdout",
     "output_type": "stream",
     "text": [
      "[INFO] Map Soln Edepth:11.956100805867461\n",
      "[INFO] Full decorrelation took 0.05 minutes\n",
      "['mean_fwd', 'mean_rev', 'edepth', 'slope', 'slope_xcenter', 'slope_trace_length']\n",
      "181.08, 210.07, 28.98 ppm difference\n",
      "[INFO] Trace Length Option took 0.11 minutes\n"
     ]
    },
    {
     "name": "stderr",
     "output_type": "stream",
     "text": [
      "optimizing logp for variables: [slope_trace_angle, slope_xcenter, slope, edepth, mean_rev, mean_fwd]\n",
      "116it [00:00, 152.84it/s, logp=5.091303e+02]\n",
      "message: Desired error not necessarily achieved due to precision loss.\n",
      "logp: -14793.186625674298 -> 509.1302797034444\n"
     ]
    },
    {
     "name": "stdout",
     "output_type": "stream",
     "text": [
      "[INFO] Map Soln Edepth:10.7430988505422\n",
      "[INFO] Full decorrelation took 0.18 minutes\n",
      "['mean_fwd', 'mean_rev', 'edepth', 'slope', 'slope_xcenter', 'slope_trace_angle']\n",
      "185.35, 210.07, 24.72 ppm difference\n"
     ]
    },
    {
     "name": "stderr",
     "output_type": "stream",
     "text": [
      "optimizing logp for variables: [slope_trace_length, slope_trace_angle, slope_xcenter, slope, edepth, mean_rev, mean_fwd]\n",
      "113it [00:00, 158.49it/s, logp=5.108955e+02]\n",
      "message: Desired error not necessarily achieved due to precision loss.\n",
      "logp: -14794.572920035418 -> 510.89547653871415\n"
     ]
    },
    {
     "name": "stdout",
     "output_type": "stream",
     "text": [
      "[INFO] Map Soln Edepth:11.864730398989881\n",
      "[INFO] Full decorrelation took 0.06 minutes\n",
      "['mean_fwd', 'mean_rev', 'edepth', 'slope', 'slope_xcenter', 'slope_trace_angle', 'slope_trace_length']\n",
      "181.09, 210.07, 28.98 ppm difference\n",
      "[INFO] Trace Length Option took 0.24 minutes\n",
      "[INFO] Trace Angle Option took 0.35 minutes\n"
     ]
    },
    {
     "name": "stderr",
     "output_type": "stream",
     "text": [
      "optimizing logp for variables: [slope_ycenter, slope_xcenter, slope, edepth, mean_rev, mean_fwd]\n",
      "139it [00:00, 165.38it/s, logp=5.195368e+02]\n",
      "message: Desired error not necessarily achieved due to precision loss.\n",
      "logp: -14793.186625674298 -> 519.5368375107041\n"
     ]
    },
    {
     "name": "stdout",
     "output_type": "stream",
     "text": [
      "[INFO] Map Soln Edepth:13.335579355992552\n",
      "[INFO] Full decorrelation took 0.06 minutes\n",
      "['mean_fwd', 'mean_rev', 'edepth', 'slope', 'slope_xcenter', 'slope_ycenter']   \n",
      "174.06, 210.07, 36.01 ppm difference\n"
     ]
    },
    {
     "name": "stderr",
     "output_type": "stream",
     "text": [
      "optimizing logp for variables: [slope_trace_length, slope_ycenter, slope_xcenter, slope, edepth, mean_rev, mean_fwd]\n",
      "35it [00:00, 63.58it/s, logp=5.208285e+02] \n",
      "message: Optimization terminated successfully.\n",
      "logp: -14794.572920035418 -> 520.8284945285229\n"
     ]
    },
    {
     "name": "stdout",
     "output_type": "stream",
     "text": [
      "[INFO] Map Soln Edepth:14.612669270439024\n",
      "[INFO] Full decorrelation took 0.06 minutes\n",
      "['mean_fwd', 'mean_rev', 'edepth', 'slope', 'slope_xcenter', 'slope_ycenter', 'slope_trace_length']\n",
      "170.59, 210.07, 39.48 ppm difference\n",
      "[INFO] Trace Length Option took 0.11 minutes\n"
     ]
    },
    {
     "name": "stderr",
     "output_type": "stream",
     "text": [
      "optimizing logp for variables: [slope_trace_angle, slope_ycenter, slope_xcenter, slope, edepth, mean_rev, mean_fwd]\n",
      "98it [00:00, 132.74it/s, logp=5.181509e+02]\n",
      "message: Desired error not necessarily achieved due to precision loss.\n",
      "logp: -14794.572920035418 -> 518.1509133746521\n"
     ]
    },
    {
     "name": "stdout",
     "output_type": "stream",
     "text": [
      "[INFO] Map Soln Edepth:13.353106451160679\n",
      "[INFO] Full decorrelation took 0.06 minutes\n",
      "['mean_fwd', 'mean_rev', 'edepth', 'slope', 'slope_xcenter', 'slope_ycenter', 'slope_trace_angle']\n",
      "174.06, 210.07, 36.01 ppm difference\n"
     ]
    },
    {
     "name": "stderr",
     "output_type": "stream",
     "text": [
      "optimizing logp for variables: [slope_trace_length, slope_trace_angle, slope_ycenter, slope_xcenter, slope, edepth, mean_rev, mean_fwd]\n",
      "113it [00:00, 141.86it/s, logp=5.194744e+02]\n",
      "message: Desired error not necessarily achieved due to precision loss.\n",
      "logp: -14795.959214396538 -> 519.4744028869242\n"
     ]
    },
    {
     "name": "stdout",
     "output_type": "stream",
     "text": [
      "[INFO] Map Soln Edepth:14.82231539740889\n",
      "[INFO] Full decorrelation took 0.07 minutes\n",
      "['mean_fwd', 'mean_rev', 'edepth', 'slope', 'slope_xcenter', 'slope_ycenter', 'slope_trace_angle', 'slope_trace_length']\n",
      "170.54, 210.07, 39.53 ppm difference\n",
      "[INFO] Trace Length Option took 0.13 minutes\n",
      "[INFO] Trace Angle Option took 0.25 minutes\n",
      "[INFO] Ycenter Option took 0.60 minutes\n",
      "[INFO] Xcenter Option took 1.03 minutes\n",
      "[INFO] Run through for aperture_sum_11x41 took 1.85 minutes\n",
      "[INFO] Saving aperture_sum_11x41 to /home/nelly/Research/Planets/WASP43/github_analysis/notebooks/all400_results_decor_MAPs_only_SDNR/results_decor_span_MAPs_only_SDNR_aperture_sum_11x41.joblib.save\n"
     ]
    },
    {
     "name": "stderr",
     "output_type": "stream",
     "text": [
      "optimizing logp for variables: [slope, edepth, mean]\n",
      "81it [00:00, 159.01it/s, logp=4.340741e+02]\n",
      "message: Desired error not necessarily achieved due to precision loss.\n",
      "logp: -14796.60688608493 -> 434.0740869741166\n"
     ]
    },
    {
     "name": "stdout",
     "output_type": "stream",
     "text": [
      "[INFO] Map Soln Edepth:8.184096436377889\n",
      "[INFO] Full decorrelation took 0.03 minutes\n",
      "['mean', 'edepth', 'slope']                                                     \n",
      "206.17, 210.02, 3.85 ppm difference\n"
     ]
    },
    {
     "name": "stderr",
     "output_type": "stream",
     "text": [
      "optimizing logp for variables: [slope_trace_length, slope, edepth, mean]\n",
      "31it [00:00, 83.57it/s, logp=4.844550e+02] \n",
      "message: Optimization terminated successfully.\n",
      "logp: -14797.993180446048 -> 484.45503148994607\n"
     ]
    },
    {
     "name": "stdout",
     "output_type": "stream",
     "text": [
      "[INFO] Map Soln Edepth:10.47395290609488\n",
      "[INFO] Full decorrelation took 0.03 minutes\n",
      "['mean', 'edepth', 'slope', 'slope_trace_length']                               \n",
      "206.93, 210.02, 3.09 ppm difference\n",
      "[INFO] Trace Length Option took 0.06 minutes\n"
     ]
    },
    {
     "name": "stderr",
     "output_type": "stream",
     "text": [
      "optimizing logp for variables: [slope_trace_angle, slope, edepth, mean]\n",
      "102it [00:00, 214.30it/s, logp=4.350652e+02]\n",
      "message: Desired error not necessarily achieved due to precision loss.\n",
      "logp: -14797.993180446048 -> 435.0651542937694\n"
     ]
    },
    {
     "name": "stdout",
     "output_type": "stream",
     "text": [
      "[INFO] Map Soln Edepth:8.692247883059261\n",
      "[INFO] Full decorrelation took 0.04 minutes\n",
      "['mean', 'edepth', 'slope', 'slope_trace_angle']                                \n",
      "208.67, 210.02, 1.36 ppm difference\n"
     ]
    },
    {
     "name": "stderr",
     "output_type": "stream",
     "text": [
      "optimizing logp for variables: [slope_trace_length, slope_trace_angle, slope, edepth, mean]\n",
      "52it [00:00, 116.11it/s, logp=4.837331e+02]\n",
      "message: Optimization terminated successfully.\n",
      "logp: -14799.379474807169 -> 483.7331044660494\n"
     ]
    },
    {
     "name": "stdout",
     "output_type": "stream",
     "text": [
      "[INFO] Map Soln Edepth:10.870375230562592\n",
      "[INFO] Full decorrelation took 0.04 minutes\n",
      "['mean', 'edepth', 'slope', 'slope_trace_angle', 'slope_trace_length']          \n",
      "206.87, 210.02, 3.15 ppm difference\n",
      "[INFO] Trace Length Option took 0.08 minutes\n",
      "[INFO] Trace Angle Option took 0.14 minutes\n"
     ]
    },
    {
     "name": "stderr",
     "output_type": "stream",
     "text": [
      "optimizing logp for variables: [slope_ycenter, slope, edepth, mean]\n",
      "130it [00:00, 203.94it/s, logp=4.452028e+02]\n",
      "message: Desired error not necessarily achieved due to precision loss.\n",
      "logp: -14797.993180446048 -> 445.2027720833957\n"
     ]
    },
    {
     "name": "stdout",
     "output_type": "stream",
     "text": [
      "[INFO] Map Soln Edepth:10.625992854892546\n",
      "[INFO] Full decorrelation took 0.04 minutes\n",
      "['mean', 'edepth', 'slope', 'slope_ycenter']                                    \n",
      "183.88, 210.02, 26.15 ppm difference\n"
     ]
    },
    {
     "name": "stderr",
     "output_type": "stream",
     "text": [
      "optimizing logp for variables: [slope_trace_length, slope_ycenter, slope, edepth, mean]\n",
      "116it [00:00, 184.11it/s, logp=4.977760e+02]\n",
      "message: Desired error not necessarily achieved due to precision loss.\n",
      "logp: -14799.379474807169 -> 497.77597528624887\n"
     ]
    },
    {
     "name": "stdout",
     "output_type": "stream",
     "text": [
      "[INFO] Map Soln Edepth:15.148035626957652\n",
      "[INFO] Full decorrelation took 0.04 minutes\n",
      "['mean', 'edepth', 'slope', 'slope_ycenter', 'slope_trace_length']              \n",
      "190.29, 210.02, 19.73 ppm difference\n",
      "[INFO] Trace Length Option took 0.08 minutes\n"
     ]
    },
    {
     "name": "stderr",
     "output_type": "stream",
     "text": [
      "optimizing logp for variables: [slope_trace_angle, slope_ycenter, slope, edepth, mean]\n",
      "102it [00:00, 181.67it/s, logp=4.476428e+02]\n",
      "message: Desired error not necessarily achieved due to precision loss.\n",
      "logp: -14799.379474807169 -> 447.64279296413395\n"
     ]
    },
    {
     "name": "stdout",
     "output_type": "stream",
     "text": [
      "[INFO] Map Soln Edepth:11.908394140792266\n",
      "[INFO] Full decorrelation took 0.04 minutes\n",
      "['mean', 'edepth', 'slope', 'slope_ycenter', 'slope_trace_angle']               \n",
      "186.11, 210.02, 23.92 ppm difference\n"
     ]
    },
    {
     "name": "stderr",
     "output_type": "stream",
     "text": [
      "optimizing logp for variables: [slope_trace_length, slope_trace_angle, slope_ycenter, slope, edepth, mean]\n",
      "126it [00:00, 191.92it/s, logp=4.979996e+02]\n",
      "message: Desired error not necessarily achieved due to precision loss.\n",
      "logp: -14800.765769168289 -> 497.9995620810632\n"
     ]
    },
    {
     "name": "stdout",
     "output_type": "stream",
     "text": [
      "[INFO] Map Soln Edepth:16.644856007480836\n",
      "[INFO] Full decorrelation took 0.05 minutes\n",
      "['mean', 'edepth', 'slope', 'slope_ycenter', 'slope_trace_angle', 'slope_trace_length']\n",
      "189.59, 210.02, 20.44 ppm difference\n",
      "[INFO] Trace Length Option took 0.09 minutes\n",
      "[INFO] Trace Angle Option took 0.17 minutes\n",
      "[INFO] Ycenter Option took 0.31 minutes\n"
     ]
    },
    {
     "name": "stderr",
     "output_type": "stream",
     "text": [
      "optimizing logp for variables: [slope_xcenter, slope, edepth, mean]\n",
      "97it [00:00, 178.32it/s, logp=5.104818e+02]\n",
      "message: Desired error not necessarily achieved due to precision loss.\n",
      "logp: -14797.993180446048 -> 510.4818226879363\n"
     ]
    },
    {
     "name": "stdout",
     "output_type": "stream",
     "text": [
      "[INFO] Map Soln Edepth:10.25292489812193\n",
      "[INFO] Full decorrelation took 0.04 minutes\n",
      "['mean', 'edepth', 'slope', 'slope_xcenter']                                    \n",
      "186.33, 210.02, 23.69 ppm difference\n"
     ]
    },
    {
     "name": "stderr",
     "output_type": "stream",
     "text": [
      "optimizing logp for variables: [slope_trace_length, slope_xcenter, slope, edepth, mean]\n",
      "33it [00:00, 82.64it/s, logp=5.112587e+02] \n",
      "message: Optimization terminated successfully.\n",
      "logp: -14799.379474807169 -> 511.25871352583215\n"
     ]
    },
    {
     "name": "stdout",
     "output_type": "stream",
     "text": [
      "[INFO] Map Soln Edepth:10.641479302642471\n",
      "[INFO] Full decorrelation took 0.04 minutes\n",
      "['mean', 'edepth', 'slope', 'slope_xcenter', 'slope_trace_length']              \n",
      "183.24, 210.02, 26.78 ppm difference\n",
      "[INFO] Trace Length Option took 0.07 minutes\n"
     ]
    },
    {
     "name": "stderr",
     "output_type": "stream",
     "text": [
      "optimizing logp for variables: [slope_trace_angle, slope_xcenter, slope, edepth, mean]\n",
      "102it [00:00, 158.31it/s, logp=5.092504e+02]\n",
      "message: Desired error not necessarily achieved due to precision loss.\n",
      "logp: -14799.379474807169 -> 509.2504152891153\n"
     ]
    },
    {
     "name": "stdout",
     "output_type": "stream",
     "text": [
      "[INFO] Map Soln Edepth:10.08247552495855\n",
      "[INFO] Full decorrelation took 0.04 minutes\n",
      "['mean', 'edepth', 'slope', 'slope_xcenter', 'slope_trace_angle']               \n",
      "186.21, 210.02, 23.82 ppm difference\n"
     ]
    },
    {
     "name": "stderr",
     "output_type": "stream",
     "text": [
      "optimizing logp for variables: [slope_trace_length, slope_trace_angle, slope_xcenter, slope, edepth, mean]\n",
      "102it [00:00, 161.74it/s, logp=5.099566e+02]\n",
      "message: Desired error not necessarily achieved due to precision loss.\n",
      "logp: -14800.765769168289 -> 509.9566462271637\n"
     ]
    },
    {
     "name": "stdout",
     "output_type": "stream",
     "text": [
      "[INFO] Map Soln Edepth:10.500422256898446\n",
      "[INFO] Full decorrelation took 0.05 minutes\n",
      "['mean', 'edepth', 'slope', 'slope_xcenter', 'slope_trace_angle', 'slope_trace_length']\n",
      "183.19, 210.02, 26.84 ppm difference\n",
      "[INFO] Trace Length Option took 0.09 minutes\n",
      "[INFO] Trace Angle Option took 0.17 minutes\n"
     ]
    },
    {
     "name": "stderr",
     "output_type": "stream",
     "text": [
      "optimizing logp for variables: [slope_ycenter, slope_xcenter, slope, edepth, mean]\n",
      "32it [00:00, 82.27it/s, logp=5.200820e+02] \n",
      "message: Optimization terminated successfully.\n",
      "logp: -14799.379474807169 -> 520.0819629043585\n"
     ]
    },
    {
     "name": "stdout",
     "output_type": "stream",
     "text": [
      "[INFO] Map Soln Edepth:13.796790560882648\n",
      "[INFO] Full decorrelation took 0.04 minutes\n",
      "['mean', 'edepth', 'slope', 'slope_xcenter', 'slope_ycenter']                   \n",
      "174.27, 210.02, 35.75 ppm difference\n"
     ]
    },
    {
     "name": "stderr",
     "output_type": "stream",
     "text": [
      "optimizing logp for variables: [slope_trace_length, slope_ycenter, slope_xcenter, slope, edepth, mean]\n",
      "115it [00:00, 184.17it/s, logp=5.217511e+02]\n",
      "message: Desired error not necessarily achieved due to precision loss.\n",
      "logp: -14800.765769168289 -> 521.7510550545911\n"
     ]
    },
    {
     "name": "stdout",
     "output_type": "stream",
     "text": [
      "[INFO] Map Soln Edepth:14.820292739093144\n",
      "[INFO] Full decorrelation took 0.05 minutes\n",
      "['mean', 'edepth', 'slope', 'slope_xcenter', 'slope_ycenter', 'slope_trace_length']\n",
      "170.53, 210.02, 39.49 ppm difference\n",
      "[INFO] Trace Length Option took 0.09 minutes\n"
     ]
    },
    {
     "name": "stderr",
     "output_type": "stream",
     "text": [
      "optimizing logp for variables: [slope_trace_angle, slope_ycenter, slope_xcenter, slope, edepth, mean]\n",
      "61it [00:00, 129.50it/s, logp=5.186970e+02]\n",
      "message: Optimization terminated successfully.\n",
      "logp: -14800.765769168289 -> 518.6970099599326\n"
     ]
    },
    {
     "name": "stdout",
     "output_type": "stream",
     "text": [
      "[INFO] Map Soln Edepth:13.831274276412294\n",
      "[INFO] Full decorrelation took 0.04 minutes\n",
      "['mean', 'edepth', 'slope', 'slope_xcenter', 'slope_ycenter', 'slope_trace_angle']\n",
      "174.26, 210.02, 35.76 ppm difference\n"
     ]
    },
    {
     "name": "stderr",
     "output_type": "stream",
     "text": [
      "optimizing logp for variables: [slope_trace_length, slope_trace_angle, slope_ycenter, slope_xcenter, slope, edepth, mean]\n",
      "79it [00:00, 148.66it/s, logp=5.203981e+02]\n",
      "message: Optimization terminated successfully.\n",
      "logp: -14802.15206352941 -> 520.3980990311987\n"
     ]
    },
    {
     "name": "stdout",
     "output_type": "stream",
     "text": [
      "[INFO] Map Soln Edepth:15.026861337301158\n",
      "[INFO] Full decorrelation took 0.05 minutes\n",
      "['mean', 'edepth', 'slope', 'slope_xcenter', 'slope_ycenter', 'slope_trace_angle', 'slope_trace_length']\n",
      "170.48, 210.02, 39.54 ppm difference\n",
      "[INFO] Trace Length Option took 0.09 minutes\n",
      "[INFO] Trace Angle Option took 0.18 minutes\n",
      "[INFO] Ycenter Option took 0.35 minutes\n",
      "[INFO] Xcenter Option took 0.66 minutes\n"
     ]
    },
    {
     "name": "stderr",
     "output_type": "stream",
     "text": [
      "optimizing logp for variables: [slope, edepth, mean_rev, mean_fwd]\n",
      "95it [00:00, 163.49it/s, logp=4.932823e+02]\n",
      "message: Desired error not necessarily achieved due to precision loss.\n",
      "logp: -14797.525824618133 -> 493.28229567895005\n"
     ]
    },
    {
     "name": "stdout",
     "output_type": "stream",
     "text": [
      "[INFO] Map Soln Edepth:8.107981700920853\n",
      "[INFO] Full decorrelation took 0.04 minutes\n",
      "['mean_fwd', 'mean_rev', 'edepth', 'slope']                                     \n",
      "206.14, 210.02, 3.88 ppm difference\n"
     ]
    },
    {
     "name": "stderr",
     "output_type": "stream",
     "text": [
      "optimizing logp for variables: [slope_trace_length, slope, edepth, mean_rev, mean_fwd]\n",
      "35it [00:00, 68.33it/s, logp=4.973156e+02] \n",
      "message: Optimization terminated successfully.\n",
      "logp: -14798.912118979253 -> 497.3155889272565\n"
     ]
    },
    {
     "name": "stdout",
     "output_type": "stream",
     "text": [
      "[INFO] Map Soln Edepth:9.056334921142398\n",
      "[INFO] Full decorrelation took 0.05 minutes\n",
      "['mean_fwd', 'mean_rev', 'edepth', 'slope', 'slope_trace_length']               \n",
      "199.77, 210.02, 10.26 ppm difference\n",
      "[INFO] Trace Length Option took 0.09 minutes\n"
     ]
    },
    {
     "name": "stderr",
     "output_type": "stream",
     "text": [
      "optimizing logp for variables: [slope_trace_angle, slope, edepth, mean_rev, mean_fwd]\n",
      "120it [00:00, 158.79it/s, logp=4.919787e+02]\n",
      "message: Desired error not necessarily achieved due to precision loss.\n",
      "logp: -14798.912118979253 -> 491.9786553280536\n"
     ]
    },
    {
     "name": "stdout",
     "output_type": "stream",
     "text": [
      "[INFO] Map Soln Edepth:8.014267048367271\n",
      "[INFO] Full decorrelation took 0.05 minutes\n",
      "['mean_fwd', 'mean_rev', 'edepth', 'slope', 'slope_trace_angle']                \n",
      "206.07, 210.02, 3.96 ppm difference\n"
     ]
    },
    {
     "name": "stderr",
     "output_type": "stream",
     "text": [
      "optimizing logp for variables: [slope_trace_length, slope_trace_angle, slope, edepth, mean_rev, mean_fwd]\n",
      "161it [00:00, 178.13it/s, logp=4.959326e+02]\n",
      "message: Desired error not necessarily achieved due to precision loss.\n",
      "logp: -14800.298413340373 -> 495.9326471870236\n"
     ]
    },
    {
     "name": "stdout",
     "output_type": "stream",
     "text": [
      "[INFO] Map Soln Edepth:9.030151384807114\n",
      "[INFO] Full decorrelation took 0.06 minutes\n",
      "['mean_fwd', 'mean_rev', 'edepth', 'slope', 'slope_trace_angle', 'slope_trace_length']\n",
      "199.77, 210.02, 10.26 ppm difference\n",
      "[INFO] Trace Length Option took 0.11 minutes\n",
      "[INFO] Trace Angle Option took 0.20 minutes\n"
     ]
    },
    {
     "name": "stderr",
     "output_type": "stream",
     "text": [
      "optimizing logp for variables: [slope_ycenter, slope, edepth, mean_rev, mean_fwd]\n",
      "79it [00:00, 128.25it/s, logp=5.145901e+02]\n",
      "message: Optimization terminated successfully.\n",
      "logp: -14798.912118979253 -> 514.5900611258849\n"
     ]
    },
    {
     "name": "stdout",
     "output_type": "stream",
     "text": [
      "[INFO] Map Soln Edepth:11.70733030883424\n",
      "[INFO] Full decorrelation took 0.16 minutes\n",
      "['mean_fwd', 'mean_rev', 'edepth', 'slope', 'slope_ycenter']                    \n",
      "182.30, 210.02, 27.72 ppm difference\n"
     ]
    },
    {
     "name": "stderr",
     "output_type": "stream",
     "text": [
      "optimizing logp for variables: [slope_trace_length, slope_ycenter, slope, edepth, mean_rev, mean_fwd]\n",
      "36it [00:00, 69.61it/s, logp=5.166834e+02] \n",
      "message: Optimization terminated successfully.\n",
      "logp: -14800.298413340373 -> 516.6833622693632\n"
     ]
    },
    {
     "name": "stdout",
     "output_type": "stream",
     "text": [
      "[INFO] Map Soln Edepth:12.983993674699544\n",
      "[INFO] Full decorrelation took 0.05 minutes\n",
      "['mean_fwd', 'mean_rev', 'edepth', 'slope', 'slope_ycenter', 'slope_trace_length']\n",
      "178.07, 210.02, 31.95 ppm difference\n",
      "[INFO] Trace Length Option took 0.21 minutes\n"
     ]
    },
    {
     "name": "stderr",
     "output_type": "stream",
     "text": [
      "optimizing logp for variables: [slope_trace_angle, slope_ycenter, slope, edepth, mean_rev, mean_fwd]\n",
      "142it [00:00, 182.29it/s, logp=5.132209e+02]\n",
      "message: Desired error not necessarily achieved due to precision loss.\n",
      "logp: -14800.298413340373 -> 513.2208501500731\n"
     ]
    },
    {
     "name": "stdout",
     "output_type": "stream",
     "text": [
      "[INFO] Map Soln Edepth:11.805851333762709\n",
      "[INFO] Full decorrelation took 0.06 minutes\n",
      "['mean_fwd', 'mean_rev', 'edepth', 'slope', 'slope_ycenter', 'slope_trace_angle']\n",
      "182.28, 210.02, 27.75 ppm difference\n"
     ]
    },
    {
     "name": "stderr",
     "output_type": "stream",
     "text": [
      "optimizing logp for variables: [slope_trace_length, slope_trace_angle, slope_ycenter, slope, edepth, mean_rev, mean_fwd]\n",
      "124it [00:00, 156.24it/s, logp=5.153892e+02]\n",
      "message: Desired error not necessarily achieved due to precision loss.\n",
      "logp: -14801.684707701494 -> 515.3892178856131\n"
     ]
    },
    {
     "name": "stdout",
     "output_type": "stream",
     "text": [
      "[INFO] Map Soln Edepth:13.2851894068666\n",
      "[INFO] Full decorrelation took 0.06 minutes\n",
      "['mean_fwd', 'mean_rev', 'edepth', 'slope', 'slope_ycenter', 'slope_trace_angle', 'slope_trace_length']\n",
      "177.95, 210.02, 32.07 ppm difference\n",
      "[INFO] Trace Length Option took 0.12 minutes\n",
      "[INFO] Trace Angle Option took 0.33 minutes\n",
      "[INFO] Ycenter Option took 0.53 minutes\n"
     ]
    },
    {
     "name": "stderr",
     "output_type": "stream",
     "text": [
      "optimizing logp for variables: [slope_xcenter, slope, edepth, mean_rev, mean_fwd]\n",
      "89it [00:00, 136.73it/s, logp=5.103919e+02]\n",
      "message: Optimization terminated successfully.\n",
      "logp: -14798.912118979253 -> 510.39190405582497\n"
     ]
    },
    {
     "name": "stdout",
     "output_type": "stream",
     "text": [
      "[INFO] Map Soln Edepth:10.944885764233831\n",
      "[INFO] Full decorrelation took 0.05 minutes\n",
      "['mean_fwd', 'mean_rev', 'edepth', 'slope', 'slope_xcenter']                    \n",
      "185.42, 210.02, 24.60 ppm difference\n"
     ]
    },
    {
     "name": "stderr",
     "output_type": "stream",
     "text": [
      "optimizing logp for variables: [slope_trace_length, slope_xcenter, slope, edepth, mean_rev, mean_fwd]\n",
      "157it [00:00, 183.10it/s, logp=5.122445e+02]\n",
      "message: Desired error not necessarily achieved due to precision loss.\n",
      "logp: -14800.298413340373 -> 512.2444512092385\n"
     ]
    },
    {
     "name": "stdout",
     "output_type": "stream",
     "text": [
      "[INFO] Map Soln Edepth:11.99401176912406\n",
      "[INFO] Full decorrelation took 0.06 minutes\n",
      "['mean_fwd', 'mean_rev', 'edepth', 'slope', 'slope_xcenter', 'slope_trace_length']\n",
      "181.09, 210.02, 28.93 ppm difference\n",
      "[INFO] Trace Length Option took 0.10 minutes\n"
     ]
    },
    {
     "name": "stderr",
     "output_type": "stream",
     "text": [
      "optimizing logp for variables: [slope_trace_angle, slope_xcenter, slope, edepth, mean_rev, mean_fwd]\n",
      "74it [00:00, 116.72it/s, logp=5.091033e+02]\n",
      "message: Optimization terminated successfully.\n",
      "logp: -14800.298413340373 -> 509.10327767521744\n"
     ]
    },
    {
     "name": "stdout",
     "output_type": "stream",
     "text": [
      "[INFO] Map Soln Edepth:10.768887374220107\n",
      "[INFO] Full decorrelation took 0.05 minutes\n",
      "['mean_fwd', 'mean_rev', 'edepth', 'slope', 'slope_xcenter', 'slope_trace_angle']\n",
      "185.36, 210.02, 24.66 ppm difference\n"
     ]
    },
    {
     "name": "stderr",
     "output_type": "stream",
     "text": [
      "optimizing logp for variables: [slope_trace_length, slope_trace_angle, slope_xcenter, slope, edepth, mean_rev, mean_fwd]\n",
      "122it [00:00, 157.97it/s, logp=5.108754e+02]\n",
      "message: Desired error not necessarily achieved due to precision loss.\n",
      "logp: -14801.684707701494 -> 510.8754358837757\n"
     ]
    },
    {
     "name": "stdout",
     "output_type": "stream",
     "text": [
      "[INFO] Map Soln Edepth:11.89701132977272\n",
      "[INFO] Full decorrelation took 0.06 minutes\n",
      "['mean_fwd', 'mean_rev', 'edepth', 'slope', 'slope_xcenter', 'slope_trace_angle', 'slope_trace_length']\n",
      "181.09, 210.02, 28.93 ppm difference\n",
      "[INFO] Trace Length Option took 0.11 minutes\n",
      "[INFO] Trace Angle Option took 0.22 minutes\n"
     ]
    },
    {
     "name": "stderr",
     "output_type": "stream",
     "text": [
      "optimizing logp for variables: [slope_ycenter, slope_xcenter, slope, edepth, mean_rev, mean_fwd]\n",
      "87it [00:00, 131.41it/s, logp=5.195559e+02]\n",
      "message: Optimization terminated successfully.\n",
      "logp: -14800.298413340373 -> 519.5558682752637\n"
     ]
    },
    {
     "name": "stdout",
     "output_type": "stream",
     "text": [
      "[INFO] Map Soln Edepth:13.386587402511571\n",
      "[INFO] Full decorrelation took 0.05 minutes\n",
      "['mean_fwd', 'mean_rev', 'edepth', 'slope', 'slope_xcenter', 'slope_ycenter']   \n",
      "174.03, 210.02, 35.99 ppm difference\n"
     ]
    },
    {
     "name": "stderr",
     "output_type": "stream",
     "text": [
      "optimizing logp for variables: [slope_trace_length, slope_ycenter, slope_xcenter, slope, edepth, mean_rev, mean_fwd]\n",
      "121it [00:00, 153.36it/s, logp=5.208551e+02]\n",
      "message: Desired error not necessarily achieved due to precision loss.\n",
      "logp: -14801.684707701494 -> 520.8551497611866\n"
     ]
    },
    {
     "name": "stdout",
     "output_type": "stream",
     "text": [
      "[INFO] Map Soln Edepth:14.67449109097063\n",
      "[INFO] Full decorrelation took 0.06 minutes\n",
      "['mean_fwd', 'mean_rev', 'edepth', 'slope', 'slope_xcenter', 'slope_ycenter', 'slope_trace_length']\n",
      "170.56, 210.02, 39.47 ppm difference\n",
      "[INFO] Trace Length Option took 0.11 minutes\n"
     ]
    },
    {
     "name": "stderr",
     "output_type": "stream",
     "text": [
      "optimizing logp for variables: [slope_trace_angle, slope_ycenter, slope_xcenter, slope, edepth, mean_rev, mean_fwd]\n",
      "58it [00:00, 96.62it/s, logp=5.181697e+02] \n",
      "message: Optimization terminated successfully.\n",
      "logp: -14801.684707701494 -> 518.1697378746676\n"
     ]
    },
    {
     "name": "stdout",
     "output_type": "stream",
     "text": [
      "[INFO] Map Soln Edepth:13.398326648074294\n",
      "[INFO] Full decorrelation took 0.06 minutes\n",
      "['mean_fwd', 'mean_rev', 'edepth', 'slope', 'slope_xcenter', 'slope_ycenter', 'slope_trace_angle']\n",
      "174.03, 210.02, 35.99 ppm difference\n"
     ]
    },
    {
     "name": "stderr",
     "output_type": "stream",
     "text": [
      "optimizing logp for variables: [slope_trace_length, slope_trace_angle, slope_ycenter, slope_xcenter, slope, edepth, mean_rev, mean_fwd]\n",
      "45it [00:00, 78.47it/s, logp=5.194989e+02] \n",
      "message: Optimization terminated successfully.\n",
      "logp: -14803.071002062614 -> 519.4988685874018\n"
     ]
    },
    {
     "name": "stdout",
     "output_type": "stream",
     "text": [
      "[INFO] Map Soln Edepth:14.878290697813682\n",
      "[INFO] Full decorrelation took 0.06 minutes\n",
      "['mean_fwd', 'mean_rev', 'edepth', 'slope', 'slope_xcenter', 'slope_ycenter', 'slope_trace_angle', 'slope_trace_length']\n",
      "170.51, 210.02, 39.52 ppm difference\n",
      "[INFO] Trace Length Option took 0.12 minutes\n",
      "[INFO] Trace Angle Option took 0.23 minutes\n",
      "[INFO] Ycenter Option took 0.45 minutes\n",
      "[INFO] Xcenter Option took 0.98 minutes\n",
      "[INFO] Run through for aperture_sum_12x41 took 1.63 minutes\n",
      "[INFO] Saving aperture_sum_12x41 to /home/nelly/Research/Planets/WASP43/github_analysis/notebooks/all400_results_decor_MAPs_only_SDNR/results_decor_span_MAPs_only_SDNR_aperture_sum_12x41.joblib.save\n"
     ]
    },
    {
     "name": "stderr",
     "output_type": "stream",
     "text": [
      "optimizing logp for variables: [slope, edepth, mean]\n",
      "216it [00:00, 284.27it/s, logp=4.332488e+02]\n",
      "message: Desired error not necessarily achieved due to precision loss.\n",
      "logp: -14792.240913377276 -> 433.2487710139514\n"
     ]
    },
    {
     "name": "stdout",
     "output_type": "stream",
     "text": [
      "[INFO] Map Soln Edepth:8.180628713174963\n",
      "[INFO] Full decorrelation took 0.03 minutes\n",
      "['mean', 'edepth', 'slope']                                                     \n",
      "206.22, 210.01, 3.79 ppm difference\n"
     ]
    },
    {
     "name": "stderr",
     "output_type": "stream",
     "text": [
      "optimizing logp for variables: [slope_trace_length, slope, edepth, mean]\n",
      "103it [00:00, 181.76it/s, logp=4.842425e+02]\n",
      "message: Desired error not necessarily achieved due to precision loss.\n",
      "logp: -14793.627207738395 -> 484.24251736698415\n"
     ]
    },
    {
     "name": "stdout",
     "output_type": "stream",
     "text": [
      "[INFO] Map Soln Edepth:10.485542004921019\n",
      "[INFO] Full decorrelation took 0.04 minutes\n",
      "['mean', 'edepth', 'slope', 'slope_trace_length']                               \n",
      "207.05, 210.01, 2.96 ppm difference\n",
      "[INFO] Trace Length Option took 0.07 minutes\n"
     ]
    },
    {
     "name": "stderr",
     "output_type": "stream",
     "text": [
      "optimizing logp for variables: [slope_trace_angle, slope, edepth, mean]\n",
      "87it [00:00, 165.09it/s, logp=4.342689e+02]\n",
      "message: Desired error not necessarily achieved due to precision loss.\n",
      "logp: -14793.627207738395 -> 434.2688649059929\n"
     ]
    },
    {
     "name": "stdout",
     "output_type": "stream",
     "text": [
      "[INFO] Map Soln Edepth:8.691344669862234\n",
      "[INFO] Full decorrelation took 0.04 minutes\n",
      "['mean', 'edepth', 'slope', 'slope_trace_angle']                                \n",
      "208.74, 210.01, 1.26 ppm difference\n"
     ]
    },
    {
     "name": "stderr",
     "output_type": "stream",
     "text": [
      "optimizing logp for variables: [slope_trace_length, slope_trace_angle, slope, edepth, mean]\n",
      "220it [00:00, 266.79it/s, logp=4.835293e+02]\n",
      "message: Desired error not necessarily achieved due to precision loss.\n",
      "logp: -14795.013502099515 -> 483.5293165949108\n"
     ]
    },
    {
     "name": "stdout",
     "output_type": "stream",
     "text": [
      "[INFO] Map Soln Edepth:10.885430622078985\n",
      "[INFO] Full decorrelation took 0.04 minutes\n",
      "['mean', 'edepth', 'slope', 'slope_trace_angle', 'slope_trace_length']          \n",
      "206.99, 210.01, 3.02 ppm difference\n",
      "[INFO] Trace Length Option took 0.08 minutes\n",
      "[INFO] Trace Angle Option took 0.15 minutes\n"
     ]
    },
    {
     "name": "stderr",
     "output_type": "stream",
     "text": [
      "optimizing logp for variables: [slope_ycenter, slope, edepth, mean]\n",
      "100it [00:00, 184.40it/s, logp=4.444219e+02]\n",
      "message: Desired error not necessarily achieved due to precision loss.\n",
      "logp: -14793.627207738395 -> 444.4218628942062\n"
     ]
    },
    {
     "name": "stdout",
     "output_type": "stream",
     "text": [
      "[INFO] Map Soln Edepth:10.625951404763295\n",
      "[INFO] Full decorrelation took 0.04 minutes\n",
      "['mean', 'edepth', 'slope', 'slope_ycenter']                                    \n",
      "183.80, 210.01, 26.21 ppm difference\n"
     ]
    },
    {
     "name": "stderr",
     "output_type": "stream",
     "text": [
      "optimizing logp for variables: [slope_trace_length, slope_ycenter, slope, edepth, mean]\n",
      "39it [00:00, 98.09it/s, logp=4.976251e+02] \n",
      "message: Optimization terminated successfully.\n",
      "logp: -14795.013502099515 -> 497.62514414620546\n"
     ]
    },
    {
     "name": "stdout",
     "output_type": "stream",
     "text": [
      "[INFO] Map Soln Edepth:15.184070307657931\n",
      "[INFO] Full decorrelation took 0.04 minutes\n",
      "['mean', 'edepth', 'slope', 'slope_ycenter', 'slope_trace_length']              \n",
      "190.33, 210.01, 19.68 ppm difference\n",
      "[INFO] Trace Length Option took 0.08 minutes\n"
     ]
    },
    {
     "name": "stderr",
     "output_type": "stream",
     "text": [
      "optimizing logp for variables: [slope_trace_angle, slope_ycenter, slope, edepth, mean]\n",
      "90it [00:00, 178.10it/s, logp=4.469004e+02]\n",
      "message: Desired error not necessarily achieved due to precision loss.\n",
      "logp: -14795.013502099515 -> 446.9003896487569\n"
     ]
    },
    {
     "name": "stdout",
     "output_type": "stream",
     "text": [
      "[INFO] Map Soln Edepth:11.914023057419548\n",
      "[INFO] Full decorrelation took 0.04 minutes\n",
      "['mean', 'edepth', 'slope', 'slope_ycenter', 'slope_trace_angle']               \n",
      "186.05, 210.01, 23.95 ppm difference\n"
     ]
    },
    {
     "name": "stderr",
     "output_type": "stream",
     "text": [
      "optimizing logp for variables: [slope_trace_length, slope_trace_angle, slope_ycenter, slope, edepth, mean]\n",
      "113it [00:00, 186.16it/s, logp=4.978647e+02]\n",
      "message: Desired error not necessarily achieved due to precision loss.\n",
      "logp: -14796.399796460635 -> 497.86467005968046\n"
     ]
    },
    {
     "name": "stdout",
     "output_type": "stream",
     "text": [
      "[INFO] Map Soln Edepth:16.694575125540755\n",
      "[INFO] Full decorrelation took 0.05 minutes\n",
      "['mean', 'edepth', 'slope', 'slope_ycenter', 'slope_trace_angle', 'slope_trace_length']\n",
      "189.62, 210.01, 20.39 ppm difference\n",
      "[INFO] Trace Length Option took 0.09 minutes\n",
      "[INFO] Trace Angle Option took 0.16 minutes\n",
      "[INFO] Ycenter Option took 0.31 minutes\n"
     ]
    },
    {
     "name": "stderr",
     "output_type": "stream",
     "text": [
      "optimizing logp for variables: [slope_xcenter, slope, edepth, mean]\n",
      "35it [00:00, 94.50it/s, logp=5.104874e+02] \n",
      "message: Optimization terminated successfully.\n",
      "logp: -14793.627207738395 -> 510.48738487737745\n"
     ]
    },
    {
     "name": "stdout",
     "output_type": "stream",
     "text": [
      "[INFO] Map Soln Edepth:10.261321504080989\n",
      "[INFO] Full decorrelation took 0.03 minutes\n",
      "['mean', 'edepth', 'slope', 'slope_xcenter']                                    \n",
      "186.32, 210.01, 23.69 ppm difference\n"
     ]
    },
    {
     "name": "stderr",
     "output_type": "stream",
     "text": [
      "optimizing logp for variables: [slope_trace_length, slope_xcenter, slope, edepth, mean]\n",
      "166it [00:00, 226.71it/s, logp=5.113045e+02]\n",
      "message: Desired error not necessarily achieved due to precision loss.\n",
      "logp: -14795.013502099515 -> 511.3044673927829\n"
     ]
    },
    {
     "name": "stdout",
     "output_type": "stream",
     "text": [
      "[INFO] Map Soln Edepth:10.654202540919275\n",
      "[INFO] Full decorrelation took 0.04 minutes\n",
      "['mean', 'edepth', 'slope', 'slope_xcenter', 'slope_trace_length']              \n",
      "183.18, 210.01, 26.83 ppm difference\n",
      "[INFO] Trace Length Option took 0.08 minutes\n"
     ]
    },
    {
     "name": "stderr",
     "output_type": "stream",
     "text": [
      "optimizing logp for variables: [slope_trace_angle, slope_xcenter, slope, edepth, mean]\n",
      "104it [00:00, 179.51it/s, logp=5.092565e+02]\n",
      "message: Desired error not necessarily achieved due to precision loss.\n",
      "logp: -14795.013502099515 -> 509.2564608678728\n"
     ]
    },
    {
     "name": "stdout",
     "output_type": "stream",
     "text": [
      "[INFO] Map Soln Edepth:10.090345042723342\n",
      "[INFO] Full decorrelation took 0.04 minutes\n",
      "['mean', 'edepth', 'slope', 'slope_xcenter', 'slope_trace_angle']               \n",
      "186.19, 210.01, 23.81 ppm difference\n"
     ]
    },
    {
     "name": "stderr",
     "output_type": "stream",
     "text": [
      "optimizing logp for variables: [slope_trace_length, slope_trace_angle, slope_xcenter, slope, edepth, mean]\n",
      "111it [00:00, 181.74it/s, logp=5.100022e+02]\n",
      "message: Desired error not necessarily achieved due to precision loss.\n",
      "logp: -14796.399796460635 -> 510.00219594113685\n"
     ]
    },
    {
     "name": "stdout",
     "output_type": "stream",
     "text": [
      "[INFO] Map Soln Edepth:10.513032860352187\n",
      "[INFO] Full decorrelation took 0.05 minutes\n",
      "['mean', 'edepth', 'slope', 'slope_xcenter', 'slope_trace_angle', 'slope_trace_length']\n",
      "183.12, 210.01, 26.88 ppm difference\n",
      "[INFO] Trace Length Option took 0.09 minutes\n",
      "[INFO] Trace Angle Option took 0.16 minutes\n"
     ]
    },
    {
     "name": "stderr",
     "output_type": "stream",
     "text": [
      "optimizing logp for variables: [slope_ycenter, slope_xcenter, slope, edepth, mean]\n",
      "110it [00:00, 183.22it/s, logp=5.201213e+02]\n",
      "message: Desired error not necessarily achieved due to precision loss.\n",
      "logp: -14795.013502099515 -> 520.1212845176323\n"
     ]
    },
    {
     "name": "stdout",
     "output_type": "stream",
     "text": [
      "[INFO] Map Soln Edepth:13.818332975004205\n",
      "[INFO] Full decorrelation took 0.04 minutes\n",
      "['mean', 'edepth', 'slope', 'slope_xcenter', 'slope_ycenter']                   \n",
      "174.20, 210.01, 35.81 ppm difference\n"
     ]
    },
    {
     "name": "stderr",
     "output_type": "stream",
     "text": [
      "optimizing logp for variables: [slope_trace_length, slope_ycenter, slope_xcenter, slope, edepth, mean]\n",
      "92it [00:00, 161.51it/s, logp=5.218398e+02]\n",
      "message: Desired error not necessarily achieved due to precision loss.\n",
      "logp: -14796.399796460635 -> 521.8397975475023\n"
     ]
    },
    {
     "name": "stdout",
     "output_type": "stream",
     "text": [
      "[INFO] Map Soln Edepth:14.853468446140392\n",
      "[INFO] Full decorrelation took 0.16 minutes\n",
      "['mean', 'edepth', 'slope', 'slope_xcenter', 'slope_ycenter', 'slope_trace_length']\n",
      "170.41, 210.01, 39.60 ppm difference\n",
      "[INFO] Trace Length Option took 0.20 minutes\n"
     ]
    },
    {
     "name": "stderr",
     "output_type": "stream",
     "text": [
      "optimizing logp for variables: [slope_trace_angle, slope_ycenter, slope_xcenter, slope, edepth, mean]\n",
      "43it [00:00, 102.59it/s, logp=5.187363e+02]\n",
      "message: Optimization terminated successfully.\n",
      "logp: -14796.399796460635 -> 518.7363366091205\n"
     ]
    },
    {
     "name": "stdout",
     "output_type": "stream",
     "text": [
      "[INFO] Map Soln Edepth:13.852950397249376\n",
      "[INFO] Full decorrelation took 0.04 minutes\n",
      "['mean', 'edepth', 'slope', 'slope_xcenter', 'slope_ycenter', 'slope_trace_angle']\n",
      "174.19, 210.01, 35.81 ppm difference\n"
     ]
    },
    {
     "name": "stderr",
     "output_type": "stream",
     "text": [
      "optimizing logp for variables: [slope_trace_length, slope_trace_angle, slope_ycenter, slope_xcenter, slope, edepth, mean]\n",
      "113it [00:00, 182.10it/s, logp=5.204873e+02]\n",
      "message: Desired error not necessarily achieved due to precision loss.\n",
      "logp: -14797.786090821755 -> 520.4873015241797\n"
     ]
    },
    {
     "name": "stdout",
     "output_type": "stream",
     "text": [
      "[INFO] Map Soln Edepth:15.062262487909223\n",
      "[INFO] Full decorrelation took 0.05 minutes\n",
      "['mean', 'edepth', 'slope', 'slope_xcenter', 'slope_ycenter', 'slope_trace_angle', 'slope_trace_length']\n",
      "170.36, 210.01, 39.65 ppm difference\n",
      "[INFO] Trace Length Option took 0.09 minutes\n",
      "[INFO] Trace Angle Option took 0.30 minutes\n",
      "[INFO] Ycenter Option took 0.46 minutes\n",
      "[INFO] Xcenter Option took 0.77 minutes\n"
     ]
    },
    {
     "name": "stderr",
     "output_type": "stream",
     "text": [
      "optimizing logp for variables: [slope, edepth, mean_rev, mean_fwd]\n",
      "98it [00:00, 149.09it/s, logp=4.932308e+02]\n",
      "message: Desired error not necessarily achieved due to precision loss.\n",
      "logp: -14793.159851910481 -> 493.2307760366706\n"
     ]
    },
    {
     "name": "stdout",
     "output_type": "stream",
     "text": [
      "[INFO] Map Soln Edepth:8.10409548595418\n",
      "[INFO] Full decorrelation took 0.05 minutes\n",
      "['mean_fwd', 'mean_rev', 'edepth', 'slope']                                     \n",
      "206.19, 210.01, 3.82 ppm difference\n"
     ]
    },
    {
     "name": "stderr",
     "output_type": "stream",
     "text": [
      "optimizing logp for variables: [slope_trace_length, slope, edepth, mean_rev, mean_fwd]\n",
      "105it [00:00, 149.70it/s, logp=4.973090e+02]\n",
      "message: Desired error not necessarily achieved due to precision loss.\n",
      "logp: -14794.546146271601 -> 497.30896263739214\n"
     ]
    },
    {
     "name": "stdout",
     "output_type": "stream",
     "text": [
      "[INFO] Map Soln Edepth:9.055927158926128\n",
      "[INFO] Full decorrelation took 0.05 minutes\n",
      "['mean_fwd', 'mean_rev', 'edepth', 'slope', 'slope_trace_length']               \n",
      "199.77, 210.01, 10.24 ppm difference\n",
      "[INFO] Trace Length Option took 0.09 minutes\n"
     ]
    },
    {
     "name": "stderr",
     "output_type": "stream",
     "text": [
      "optimizing logp for variables: [slope_trace_angle, slope, edepth, mean_rev, mean_fwd]\n",
      "182it [00:00, 208.26it/s, logp=4.919283e+02]\n",
      "message: Desired error not necessarily achieved due to precision loss.\n",
      "logp: -14794.546146271601 -> 491.9283486569704\n"
     ]
    },
    {
     "name": "stdout",
     "output_type": "stream",
     "text": [
      "[INFO] Map Soln Edepth:8.009789290104019\n",
      "[INFO] Full decorrelation took 0.05 minutes\n",
      "['mean_fwd', 'mean_rev', 'edepth', 'slope', 'slope_trace_angle']                \n",
      "206.11, 210.01, 3.89 ppm difference\n"
     ]
    },
    {
     "name": "stderr",
     "output_type": "stream",
     "text": [
      "optimizing logp for variables: [slope_trace_length, slope_trace_angle, slope, edepth, mean_rev, mean_fwd]\n",
      "86it [00:00, 130.04it/s, logp=4.959262e+02]\n",
      "message: Desired error not necessarily achieved due to precision loss.\n",
      "logp: -14795.93244063272 -> 495.92615652009835\n"
     ]
    },
    {
     "name": "stdout",
     "output_type": "stream",
     "text": [
      "[INFO] Map Soln Edepth:9.029221840294824\n",
      "[INFO] Full decorrelation took 0.05 minutes\n",
      "['mean_fwd', 'mean_rev', 'edepth', 'slope', 'slope_trace_angle', 'slope_trace_length']\n",
      "199.77, 210.01, 10.24 ppm difference\n",
      "[INFO] Trace Length Option took 0.11 minutes\n",
      "[INFO] Trace Angle Option took 0.20 minutes\n"
     ]
    },
    {
     "name": "stderr",
     "output_type": "stream",
     "text": [
      "optimizing logp for variables: [slope_ycenter, slope, edepth, mean_rev, mean_fwd]\n",
      "94it [00:00, 142.58it/s, logp=5.146716e+02]\n",
      "message: Desired error not necessarily achieved due to precision loss.\n",
      "logp: -14794.546146271601 -> 514.6716059089908\n"
     ]
    },
    {
     "name": "stdout",
     "output_type": "stream",
     "text": [
      "[INFO] Map Soln Edepth:11.714569133841419\n",
      "[INFO] Full decorrelation took 0.05 minutes\n",
      "['mean_fwd', 'mean_rev', 'edepth', 'slope', 'slope_ycenter']                    \n",
      "182.20, 210.01, 27.81 ppm difference\n"
     ]
    },
    {
     "name": "stderr",
     "output_type": "stream",
     "text": [
      "optimizing logp for variables: [slope_trace_length, slope_ycenter, slope, edepth, mean_rev, mean_fwd]\n",
      "36it [00:00, 70.42it/s, logp=5.167959e+02] \n",
      "message: Optimization terminated successfully.\n",
      "logp: -14795.93244063272 -> 516.7958932747524\n"
     ]
    },
    {
     "name": "stdout",
     "output_type": "stream",
     "text": [
      "[INFO] Map Soln Edepth:12.99895133603863\n",
      "[INFO] Full decorrelation took 0.05 minutes\n",
      "['mean_fwd', 'mean_rev', 'edepth', 'slope', 'slope_ycenter', 'slope_trace_length']\n",
      "177.93, 210.01, 32.07 ppm difference\n",
      "[INFO] Trace Length Option took 0.10 minutes\n"
     ]
    },
    {
     "name": "stderr",
     "output_type": "stream",
     "text": [
      "optimizing logp for variables: [slope_trace_angle, slope_ycenter, slope, edepth, mean_rev, mean_fwd]\n",
      "209it [00:00, 219.68it/s, logp=5.133022e+02]\n",
      "message: Desired error not necessarily achieved due to precision loss.\n",
      "logp: -14795.93244063272 -> 513.3021654153592\n"
     ]
    },
    {
     "name": "stdout",
     "output_type": "stream",
     "text": [
      "[INFO] Map Soln Edepth:11.812520037870554\n",
      "[INFO] Full decorrelation took 0.06 minutes\n",
      "['mean_fwd', 'mean_rev', 'edepth', 'slope', 'slope_ycenter', 'slope_trace_angle']\n",
      "182.18, 210.01, 27.83 ppm difference\n"
     ]
    },
    {
     "name": "stderr",
     "output_type": "stream",
     "text": [
      "optimizing logp for variables: [slope_trace_length, slope_trace_angle, slope_ycenter, slope, edepth, mean_rev, mean_fwd]\n",
      "115it [00:00, 162.72it/s, logp=5.155017e+02]\n",
      "message: Desired error not necessarily achieved due to precision loss.\n",
      "logp: -14797.31873499384 -> 515.5016817282283\n"
     ]
    },
    {
     "name": "stdout",
     "output_type": "stream",
     "text": [
      "[INFO] Map Soln Edepth:13.300661936308884\n",
      "[INFO] Full decorrelation took 0.06 minutes\n",
      "['mean_fwd', 'mean_rev', 'edepth', 'slope', 'slope_ycenter', 'slope_trace_angle', 'slope_trace_length']\n",
      "177.82, 210.01, 32.19 ppm difference\n",
      "[INFO] Trace Length Option took 0.12 minutes\n",
      "[INFO] Trace Angle Option took 0.22 minutes\n",
      "[INFO] Ycenter Option took 0.42 minutes\n"
     ]
    },
    {
     "name": "stderr",
     "output_type": "stream",
     "text": [
      "optimizing logp for variables: [slope_xcenter, slope, edepth, mean_rev, mean_fwd]\n",
      "87it [00:00, 143.35it/s, logp=5.103674e+02]\n",
      "message: Desired error not necessarily achieved due to precision loss.\n",
      "logp: -14794.546146271601 -> 510.36744610448534\n"
     ]
    },
    {
     "name": "stdout",
     "output_type": "stream",
     "text": [
      "[INFO] Map Soln Edepth:10.940940534716118\n",
      "[INFO] Full decorrelation took 0.05 minutes\n",
      "['mean_fwd', 'mean_rev', 'edepth', 'slope', 'slope_xcenter']                    \n",
      "185.44, 210.01, 24.57 ppm difference\n"
     ]
    },
    {
     "name": "stderr",
     "output_type": "stream",
     "text": [
      "optimizing logp for variables: [slope_trace_length, slope_xcenter, slope, edepth, mean_rev, mean_fwd]\n",
      "114it [00:00, 141.72it/s, logp=5.122535e+02]\n",
      "message: Desired error not necessarily achieved due to precision loss.\n",
      "logp: -14795.93244063272 -> 512.2535394719997\n"
     ]
    },
    {
     "name": "stdout",
     "output_type": "stream",
     "text": [
      "[INFO] Map Soln Edepth:11.995270541059348\n",
      "[INFO] Full decorrelation took 0.06 minutes\n",
      "['mean_fwd', 'mean_rev', 'edepth', 'slope', 'slope_xcenter', 'slope_trace_length']\n",
      "181.07, 210.01, 28.94 ppm difference\n",
      "[INFO] Trace Length Option took 0.10 minutes\n"
     ]
    },
    {
     "name": "stderr",
     "output_type": "stream",
     "text": [
      "optimizing logp for variables: [slope_trace_angle, slope_xcenter, slope, edepth, mean_rev, mean_fwd]\n",
      "38it [00:00, 70.48it/s, logp=5.090802e+02] \n",
      "message: Optimization terminated successfully.\n",
      "logp: -14795.93244063272 -> 509.0801535653461\n"
     ]
    },
    {
     "name": "stdout",
     "output_type": "stream",
     "text": [
      "[INFO] Map Soln Edepth:10.763876178727628\n",
      "[INFO] Full decorrelation took 0.05 minutes\n",
      "['mean_fwd', 'mean_rev', 'edepth', 'slope', 'slope_xcenter', 'slope_trace_angle']\n",
      "185.37, 210.01, 24.63 ppm difference\n"
     ]
    },
    {
     "name": "stderr",
     "output_type": "stream",
     "text": [
      "optimizing logp for variables: [slope_trace_length, slope_trace_angle, slope_xcenter, slope, edepth, mean_rev, mean_fwd]\n",
      "134it [00:00, 160.27it/s, logp=5.108848e+02]\n",
      "message: Desired error not necessarily achieved due to precision loss.\n",
      "logp: -14797.31873499384 -> 510.88483997232674\n"
     ]
    },
    {
     "name": "stdout",
     "output_type": "stream",
     "text": [
      "[INFO] Map Soln Edepth:11.897372903416542\n",
      "[INFO] Full decorrelation took 0.06 minutes\n",
      "['mean_fwd', 'mean_rev', 'edepth', 'slope', 'slope_xcenter', 'slope_trace_angle', 'slope_trace_length']\n",
      "181.07, 210.01, 28.94 ppm difference\n",
      "[INFO] Trace Length Option took 0.11 minutes\n",
      "[INFO] Trace Angle Option took 0.22 minutes\n"
     ]
    },
    {
     "name": "stderr",
     "output_type": "stream",
     "text": [
      "optimizing logp for variables: [slope_ycenter, slope_xcenter, slope, edepth, mean_rev, mean_fwd]\n",
      "115it [00:00, 144.12it/s, logp=5.196221e+02]\n",
      "message: Desired error not necessarily achieved due to precision loss.\n",
      "logp: -14795.93244063272 -> 519.6220611370104\n"
     ]
    },
    {
     "name": "stdout",
     "output_type": "stream",
     "text": [
      "[INFO] Map Soln Edepth:13.393538397018922\n",
      "[INFO] Full decorrelation took 0.06 minutes\n",
      "['mean_fwd', 'mean_rev', 'edepth', 'slope', 'slope_xcenter', 'slope_ycenter']   \n",
      "173.94, 210.01, 36.07 ppm difference\n"
     ]
    },
    {
     "name": "stderr",
     "output_type": "stream",
     "text": [
      "optimizing logp for variables: [slope_trace_length, slope_ycenter, slope_xcenter, slope, edepth, mean_rev, mean_fwd]\n",
      "126it [00:00, 155.91it/s, logp=5.209496e+02]\n",
      "message: Desired error not necessarily achieved due to precision loss.\n",
      "logp: -14797.31873499384 -> 520.9496436013233\n"
     ]
    },
    {
     "name": "stdout",
     "output_type": "stream",
     "text": [
      "[INFO] Map Soln Edepth:14.689999455110724\n",
      "[INFO] Full decorrelation took 0.06 minutes\n",
      "['mean_fwd', 'mean_rev', 'edepth', 'slope', 'slope_xcenter', 'slope_ycenter', 'slope_trace_length']\n",
      "170.43, 210.01, 39.57 ppm difference\n",
      "[INFO] Trace Length Option took 0.12 minutes\n"
     ]
    },
    {
     "name": "stderr",
     "output_type": "stream",
     "text": [
      "optimizing logp for variables: [slope_trace_angle, slope_ycenter, slope_xcenter, slope, edepth, mean_rev, mean_fwd]\n",
      "58it [00:00, 96.00it/s, logp=5.182359e+02] \n",
      "message: Optimization terminated successfully.\n",
      "logp: -14797.31873499384 -> 518.2359124377847\n"
     ]
    },
    {
     "name": "stdout",
     "output_type": "stream",
     "text": [
      "[INFO] Map Soln Edepth:13.404600409950955\n",
      "[INFO] Full decorrelation took 0.06 minutes\n",
      "['mean_fwd', 'mean_rev', 'edepth', 'slope', 'slope_xcenter', 'slope_ycenter', 'slope_trace_angle']\n",
      "173.94, 210.01, 36.07 ppm difference\n"
     ]
    },
    {
     "name": "stderr",
     "output_type": "stream",
     "text": [
      "optimizing logp for variables: [slope_trace_length, slope_trace_angle, slope_ycenter, slope_xcenter, slope, edepth, mean_rev, mean_fwd]\n",
      "150it [00:00, 161.36it/s, logp=5.195934e+02]\n",
      "message: Optimization terminated successfully.\n",
      "logp: -14798.70502935496 -> 519.593400791847\n"
     ]
    },
    {
     "name": "stdout",
     "output_type": "stream",
     "text": [
      "[INFO] Map Soln Edepth:14.894308468790188\n",
      "[INFO] Full decorrelation took 0.07 minutes\n",
      "['mean_fwd', 'mean_rev', 'edepth', 'slope', 'slope_xcenter', 'slope_ycenter', 'slope_trace_angle', 'slope_trace_length']\n",
      "170.38, 210.01, 39.62 ppm difference\n",
      "[INFO] Trace Length Option took 0.13 minutes\n",
      "[INFO] Trace Angle Option took 0.25 minutes\n",
      "[INFO] Ycenter Option took 0.47 minutes\n",
      "[INFO] Xcenter Option took 0.89 minutes\n",
      "[INFO] Run through for aperture_sum_13x41 took 1.66 minutes\n",
      "[INFO] Saving aperture_sum_13x41 to /home/nelly/Research/Planets/WASP43/github_analysis/notebooks/all400_results_decor_MAPs_only_SDNR/results_decor_span_MAPs_only_SDNR_aperture_sum_13x41.joblib.save\n"
     ]
    },
    {
     "name": "stderr",
     "output_type": "stream",
     "text": [
      "optimizing logp for variables: [slope, edepth, mean]\n",
      "83it [00:00, 157.83it/s, logp=4.333158e+02]\n",
      "message: Desired error not necessarily achieved due to precision loss.\n",
      "logp: -14786.949348102746 -> 433.31577471338755\n"
     ]
    },
    {
     "name": "stdout",
     "output_type": "stream",
     "text": [
      "[INFO] Map Soln Edepth:8.173876013272857\n",
      "[INFO] Full decorrelation took 0.03 minutes\n",
      "['mean', 'edepth', 'slope']                                                     \n",
      "206.14, 209.96, 3.81 ppm difference\n"
     ]
    },
    {
     "name": "stderr",
     "output_type": "stream",
     "text": [
      "optimizing logp for variables: [slope_trace_length, slope, edepth, mean]\n",
      "103it [00:00, 172.67it/s, logp=4.843370e+02]\n",
      "message: Desired error not necessarily achieved due to precision loss.\n",
      "logp: -14788.335642463864 -> 484.33695088239267\n"
     ]
    },
    {
     "name": "stdout",
     "output_type": "stream",
     "text": [
      "[INFO] Map Soln Edepth:10.475657499426191\n",
      "[INFO] Full decorrelation took 0.04 minutes\n",
      "['mean', 'edepth', 'slope', 'slope_trace_length']                               \n",
      "206.94, 209.96, 3.01 ppm difference\n",
      "[INFO] Trace Length Option took 0.07 minutes\n"
     ]
    },
    {
     "name": "stderr",
     "output_type": "stream",
     "text": [
      "optimizing logp for variables: [slope_trace_angle, slope, edepth, mean]\n",
      "129it [00:00, 196.97it/s, logp=4.343275e+02]\n",
      "message: Desired error not necessarily achieved due to precision loss.\n",
      "logp: -14788.335642463864 -> 434.32753196254475\n"
     ]
    },
    {
     "name": "stdout",
     "output_type": "stream",
     "text": [
      "[INFO] Map Soln Edepth:8.682953422652185\n",
      "[INFO] Full decorrelation took 0.04 minutes\n",
      "['mean', 'edepth', 'slope', 'slope_trace_angle']                                \n",
      "208.67, 209.96, 1.28 ppm difference\n"
     ]
    },
    {
     "name": "stderr",
     "output_type": "stream",
     "text": [
      "optimizing logp for variables: [slope_trace_length, slope_trace_angle, slope, edepth, mean]\n",
      "131it [00:00, 214.11it/s, logp=4.836188e+02]\n",
      "message: Desired error not necessarily achieved due to precision loss.\n",
      "logp: -14789.721936824984 -> 483.61883760401395\n"
     ]
    },
    {
     "name": "stdout",
     "output_type": "stream",
     "text": [
      "[INFO] Map Soln Edepth:10.873395221866735\n",
      "[INFO] Full decorrelation took 0.04 minutes\n",
      "['mean', 'edepth', 'slope', 'slope_trace_angle', 'slope_trace_length']          \n",
      "206.88, 209.96, 3.07 ppm difference\n",
      "[INFO] Trace Length Option took 0.08 minutes\n",
      "[INFO] Trace Angle Option took 0.15 minutes\n"
     ]
    },
    {
     "name": "stderr",
     "output_type": "stream",
     "text": [
      "optimizing logp for variables: [slope_ycenter, slope, edepth, mean]\n",
      "31it [00:00, 80.18it/s, logp=4.444974e+02] \n",
      "message: Optimization terminated successfully.\n",
      "logp: -14788.335642463864 -> 444.49741781439457\n"
     ]
    },
    {
     "name": "stdout",
     "output_type": "stream",
     "text": [
      "[INFO] Map Soln Edepth:10.616107670650784\n",
      "[INFO] Full decorrelation took 0.03 minutes\n",
      "['mean', 'edepth', 'slope', 'slope_ycenter']                                    \n",
      "183.71, 209.96, 26.25 ppm difference\n"
     ]
    },
    {
     "name": "stderr",
     "output_type": "stream",
     "text": [
      "optimizing logp for variables: [slope_trace_length, slope_ycenter, slope, edepth, mean]\n",
      "170it [00:00, 229.61it/s, logp=4.977293e+02]\n",
      "message: Desired error not necessarily achieved due to precision loss.\n",
      "logp: -14789.721936824984 -> 497.7292691974842\n"
     ]
    },
    {
     "name": "stdout",
     "output_type": "stream",
     "text": [
      "[INFO] Map Soln Edepth:15.167286678264386\n",
      "[INFO] Full decorrelation took 0.16 minutes\n",
      "['mean', 'edepth', 'slope', 'slope_ycenter', 'slope_trace_length']              \n",
      "190.21, 209.96, 19.75 ppm difference\n",
      "[INFO] Trace Length Option took 0.20 minutes\n"
     ]
    },
    {
     "name": "stderr",
     "output_type": "stream",
     "text": [
      "optimizing logp for variables: [slope_trace_angle, slope_ycenter, slope, edepth, mean]\n",
      "142it [00:00, 213.81it/s, logp=4.469662e+02]\n",
      "message: Desired error not necessarily achieved due to precision loss.\n",
      "logp: -14789.721936824984 -> 446.96618500995055\n"
     ]
    },
    {
     "name": "stdout",
     "output_type": "stream",
     "text": [
      "[INFO] Map Soln Edepth:11.900524018687708\n",
      "[INFO] Full decorrelation took 0.04 minutes\n",
      "['mean', 'edepth', 'slope', 'slope_ycenter', 'slope_trace_angle']               \n",
      "185.97, 209.96, 23.99 ppm difference\n"
     ]
    },
    {
     "name": "stderr",
     "output_type": "stream",
     "text": [
      "optimizing logp for variables: [slope_trace_length, slope_trace_angle, slope_ycenter, slope, edepth, mean]\n",
      "126it [00:00, 190.79it/s, logp=4.979615e+02]\n",
      "message: Desired error not necessarily achieved due to precision loss.\n",
      "logp: -14791.108231186105 -> 497.9615409295365\n"
     ]
    },
    {
     "name": "stdout",
     "output_type": "stream",
     "text": [
      "[INFO] Map Soln Edepth:16.671581414322755\n",
      "[INFO] Full decorrelation took 0.05 minutes\n",
      "['mean', 'edepth', 'slope', 'slope_ycenter', 'slope_trace_angle', 'slope_trace_length']\n",
      "189.51, 209.96, 20.45 ppm difference\n",
      "[INFO] Trace Length Option took 0.09 minutes\n",
      "[INFO] Trace Angle Option took 0.29 minutes\n",
      "[INFO] Ycenter Option took 0.44 minutes\n"
     ]
    },
    {
     "name": "stderr",
     "output_type": "stream",
     "text": [
      "optimizing logp for variables: [slope_xcenter, slope, edepth, mean]\n",
      "99it [00:00, 180.52it/s, logp=5.104576e+02]\n",
      "message: Desired error not necessarily achieved due to precision loss.\n",
      "logp: -14788.335642463864 -> 510.45763692830326\n"
     ]
    },
    {
     "name": "stdout",
     "output_type": "stream",
     "text": [
      "[INFO] Map Soln Edepth:10.24950871155831\n",
      "[INFO] Full decorrelation took 0.04 minutes\n",
      "['mean', 'edepth', 'slope', 'slope_xcenter']                                    \n",
      "186.35, 209.96, 23.61 ppm difference\n"
     ]
    },
    {
     "name": "stderr",
     "output_type": "stream",
     "text": [
      "optimizing logp for variables: [slope_trace_length, slope_xcenter, slope, edepth, mean]\n",
      "107it [00:00, 180.60it/s, logp=5.112983e+02]\n",
      "message: Desired error not necessarily achieved due to precision loss.\n",
      "logp: -14789.721936824984 -> 511.29831289357855\n"
     ]
    },
    {
     "name": "stdout",
     "output_type": "stream",
     "text": [
      "[INFO] Map Soln Edepth:10.643727961354994\n",
      "[INFO] Full decorrelation took 0.04 minutes\n",
      "['mean', 'edepth', 'slope', 'slope_xcenter', 'slope_trace_length']              \n",
      "183.18, 209.96, 26.78 ppm difference\n",
      "[INFO] Trace Length Option took 0.08 minutes\n"
     ]
    },
    {
     "name": "stderr",
     "output_type": "stream",
     "text": [
      "optimizing logp for variables: [slope_trace_angle, slope_xcenter, slope, edepth, mean]\n",
      "192it [00:00, 245.03it/s, logp=5.092280e+02]\n",
      "message: Desired error not necessarily achieved due to precision loss.\n",
      "logp: -14789.721936824984 -> 509.2280180814862\n"
     ]
    },
    {
     "name": "stdout",
     "output_type": "stream",
     "text": [
      "[INFO] Map Soln Edepth:10.078189686794754\n",
      "[INFO] Full decorrelation took 0.05 minutes\n",
      "['mean', 'edepth', 'slope', 'slope_xcenter', 'slope_trace_angle']               \n",
      "186.22, 209.96, 23.74 ppm difference\n"
     ]
    },
    {
     "name": "stderr",
     "output_type": "stream",
     "text": [
      "optimizing logp for variables: [slope_trace_length, slope_trace_angle, slope_xcenter, slope, edepth, mean]\n",
      "37it [00:00, 86.01it/s, logp=5.099967e+02] \n",
      "message: Optimization terminated successfully.\n",
      "logp: -14791.108231186105 -> 509.9966785787349\n"
     ]
    },
    {
     "name": "stdout",
     "output_type": "stream",
     "text": [
      "[INFO] Map Soln Edepth:10.502251084651018\n",
      "[INFO] Full decorrelation took 0.05 minutes\n",
      "['mean', 'edepth', 'slope', 'slope_xcenter', 'slope_trace_angle', 'slope_trace_length']\n",
      "183.12, 209.96, 26.83 ppm difference\n",
      "[INFO] Trace Length Option took 0.09 minutes\n",
      "[INFO] Trace Angle Option took 0.17 minutes\n"
     ]
    },
    {
     "name": "stderr",
     "output_type": "stream",
     "text": [
      "optimizing logp for variables: [slope_ycenter, slope_xcenter, slope, edepth, mean]\n",
      "85it [00:00, 149.15it/s, logp=5.201003e+02]\n",
      "message: Desired error not necessarily achieved due to precision loss.\n",
      "logp: -14789.721936824984 -> 520.1003349419768\n"
     ]
    },
    {
     "name": "stdout",
     "output_type": "stream",
     "text": [
      "[INFO] Map Soln Edepth:13.800136171964866\n",
      "[INFO] Full decorrelation took 0.04 minutes\n",
      "['mean', 'edepth', 'slope', 'slope_xcenter', 'slope_ycenter']                   \n",
      "174.22, 209.96, 35.74 ppm difference\n"
     ]
    },
    {
     "name": "stderr",
     "output_type": "stream",
     "text": [
      "optimizing logp for variables: [slope_trace_length, slope_ycenter, slope_xcenter, slope, edepth, mean]\n",
      "36it [00:00, 76.99it/s, logp=5.218473e+02] \n",
      "message: Optimization terminated successfully.\n",
      "logp: -14791.108231186105 -> 521.8472812788845\n"
     ]
    },
    {
     "name": "stdout",
     "output_type": "stream",
     "text": [
      "[INFO] Map Soln Edepth:14.837926114152824\n",
      "[INFO] Full decorrelation took 0.05 minutes\n",
      "['mean', 'edepth', 'slope', 'slope_xcenter', 'slope_ycenter', 'slope_trace_length']\n",
      "170.39, 209.96, 39.57 ppm difference\n",
      "[INFO] Trace Length Option took 0.09 minutes\n"
     ]
    },
    {
     "name": "stderr",
     "output_type": "stream",
     "text": [
      "optimizing logp for variables: [slope_trace_angle, slope_ycenter, slope_xcenter, slope, edepth, mean]\n",
      "162it [00:00, 232.40it/s, logp=5.187153e+02]\n",
      "message: Desired error not necessarily achieved due to precision loss.\n",
      "logp: -14791.108231186105 -> 518.7152781004722\n"
     ]
    },
    {
     "name": "stdout",
     "output_type": "stream",
     "text": [
      "[INFO] Map Soln Edepth:13.833250125985222\n",
      "[INFO] Full decorrelation took 0.05 minutes\n",
      "['mean', 'edepth', 'slope', 'slope_xcenter', 'slope_ycenter', 'slope_trace_angle']\n",
      "174.21, 209.96, 35.75 ppm difference\n"
     ]
    },
    {
     "name": "stderr",
     "output_type": "stream",
     "text": [
      "optimizing logp for variables: [slope_trace_length, slope_trace_angle, slope_ycenter, slope_xcenter, slope, edepth, mean]\n",
      "121it [00:00, 179.78it/s, logp=5.204945e+02]\n",
      "message: Desired error not necessarily achieved due to precision loss.\n",
      "logp: -14792.494525547225 -> 520.4944716528217\n"
     ]
    },
    {
     "name": "stdout",
     "output_type": "stream",
     "text": [
      "[INFO] Map Soln Edepth:15.045387252923021\n",
      "[INFO] Full decorrelation took 0.06 minutes\n",
      "['mean', 'edepth', 'slope', 'slope_xcenter', 'slope_ycenter', 'slope_trace_angle', 'slope_trace_length']\n",
      "170.34, 209.96, 39.62 ppm difference\n",
      "[INFO] Trace Length Option took 0.11 minutes\n",
      "[INFO] Trace Angle Option took 0.19 minutes\n",
      "[INFO] Ycenter Option took 0.36 minutes\n",
      "[INFO] Xcenter Option took 0.81 minutes\n"
     ]
    },
    {
     "name": "stderr",
     "output_type": "stream",
     "text": [
      "optimizing logp for variables: [slope, edepth, mean_rev, mean_fwd]\n",
      "192it [00:00, 213.08it/s, logp=4.932916e+02]\n",
      "message: Desired error not necessarily achieved due to precision loss.\n",
      "logp: -14787.868286635952 -> 493.2916082633327\n"
     ]
    },
    {
     "name": "stdout",
     "output_type": "stream",
     "text": [
      "[INFO] Map Soln Edepth:8.097465987230315\n",
      "[INFO] Full decorrelation took 0.05 minutes\n",
      "['mean_fwd', 'mean_rev', 'edepth', 'slope']                                     \n",
      "206.12, 209.96, 3.84 ppm difference\n"
     ]
    },
    {
     "name": "stderr",
     "output_type": "stream",
     "text": [
      "optimizing logp for variables: [slope_trace_length, slope, edepth, mean_rev, mean_fwd]\n",
      "35it [00:00, 68.15it/s, logp=4.973845e+02] \n",
      "message: Optimization terminated successfully.\n",
      "logp: -14789.254580997072 -> 497.3844832661043\n"
     ]
    },
    {
     "name": "stdout",
     "output_type": "stream",
     "text": [
      "[INFO] Map Soln Edepth:9.049202449465941\n",
      "[INFO] Full decorrelation took 0.05 minutes\n",
      "['mean_fwd', 'mean_rev', 'edepth', 'slope', 'slope_trace_length']               \n",
      "199.67, 209.96, 10.29 ppm difference\n",
      "[INFO] Trace Length Option took 0.10 minutes\n"
     ]
    },
    {
     "name": "stderr",
     "output_type": "stream",
     "text": [
      "optimizing logp for variables: [slope_trace_angle, slope, edepth, mean_rev, mean_fwd]\n",
      "46it [00:00, 87.72it/s, logp=4.919908e+02] \n",
      "message: Optimization terminated successfully.\n",
      "logp: -14789.254580997072 -> 491.9908053217767\n"
     ]
    },
    {
     "name": "stdout",
     "output_type": "stream",
     "text": [
      "[INFO] Map Soln Edepth:8.002407350601919\n",
      "[INFO] Full decorrelation took 0.05 minutes\n",
      "['mean_fwd', 'mean_rev', 'edepth', 'slope', 'slope_trace_angle']                \n",
      "206.04, 209.96, 3.92 ppm difference\n"
     ]
    },
    {
     "name": "stderr",
     "output_type": "stream",
     "text": [
      "optimizing logp for variables: [slope_trace_length, slope_trace_angle, slope, edepth, mean_rev, mean_fwd]\n",
      "93it [00:00, 138.50it/s, logp=4.960020e+02]\n",
      "message: Desired error not necessarily achieved due to precision loss.\n",
      "logp: -14790.64087535819 -> 496.00197868351415\n"
     ]
    },
    {
     "name": "stdout",
     "output_type": "stream",
     "text": [
      "[INFO] Map Soln Edepth:9.021408376360505\n",
      "[INFO] Full decorrelation took 0.06 minutes\n",
      "['mean_fwd', 'mean_rev', 'edepth', 'slope', 'slope_trace_angle', 'slope_trace_length']\n",
      "199.67, 209.96, 10.29 ppm difference\n",
      "[INFO] Trace Length Option took 0.10 minutes\n",
      "[INFO] Trace Angle Option took 0.20 minutes\n"
     ]
    },
    {
     "name": "stderr",
     "output_type": "stream",
     "text": [
      "optimizing logp for variables: [slope_ycenter, slope, edepth, mean_rev, mean_fwd]\n",
      "184it [00:00, 202.95it/s, logp=5.147435e+02]\n",
      "message: Desired error not necessarily achieved due to precision loss.\n",
      "logp: -14789.254580997072 -> 514.7434937128528\n"
     ]
    },
    {
     "name": "stdout",
     "output_type": "stream",
     "text": [
      "[INFO] Map Soln Edepth:11.702800921597511\n",
      "[INFO] Full decorrelation took 0.05 minutes\n",
      "['mean_fwd', 'mean_rev', 'edepth', 'slope', 'slope_ycenter']                    \n",
      "182.11, 209.96, 27.85 ppm difference\n"
     ]
    },
    {
     "name": "stderr",
     "output_type": "stream",
     "text": [
      "optimizing logp for variables: [slope_trace_length, slope_ycenter, slope, edepth, mean_rev, mean_fwd]\n",
      "126it [00:00, 151.12it/s, logp=5.168791e+02]\n",
      "message: Desired error not necessarily achieved due to precision loss.\n",
      "logp: -14790.64087535819 -> 516.879123511623\n"
     ]
    },
    {
     "name": "stdout",
     "output_type": "stream",
     "text": [
      "[INFO] Map Soln Edepth:12.98709733654978\n",
      "[INFO] Full decorrelation took 0.06 minutes\n",
      "['mean_fwd', 'mean_rev', 'edepth', 'slope', 'slope_ycenter', 'slope_trace_length']\n",
      "177.83, 209.96, 32.13 ppm difference\n",
      "[INFO] Trace Length Option took 0.11 minutes\n"
     ]
    },
    {
     "name": "stderr",
     "output_type": "stream",
     "text": [
      "optimizing logp for variables: [slope_trace_angle, slope_ycenter, slope, edepth, mean_rev, mean_fwd]\n",
      "151it [00:00, 174.52it/s, logp=5.133734e+02]\n",
      "message: Desired error not necessarily achieved due to precision loss.\n",
      "logp: -14790.64087535819 -> 513.373354454138\n"
     ]
    },
    {
     "name": "stdout",
     "output_type": "stream",
     "text": [
      "[INFO] Map Soln Edepth:11.798521426208401\n",
      "[INFO] Full decorrelation took 0.06 minutes\n",
      "['mean_fwd', 'mean_rev', 'edepth', 'slope', 'slope_ycenter', 'slope_trace_angle']\n",
      "182.09, 209.96, 27.87 ppm difference\n"
     ]
    },
    {
     "name": "stderr",
     "output_type": "stream",
     "text": [
      "optimizing logp for variables: [slope_trace_length, slope_trace_angle, slope_ycenter, slope, edepth, mean_rev, mean_fwd]\n",
      "103it [00:00, 133.60it/s, logp=5.155834e+02]\n",
      "message: Desired error not necessarily achieved due to precision loss.\n",
      "logp: -14792.027169719311 -> 515.5834272545883\n"
     ]
    },
    {
     "name": "stdout",
     "output_type": "stream",
     "text": [
      "[INFO] Map Soln Edepth:13.285848173299206\n",
      "[INFO] Full decorrelation took 0.06 minutes\n",
      "['mean_fwd', 'mean_rev', 'edepth', 'slope', 'slope_ycenter', 'slope_trace_angle', 'slope_trace_length']\n",
      "177.71, 209.96, 32.25 ppm difference\n",
      "[INFO] Trace Length Option took 0.12 minutes\n",
      "[INFO] Trace Angle Option took 0.23 minutes\n",
      "[INFO] Ycenter Option took 0.43 minutes\n"
     ]
    },
    {
     "name": "stderr",
     "output_type": "stream",
     "text": [
      "optimizing logp for variables: [slope_xcenter, slope, edepth, mean_rev, mean_fwd]\n",
      "88it [00:00, 129.88it/s, logp=5.103168e+02]\n",
      "message: Optimization terminated successfully.\n",
      "logp: -14789.254580997072 -> 510.3167616389359\n"
     ]
    },
    {
     "name": "stdout",
     "output_type": "stream",
     "text": [
      "[INFO] Map Soln Edepth:10.918200308287037\n",
      "[INFO] Full decorrelation took 0.05 minutes\n",
      "['mean_fwd', 'mean_rev', 'edepth', 'slope', 'slope_xcenter']                    \n",
      "185.49, 209.96, 24.47 ppm difference\n"
     ]
    },
    {
     "name": "stderr",
     "output_type": "stream",
     "text": [
      "optimizing logp for variables: [slope_trace_length, slope_xcenter, slope, edepth, mean_rev, mean_fwd]\n",
      "92it [00:00, 131.88it/s, logp=5.122202e+02]\n",
      "message: Optimization terminated successfully.\n",
      "logp: -14790.64087535819 -> 512.2202320234801\n"
     ]
    },
    {
     "name": "stdout",
     "output_type": "stream",
     "text": [
      "[INFO] Map Soln Edepth:11.971467616109827\n",
      "[INFO] Full decorrelation took 0.06 minutes\n",
      "['mean_fwd', 'mean_rev', 'edepth', 'slope', 'slope_xcenter', 'slope_trace_length']\n",
      "181.10, 209.96, 28.86 ppm difference\n",
      "[INFO] Trace Length Option took 0.11 minutes\n"
     ]
    },
    {
     "name": "stderr",
     "output_type": "stream",
     "text": [
      "optimizing logp for variables: [slope_trace_angle, slope_xcenter, slope, edepth, mean_rev, mean_fwd]\n",
      "156it [00:00, 175.65it/s, logp=5.090312e+02]\n",
      "message: Desired error not necessarily achieved due to precision loss.\n",
      "logp: -14790.64087535819 -> 509.0311979005122\n"
     ]
    },
    {
     "name": "stdout",
     "output_type": "stream",
     "text": [
      "[INFO] Map Soln Edepth:10.740291477192619\n",
      "[INFO] Full decorrelation took 0.06 minutes\n",
      "['mean_fwd', 'mean_rev', 'edepth', 'slope', 'slope_xcenter', 'slope_trace_angle']\n",
      "185.42, 209.96, 24.53 ppm difference\n"
     ]
    },
    {
     "name": "stderr",
     "output_type": "stream",
     "text": [
      "optimizing logp for variables: [slope_trace_length, slope_trace_angle, slope_xcenter, slope, edepth, mean_rev, mean_fwd]\n",
      "48it [00:00, 81.07it/s, logp=5.108521e+02] \n",
      "message: Optimization terminated successfully.\n",
      "logp: -14792.027169719311 -> 510.8521415225965\n"
     ]
    },
    {
     "name": "stdout",
     "output_type": "stream",
     "text": [
      "[INFO] Map Soln Edepth:11.872253779790922\n",
      "[INFO] Full decorrelation took 0.06 minutes\n",
      "['mean_fwd', 'mean_rev', 'edepth', 'slope', 'slope_xcenter', 'slope_trace_angle', 'slope_trace_length']\n",
      "181.10, 209.96, 28.86 ppm difference\n",
      "[INFO] Trace Length Option took 0.12 minutes\n",
      "[INFO] Trace Angle Option took 0.22 minutes\n"
     ]
    },
    {
     "name": "stderr",
     "output_type": "stream",
     "text": [
      "optimizing logp for variables: [slope_ycenter, slope_xcenter, slope, edepth, mean_rev, mean_fwd]\n",
      "95it [00:00, 140.88it/s, logp=5.196192e+02]\n",
      "message: Desired error not necessarily achieved due to precision loss.\n",
      "logp: -14790.64087535819 -> 519.6192344146467\n"
     ]
    },
    {
     "name": "stdout",
     "output_type": "stream",
     "text": [
      "[INFO] Map Soln Edepth:13.367504286715034\n",
      "[INFO] Full decorrelation took 0.06 minutes\n",
      "['mean_fwd', 'mean_rev', 'edepth', 'slope', 'slope_xcenter', 'slope_ycenter']   \n",
      "173.94, 209.96, 36.02 ppm difference\n"
     ]
    },
    {
     "name": "stderr",
     "output_type": "stream",
     "text": [
      "optimizing logp for variables: [slope_trace_length, slope_ycenter, slope_xcenter, slope, edepth, mean_rev, mean_fwd]\n",
      "165it [00:07, 20.92it/s, logp=5.209614e+02] \n",
      "message: Desired error not necessarily achieved due to precision loss.\n",
      "logp: -14792.027169719311 -> 520.9613787466055\n"
     ]
    },
    {
     "name": "stdout",
     "output_type": "stream",
     "text": [
      "[INFO] Map Soln Edepth:14.663240500630902\n",
      "[INFO] Full decorrelation took 0.18 minutes\n",
      "['mean_fwd', 'mean_rev', 'edepth', 'slope', 'slope_xcenter', 'slope_ycenter', 'slope_trace_length']\n",
      "170.41, 209.96, 39.54 ppm difference\n",
      "[INFO] Trace Length Option took 0.24 minutes\n"
     ]
    },
    {
     "name": "stderr",
     "output_type": "stream",
     "text": [
      "optimizing logp for variables: [slope_trace_angle, slope_ycenter, slope_xcenter, slope, edepth, mean_rev, mean_fwd]\n",
      "135it [00:00, 164.45it/s, logp=5.182330e+02]\n",
      "message: Desired error not necessarily achieved due to precision loss.\n",
      "logp: -14792.027169719311 -> 518.2330406399012\n"
     ]
    },
    {
     "name": "stdout",
     "output_type": "stream",
     "text": [
      "[INFO] Map Soln Edepth:13.376674547729575\n",
      "[INFO] Full decorrelation took 0.06 minutes\n",
      "['mean_fwd', 'mean_rev', 'edepth', 'slope', 'slope_xcenter', 'slope_ycenter', 'slope_trace_angle']\n",
      "173.94, 209.96, 36.02 ppm difference\n"
     ]
    },
    {
     "name": "stderr",
     "output_type": "stream",
     "text": [
      "optimizing logp for variables: [slope_trace_length, slope_trace_angle, slope_ycenter, slope_xcenter, slope, edepth, mean_rev, mean_fwd]\n",
      "59it [00:00, 92.28it/s, logp=5.196046e+02] \n",
      "message: Optimization terminated successfully.\n",
      "logp: -14793.413464080431 -> 519.6045733660907\n"
     ]
    },
    {
     "name": "stdout",
     "output_type": "stream",
     "text": [
      "[INFO] Map Soln Edepth:14.864978194523616\n",
      "[INFO] Full decorrelation took 0.07 minutes\n",
      "['mean_fwd', 'mean_rev', 'edepth', 'slope', 'slope_xcenter', 'slope_ycenter', 'slope_trace_angle', 'slope_trace_length']\n",
      "170.36, 209.96, 39.59 ppm difference\n",
      "[INFO] Trace Length Option took 0.13 minutes\n",
      "[INFO] Trace Angle Option took 0.37 minutes\n",
      "[INFO] Ycenter Option took 0.59 minutes\n",
      "[INFO] Xcenter Option took 1.03 minutes\n",
      "[INFO] Run through for aperture_sum_14x41 took 1.83 minutes\n",
      "[INFO] Saving aperture_sum_14x41 to /home/nelly/Research/Planets/WASP43/github_analysis/notebooks/all400_results_decor_MAPs_only_SDNR/results_decor_span_MAPs_only_SDNR_aperture_sum_14x41.joblib.save\n"
     ]
    },
    {
     "name": "stderr",
     "output_type": "stream",
     "text": [
      "optimizing logp for variables: [slope, edepth, mean]\n",
      "139it [00:00, 216.85it/s, logp=4.324878e+02]\n",
      "message: Desired error not necessarily achieved due to precision loss.\n",
      "logp: -14780.880983284364 -> 432.4877649407363\n"
     ]
    },
    {
     "name": "stdout",
     "output_type": "stream",
     "text": [
      "[INFO] Map Soln Edepth:8.17538586764808\n",
      "[INFO] Full decorrelation took 0.03 minutes\n",
      "['mean', 'edepth', 'slope']                                                     \n",
      "206.28, 210.04, 3.75 ppm difference\n"
     ]
    },
    {
     "name": "stderr",
     "output_type": "stream",
     "text": [
      "optimizing logp for variables: [slope_trace_length, slope, edepth, mean]\n",
      "90it [00:00, 174.10it/s, logp=4.841286e+02]\n",
      "message: Desired error not necessarily achieved due to precision loss.\n",
      "logp: -14782.267277645482 -> 484.1285910412486\n"
     ]
    },
    {
     "name": "stdout",
     "output_type": "stream",
     "text": [
      "[INFO] Map Soln Edepth:10.495228044875237\n",
      "[INFO] Full decorrelation took 0.04 minutes\n",
      "['mean', 'edepth', 'slope', 'slope_trace_length']                               \n",
      "207.09, 210.04, 2.95 ppm difference\n",
      "[INFO] Trace Length Option took 0.07 minutes\n"
     ]
    },
    {
     "name": "stderr",
     "output_type": "stream",
     "text": [
      "optimizing logp for variables: [slope_trace_angle, slope, edepth, mean]\n",
      "111it [00:00, 199.22it/s, logp=4.335316e+02]\n",
      "message: Desired error not necessarily achieved due to precision loss.\n",
      "logp: -14782.267277645482 -> 433.53155828549444\n"
     ]
    },
    {
     "name": "stdout",
     "output_type": "stream",
     "text": [
      "[INFO] Map Soln Edepth:8.687889469066988\n",
      "[INFO] Full decorrelation took 0.04 minutes\n",
      "['mean', 'edepth', 'slope', 'slope_trace_angle']                                \n",
      "208.84, 210.04, 1.20 ppm difference\n"
     ]
    },
    {
     "name": "stderr",
     "output_type": "stream",
     "text": [
      "optimizing logp for variables: [slope_trace_length, slope_trace_angle, slope, edepth, mean]\n",
      "50it [00:00, 104.07it/s, logp=4.834208e+02]\n",
      "message: Optimization terminated successfully.\n",
      "logp: -14783.653572006602 -> 483.42079333955047\n"
     ]
    },
    {
     "name": "stdout",
     "output_type": "stream",
     "text": [
      "[INFO] Map Soln Edepth:10.897466150684147\n",
      "[INFO] Full decorrelation took 0.04 minutes\n",
      "['mean', 'edepth', 'slope', 'slope_trace_angle', 'slope_trace_length']          \n",
      "207.03, 210.04, 3.01 ppm difference\n",
      "[INFO] Trace Length Option took 0.08 minutes\n",
      "[INFO] Trace Angle Option took 0.15 minutes\n"
     ]
    },
    {
     "name": "stderr",
     "output_type": "stream",
     "text": [
      "optimizing logp for variables: [slope_ycenter, slope, edepth, mean]\n",
      "103it [00:00, 182.56it/s, logp=4.436375e+02]\n",
      "message: Desired error not necessarily achieved due to precision loss.\n",
      "logp: -14782.267277645482 -> 443.6375157521718\n"
     ]
    },
    {
     "name": "stdout",
     "output_type": "stream",
     "text": [
      "[INFO] Map Soln Edepth:10.614690516933182\n",
      "[INFO] Full decorrelation took 0.04 minutes\n",
      "['mean', 'edepth', 'slope', 'slope_ycenter']                                    \n",
      "183.85, 210.04, 26.19 ppm difference\n"
     ]
    },
    {
     "name": "stderr",
     "output_type": "stream",
     "text": [
      "optimizing logp for variables: [slope_trace_length, slope_ycenter, slope, edepth, mean]\n",
      "33it [00:00, 84.43it/s, logp=4.974999e+02] \n",
      "message: Optimization terminated successfully.\n",
      "logp: -14783.653572006602 -> 497.4999277458747\n"
     ]
    },
    {
     "name": "stdout",
     "output_type": "stream",
     "text": [
      "[INFO] Map Soln Edepth:15.20058917185574\n",
      "[INFO] Full decorrelation took 0.04 minutes\n",
      "['mean', 'edepth', 'slope', 'slope_ycenter', 'slope_trace_length']              \n",
      "190.37, 210.04, 19.67 ppm difference\n",
      "[INFO] Trace Length Option took 0.08 minutes\n"
     ]
    },
    {
     "name": "stderr",
     "output_type": "stream",
     "text": [
      "optimizing logp for variables: [slope_trace_angle, slope_ycenter, slope, edepth, mean]\n",
      "42it [00:00, 102.01it/s, logp=4.461437e+02]\n",
      "message: Optimization terminated successfully.\n",
      "logp: -14783.653572006602 -> 446.1437179937844\n"
     ]
    },
    {
     "name": "stdout",
     "output_type": "stream",
     "text": [
      "[INFO] Map Soln Edepth:11.904282315433413\n",
      "[INFO] Full decorrelation took 0.04 minutes\n",
      "['mean', 'edepth', 'slope', 'slope_ycenter', 'slope_trace_angle']               \n",
      "186.12, 210.04, 23.91 ppm difference\n"
     ]
    },
    {
     "name": "stderr",
     "output_type": "stream",
     "text": [
      "optimizing logp for variables: [slope_trace_length, slope_trace_angle, slope_ycenter, slope, edepth, mean]\n",
      "107it [00:00, 167.81it/s, logp=4.977474e+02]\n",
      "message: Desired error not necessarily achieved due to precision loss.\n",
      "logp: -14785.039866367722 -> 497.7474162512064\n"
     ]
    },
    {
     "name": "stdout",
     "output_type": "stream",
     "text": [
      "[INFO] Map Soln Edepth:16.717772742489995\n",
      "[INFO] Full decorrelation took 0.05 minutes\n",
      "['mean', 'edepth', 'slope', 'slope_ycenter', 'slope_trace_angle', 'slope_trace_length']\n",
      "189.66, 210.04, 20.38 ppm difference\n",
      "[INFO] Trace Length Option took 0.09 minutes\n",
      "[INFO] Trace Angle Option took 0.16 minutes\n",
      "[INFO] Ycenter Option took 0.31 minutes\n"
     ]
    },
    {
     "name": "stderr",
     "output_type": "stream",
     "text": [
      "optimizing logp for variables: [slope_xcenter, slope, edepth, mean]\n",
      "97it [00:00, 160.24it/s, logp=5.103809e+02]\n",
      "message: Desired error not necessarily achieved due to precision loss.\n",
      "logp: -14782.267277645482 -> 510.3808623363907\n"
     ]
    },
    {
     "name": "stdout",
     "output_type": "stream",
     "text": [
      "[INFO] Map Soln Edepth:10.264125082089542\n",
      "[INFO] Full decorrelation took 0.04 minutes\n",
      "['mean', 'edepth', 'slope', 'slope_xcenter']                                    \n",
      "186.44, 210.04, 23.60 ppm difference\n"
     ]
    },
    {
     "name": "stderr",
     "output_type": "stream",
     "text": [
      "optimizing logp for variables: [slope_trace_length, slope_xcenter, slope, edepth, mean]\n",
      "123it [00:00, 192.64it/s, logp=5.112769e+02]\n",
      "message: Desired error not necessarily achieved due to precision loss.\n",
      "logp: -14783.653572006602 -> 511.2769247528011\n"
     ]
    },
    {
     "name": "stdout",
     "output_type": "stream",
     "text": [
      "[INFO] Map Soln Edepth:10.664460934580893\n",
      "[INFO] Full decorrelation took 0.04 minutes\n",
      "['mean', 'edepth', 'slope', 'slope_xcenter', 'slope_trace_length']              \n",
      "183.20, 210.04, 26.83 ppm difference\n",
      "[INFO] Trace Length Option took 0.08 minutes\n"
     ]
    },
    {
     "name": "stderr",
     "output_type": "stream",
     "text": [
      "optimizing logp for variables: [slope_trace_angle, slope_xcenter, slope, edepth, mean]\n",
      "32it [00:00, 81.20it/s, logp=5.091501e+02] \n",
      "message: Optimization terminated successfully.\n",
      "logp: -14783.653572006602 -> 509.15010456398835\n"
     ]
    },
    {
     "name": "stdout",
     "output_type": "stream",
     "text": [
      "[INFO] Map Soln Edepth:10.09296657338951\n",
      "[INFO] Full decorrelation took 0.04 minutes\n",
      "['mean', 'edepth', 'slope', 'slope_xcenter', 'slope_trace_angle']               \n",
      "186.31, 210.04, 23.72 ppm difference\n"
     ]
    },
    {
     "name": "stderr",
     "output_type": "stream",
     "text": [
      "optimizing logp for variables: [slope_trace_length, slope_trace_angle, slope_xcenter, slope, edepth, mean]\n",
      "107it [00:00, 183.06it/s, logp=5.099737e+02]\n",
      "message: Desired error not necessarily achieved due to precision loss.\n",
      "logp: -14785.039866367722 -> 509.97369237569575\n"
     ]
    },
    {
     "name": "stdout",
     "output_type": "stream",
     "text": [
      "[INFO] Map Soln Edepth:10.523804775254304\n",
      "[INFO] Full decorrelation took 0.05 minutes\n",
      "['mean', 'edepth', 'slope', 'slope_xcenter', 'slope_trace_angle', 'slope_trace_length']\n",
      "183.15, 210.04, 26.89 ppm difference\n",
      "[INFO] Trace Length Option took 0.09 minutes\n",
      "[INFO] Trace Angle Option took 0.17 minutes\n"
     ]
    },
    {
     "name": "stderr",
     "output_type": "stream",
     "text": [
      "optimizing logp for variables: [slope_ycenter, slope_xcenter, slope, edepth, mean]\n",
      "100it [00:00, 175.92it/s, logp=5.199866e+02]\n",
      "message: Desired error not necessarily achieved due to precision loss.\n",
      "logp: -14783.653572006602 -> 519.9866489063315\n"
     ]
    },
    {
     "name": "stdout",
     "output_type": "stream",
     "text": [
      "[INFO] Map Soln Edepth:13.817445915235597\n",
      "[INFO] Full decorrelation took 0.04 minutes\n",
      "['mean', 'edepth', 'slope', 'slope_xcenter', 'slope_ycenter']                   \n",
      "174.34, 210.04, 35.70 ppm difference\n"
     ]
    },
    {
     "name": "stderr",
     "output_type": "stream",
     "text": [
      "optimizing logp for variables: [slope_trace_length, slope_ycenter, slope_xcenter, slope, edepth, mean]\n",
      "135it [00:00, 212.29it/s, logp=5.217979e+02]\n",
      "message: Desired error not necessarily achieved due to precision loss.\n",
      "logp: -14785.039866367722 -> 521.7978825928161\n"
     ]
    },
    {
     "name": "stdout",
     "output_type": "stream",
     "text": [
      "[INFO] Map Soln Edepth:14.868844519094168\n",
      "[INFO] Full decorrelation took 0.05 minutes\n",
      "['mean', 'edepth', 'slope', 'slope_xcenter', 'slope_ycenter', 'slope_trace_length']\n",
      "170.44, 210.04, 39.60 ppm difference\n",
      "[INFO] Trace Length Option took 0.09 minutes\n"
     ]
    },
    {
     "name": "stderr",
     "output_type": "stream",
     "text": [
      "optimizing logp for variables: [slope_trace_angle, slope_ycenter, slope_xcenter, slope, edepth, mean]\n",
      "84it [00:00, 150.29it/s, logp=5.186016e+02]\n",
      "message: Desired error not necessarily achieved due to precision loss.\n",
      "logp: -14785.039866367722 -> 518.6016457057035\n"
     ]
    },
    {
     "name": "stdout",
     "output_type": "stream",
     "text": [
      "[INFO] Map Soln Edepth:13.851340054568334\n",
      "[INFO] Full decorrelation took 0.05 minutes\n",
      "['mean', 'edepth', 'slope', 'slope_xcenter', 'slope_ycenter', 'slope_trace_angle']\n",
      "174.33, 210.04, 35.70 ppm difference\n"
     ]
    },
    {
     "name": "stderr",
     "output_type": "stream",
     "text": [
      "optimizing logp for variables: [slope_trace_length, slope_trace_angle, slope_ycenter, slope_xcenter, slope, edepth, mean]\n",
      "88it [00:00, 154.90it/s, logp=5.204459e+02]\n",
      "message: Optimization terminated successfully.\n",
      "logp: -14786.426160728843 -> 520.4459106229975\n"
     ]
    },
    {
     "name": "stdout",
     "output_type": "stream",
     "text": [
      "[INFO] Map Soln Edepth:15.079658729918274\n",
      "[INFO] Full decorrelation took 0.05 minutes\n",
      "['mean', 'edepth', 'slope', 'slope_xcenter', 'slope_ycenter', 'slope_trace_angle', 'slope_trace_length']\n",
      "170.39, 210.04, 39.65 ppm difference\n",
      "[INFO] Trace Length Option took 0.10 minutes\n",
      "[INFO] Trace Angle Option took 0.19 minutes\n",
      "[INFO] Ycenter Option took 0.36 minutes\n",
      "[INFO] Xcenter Option took 0.67 minutes\n"
     ]
    },
    {
     "name": "stderr",
     "output_type": "stream",
     "text": [
      "optimizing logp for variables: [slope, edepth, mean_rev, mean_fwd]\n",
      "137it [00:00, 169.01it/s, logp=4.931622e+02]\n",
      "message: Desired error not necessarily achieved due to precision loss.\n",
      "logp: -14781.799921817565 -> 493.1621649655435\n"
     ]
    },
    {
     "name": "stdout",
     "output_type": "stream",
     "text": [
      "[INFO] Map Soln Edepth:8.098514702277457\n",
      "[INFO] Full decorrelation took 0.05 minutes\n",
      "['mean_fwd', 'mean_rev', 'edepth', 'slope']                                     \n",
      "206.25, 210.04, 3.78 ppm difference\n"
     ]
    },
    {
     "name": "stderr",
     "output_type": "stream",
     "text": [
      "optimizing logp for variables: [slope_trace_length, slope, edepth, mean_rev, mean_fwd]\n",
      "93it [00:00, 138.75it/s, logp=4.973265e+02]\n",
      "message: Desired error not necessarily achieved due to precision loss.\n",
      "logp: -14783.186216178685 -> 497.32647075376417\n"
     ]
    },
    {
     "name": "stdout",
     "output_type": "stream",
     "text": [
      "[INFO] Map Soln Edepth:9.0573957061079\n",
      "[INFO] Full decorrelation took 0.05 minutes\n",
      "['mean_fwd', 'mean_rev', 'edepth', 'slope', 'slope_trace_length']               \n",
      "199.73, 210.04, 10.30 ppm difference\n",
      "[INFO] Trace Length Option took 0.10 minutes\n"
     ]
    },
    {
     "name": "stderr",
     "output_type": "stream",
     "text": [
      "optimizing logp for variables: [slope_trace_angle, slope, edepth, mean_rev, mean_fwd]\n",
      "42it [00:00, 78.80it/s, logp=4.918613e+02] \n",
      "message: Optimization terminated successfully.\n",
      "logp: -14783.186216178685 -> 491.8612810826738\n"
     ]
    },
    {
     "name": "stdout",
     "output_type": "stream",
     "text": [
      "[INFO] Map Soln Edepth:8.003474375674468\n",
      "[INFO] Full decorrelation took 0.05 minutes\n",
      "['mean_fwd', 'mean_rev', 'edepth', 'slope', 'slope_trace_angle']                \n",
      "206.17, 210.04, 3.86 ppm difference\n"
     ]
    },
    {
     "name": "stderr",
     "output_type": "stream",
     "text": [
      "optimizing logp for variables: [slope_trace_length, slope_trace_angle, slope, edepth, mean_rev, mean_fwd]\n",
      "36it [00:00, 63.40it/s, logp=4.959438e+02] \n",
      "message: Optimization terminated successfully.\n",
      "logp: -14784.572510539805 -> 495.9437653138194\n"
     ]
    },
    {
     "name": "stdout",
     "output_type": "stream",
     "text": [
      "[INFO] Map Soln Edepth:9.03029877951626\n",
      "[INFO] Full decorrelation took 0.05 minutes\n",
      "['mean_fwd', 'mean_rev', 'edepth', 'slope', 'slope_trace_angle', 'slope_trace_length']\n",
      "199.73, 210.04, 10.30 ppm difference\n",
      "[INFO] Trace Length Option took 0.10 minutes\n",
      "[INFO] Trace Angle Option took 0.20 minutes\n"
     ]
    },
    {
     "name": "stderr",
     "output_type": "stream",
     "text": [
      "optimizing logp for variables: [slope_ycenter, slope, edepth, mean_rev, mean_fwd]\n",
      "176it [00:00, 251.68it/s, logp=5.146358e+02]\n",
      "message: Desired error not necessarily achieved due to precision loss.\n",
      "logp: -14783.186216178685 -> 514.6357551873876\n"
     ]
    },
    {
     "name": "stdout",
     "output_type": "stream",
     "text": [
      "[INFO] Map Soln Edepth:11.707406790054863\n",
      "[INFO] Full decorrelation took 0.05 minutes\n",
      "['mean_fwd', 'mean_rev', 'edepth', 'slope', 'slope_ycenter']                    \n",
      "182.23, 210.04, 27.81 ppm difference\n"
     ]
    },
    {
     "name": "stderr",
     "output_type": "stream",
     "text": [
      "optimizing logp for variables: [slope_trace_length, slope_ycenter, slope, edepth, mean_rev, mean_fwd]\n",
      "120it [00:00, 166.88it/s, logp=5.168282e+02]\n",
      "message: Desired error not necessarily achieved due to precision loss.\n",
      "logp: -14784.572510539805 -> 516.828179131247\n"
     ]
    },
    {
     "name": "stdout",
     "output_type": "stream",
     "text": [
      "[INFO] Map Soln Edepth:13.00401696886025\n",
      "[INFO] Full decorrelation took 0.05 minutes\n",
      "['mean_fwd', 'mean_rev', 'edepth', 'slope', 'slope_ycenter', 'slope_trace_length']\n",
      "177.88, 210.04, 32.16 ppm difference\n",
      "[INFO] Trace Length Option took 0.11 minutes\n"
     ]
    },
    {
     "name": "stderr",
     "output_type": "stream",
     "text": [
      "optimizing logp for variables: [slope_trace_angle, slope_ycenter, slope, edepth, mean_rev, mean_fwd]\n",
      "99it [00:00, 141.85it/s, logp=5.132657e+02]\n",
      "message: Desired error not necessarily achieved due to precision loss.\n",
      "logp: -14784.572510539805 -> 513.2657041774903\n"
     ]
    },
    {
     "name": "stdout",
     "output_type": "stream",
     "text": [
      "[INFO] Map Soln Edepth:11.80346823079244\n",
      "[INFO] Full decorrelation took 0.06 minutes\n",
      "['mean_fwd', 'mean_rev', 'edepth', 'slope', 'slope_ycenter', 'slope_trace_angle']\n",
      "182.21, 210.04, 27.83 ppm difference\n"
     ]
    },
    {
     "name": "stderr",
     "output_type": "stream",
     "text": [
      "optimizing logp for variables: [slope_trace_length, slope_trace_angle, slope_ycenter, slope, edepth, mean_rev, mean_fwd]\n",
      "130it [00:00, 156.53it/s, logp=5.155335e+02]\n",
      "message: Desired error not necessarily achieved due to precision loss.\n",
      "logp: -14785.958804900925 -> 515.5335378998336\n"
     ]
    },
    {
     "name": "stdout",
     "output_type": "stream",
     "text": [
      "[INFO] Map Soln Edepth:13.305237680491956\n",
      "[INFO] Full decorrelation took 0.06 minutes\n",
      "['mean_fwd', 'mean_rev', 'edepth', 'slope', 'slope_ycenter', 'slope_trace_angle', 'slope_trace_length']\n",
      "177.76, 210.04, 32.27 ppm difference\n",
      "[INFO] Trace Length Option took 0.12 minutes\n",
      "[INFO] Trace Angle Option took 0.22 minutes\n",
      "[INFO] Ycenter Option took 0.42 minutes\n"
     ]
    },
    {
     "name": "stderr",
     "output_type": "stream",
     "text": [
      "optimizing logp for variables: [slope_xcenter, slope, edepth, mean_rev, mean_fwd]\n",
      "33it [00:00, 62.90it/s, logp=5.102144e+02] \n",
      "message: Optimization terminated successfully.\n",
      "logp: -14783.186216178685 -> 510.2144128793256\n"
     ]
    },
    {
     "name": "stdout",
     "output_type": "stream",
     "text": [
      "[INFO] Map Soln Edepth:10.92287026492676\n",
      "[INFO] Full decorrelation took 0.17 minutes\n",
      "['mean_fwd', 'mean_rev', 'edepth', 'slope', 'slope_xcenter']                    \n",
      "185.61, 210.04, 24.43 ppm difference\n"
     ]
    },
    {
     "name": "stderr",
     "output_type": "stream",
     "text": [
      "optimizing logp for variables: [slope_trace_length, slope_xcenter, slope, edepth, mean_rev, mean_fwd]\n",
      "105it [00:00, 145.71it/s, logp=5.121723e+02]\n",
      "message: Desired error not necessarily achieved due to precision loss.\n",
      "logp: -14784.572510539805 -> 512.1722973086244\n"
     ]
    },
    {
     "name": "stdout",
     "output_type": "stream",
     "text": [
      "[INFO] Map Soln Edepth:11.986452888743004\n",
      "[INFO] Full decorrelation took 0.05 minutes\n",
      "['mean_fwd', 'mean_rev', 'edepth', 'slope', 'slope_xcenter', 'slope_trace_length']\n",
      "181.15, 210.04, 28.89 ppm difference\n",
      "[INFO] Trace Length Option took 0.22 minutes\n"
     ]
    },
    {
     "name": "stderr",
     "output_type": "stream",
     "text": [
      "optimizing logp for variables: [slope_trace_angle, slope_xcenter, slope, edepth, mean_rev, mean_fwd]\n",
      "100it [00:00, 138.91it/s, logp=5.089288e+02]\n",
      "message: Desired error not necessarily achieved due to precision loss.\n",
      "logp: -14784.572510539805 -> 508.9287703974789\n"
     ]
    },
    {
     "name": "stdout",
     "output_type": "stream",
     "text": [
      "[INFO] Map Soln Edepth:10.744886582867093\n",
      "[INFO] Full decorrelation took 0.06 minutes\n",
      "['mean_fwd', 'mean_rev', 'edepth', 'slope', 'slope_xcenter', 'slope_trace_angle']\n",
      "185.54, 210.04, 24.50 ppm difference\n"
     ]
    },
    {
     "name": "stderr",
     "output_type": "stream",
     "text": [
      "optimizing logp for variables: [slope_trace_length, slope_trace_angle, slope_xcenter, slope, edepth, mean_rev, mean_fwd]\n",
      "126it [00:00, 157.23it/s, logp=5.108038e+02]\n",
      "message: Desired error not necessarily achieved due to precision loss.\n",
      "logp: -14785.958804900925 -> 510.8037648256835\n"
     ]
    },
    {
     "name": "stdout",
     "output_type": "stream",
     "text": [
      "[INFO] Map Soln Edepth:11.88821922880568\n",
      "[INFO] Full decorrelation took 0.06 minutes\n",
      "['mean_fwd', 'mean_rev', 'edepth', 'slope', 'slope_xcenter', 'slope_trace_angle', 'slope_trace_length']\n",
      "181.15, 210.04, 28.89 ppm difference\n",
      "[INFO] Trace Length Option took 0.12 minutes\n",
      "[INFO] Trace Angle Option took 0.34 minutes\n"
     ]
    },
    {
     "name": "stderr",
     "output_type": "stream",
     "text": [
      "optimizing logp for variables: [slope_ycenter, slope_xcenter, slope, edepth, mean_rev, mean_fwd]\n",
      "90it [00:00, 137.46it/s, logp=5.195237e+02]\n",
      "message: Desired error not necessarily achieved due to precision loss.\n",
      "logp: -14784.572510539805 -> 519.5236543599644\n"
     ]
    },
    {
     "name": "stdout",
     "output_type": "stream",
     "text": [
      "[INFO] Map Soln Edepth:13.375216390123956\n",
      "[INFO] Full decorrelation took 0.05 minutes\n",
      "['mean_fwd', 'mean_rev', 'edepth', 'slope', 'slope_xcenter', 'slope_ycenter']   \n",
      "174.05, 210.04, 35.99 ppm difference\n"
     ]
    },
    {
     "name": "stderr",
     "output_type": "stream",
     "text": [
      "optimizing logp for variables: [slope_trace_length, slope_ycenter, slope_xcenter, slope, edepth, mean_rev, mean_fwd]\n",
      "38it [00:00, 66.13it/s, logp=5.209153e+02] \n",
      "message: Optimization terminated successfully.\n",
      "logp: -14785.958804900925 -> 520.915298654476\n"
     ]
    },
    {
     "name": "stdout",
     "output_type": "stream",
     "text": [
      "[INFO] Map Soln Edepth:14.685021914116055\n",
      "[INFO] Full decorrelation took 0.06 minutes\n",
      "['mean_fwd', 'mean_rev', 'edepth', 'slope', 'slope_xcenter', 'slope_ycenter', 'slope_trace_length']\n",
      "170.46, 210.04, 39.58 ppm difference\n",
      "[INFO] Trace Length Option took 0.11 minutes\n"
     ]
    },
    {
     "name": "stderr",
     "output_type": "stream",
     "text": [
      "optimizing logp for variables: [slope_trace_angle, slope_ycenter, slope_xcenter, slope, edepth, mean_rev, mean_fwd]\n",
      "161it [00:00, 188.73it/s, logp=5.181375e+02]\n",
      "message: Desired error not necessarily achieved due to precision loss.\n",
      "logp: -14785.958804900925 -> 518.137465402365\n"
     ]
    },
    {
     "name": "stdout",
     "output_type": "stream",
     "text": [
      "[INFO] Map Soln Edepth:13.384613114215488\n",
      "[INFO] Full decorrelation took 0.06 minutes\n",
      "['mean_fwd', 'mean_rev', 'edepth', 'slope', 'slope_xcenter', 'slope_ycenter', 'slope_trace_angle']\n",
      "174.05, 210.04, 35.99 ppm difference\n"
     ]
    },
    {
     "name": "stderr",
     "output_type": "stream",
     "text": [
      "optimizing logp for variables: [slope_trace_length, slope_trace_angle, slope_ycenter, slope_xcenter, slope, edepth, mean_rev, mean_fwd]\n",
      "45it [00:00, 75.24it/s, logp=5.195591e+02] \n",
      "message: Optimization terminated successfully.\n",
      "logp: -14787.345099262046 -> 519.559082445314\n"
     ]
    },
    {
     "name": "stdout",
     "output_type": "stream",
     "text": [
      "[INFO] Map Soln Edepth:14.889314346594979\n",
      "[INFO] Full decorrelation took 0.07 minutes\n",
      "['mean_fwd', 'mean_rev', 'edepth', 'slope', 'slope_xcenter', 'slope_ycenter', 'slope_trace_angle', 'slope_trace_length']\n",
      "170.41, 210.04, 39.63 ppm difference\n",
      "[INFO] Trace Length Option took 0.13 minutes\n",
      "[INFO] Trace Angle Option took 0.24 minutes\n",
      "[INFO] Ycenter Option took 0.58 minutes\n",
      "[INFO] Xcenter Option took 1.00 minutes\n",
      "[INFO] Run through for aperture_sum_15x41 took 1.67 minutes\n",
      "[INFO] Saving aperture_sum_15x41 to /home/nelly/Research/Planets/WASP43/github_analysis/notebooks/all400_results_decor_MAPs_only_SDNR/results_decor_span_MAPs_only_SDNR_aperture_sum_15x41.joblib.save\n"
     ]
    },
    {
     "name": "stderr",
     "output_type": "stream",
     "text": [
      "optimizing logp for variables: [slope, edepth, mean]\n",
      "133it [00:00, 201.73it/s, logp=4.325676e+02]\n",
      "message: Desired error not necessarily achieved due to precision loss.\n",
      "logp: -14780.126049072107 -> 432.56757697538507\n"
     ]
    },
    {
     "name": "stdout",
     "output_type": "stream",
     "text": [
      "[INFO] Map Soln Edepth:8.19238561016918\n",
      "[INFO] Full decorrelation took 0.03 minutes\n",
      "['mean', 'edepth', 'slope']                                                     \n",
      "206.34, 210.09, 3.75 ppm difference\n"
     ]
    },
    {
     "name": "stderr",
     "output_type": "stream",
     "text": [
      "optimizing logp for variables: [slope_trace_length, slope, edepth, mean]\n",
      "31it [00:00, 81.69it/s, logp=4.841490e+02] \n",
      "message: Optimization terminated successfully.\n",
      "logp: -14781.512343433225 -> 484.1489504908117\n"
     ]
    },
    {
     "name": "stdout",
     "output_type": "stream",
     "text": [
      "[INFO] Map Soln Edepth:10.5207753890544\n",
      "[INFO] Full decorrelation took 0.03 minutes\n",
      "['mean', 'edepth', 'slope', 'slope_trace_length']                               \n",
      "207.10, 210.09, 2.99 ppm difference\n",
      "[INFO] Trace Length Option took 0.07 minutes\n"
     ]
    },
    {
     "name": "stderr",
     "output_type": "stream",
     "text": [
      "optimizing logp for variables: [slope_trace_angle, slope, edepth, mean]\n",
      "113it [00:00, 185.23it/s, logp=4.335940e+02]\n",
      "message: Desired error not necessarily achieved due to precision loss.\n",
      "logp: -14781.512343433225 -> 433.59403047922194\n"
     ]
    },
    {
     "name": "stdout",
     "output_type": "stream",
     "text": [
      "[INFO] Map Soln Edepth:8.705229201532642\n",
      "[INFO] Full decorrelation took 0.04 minutes\n",
      "['mean', 'edepth', 'slope', 'slope_trace_angle']                                \n",
      "208.89, 210.09, 1.20 ppm difference\n"
     ]
    },
    {
     "name": "stderr",
     "output_type": "stream",
     "text": [
      "optimizing logp for variables: [slope_trace_length, slope_trace_angle, slope, edepth, mean]\n",
      "53it [00:00, 119.55it/s, logp=4.834324e+02]\n",
      "message: Optimization terminated successfully.\n",
      "logp: -14782.898637794346 -> 483.4323863969619\n"
     ]
    },
    {
     "name": "stdout",
     "output_type": "stream",
     "text": [
      "[INFO] Map Soln Edepth:10.922181416942903\n",
      "[INFO] Full decorrelation took 0.04 minutes\n",
      "['mean', 'edepth', 'slope', 'slope_trace_angle', 'slope_trace_length']          \n",
      "207.04, 210.09, 3.05 ppm difference\n",
      "[INFO] Trace Length Option took 0.08 minutes\n",
      "[INFO] Trace Angle Option took 0.15 minutes\n"
     ]
    },
    {
     "name": "stderr",
     "output_type": "stream",
     "text": [
      "optimizing logp for variables: [slope_ycenter, slope, edepth, mean]\n",
      "94it [00:00, 175.69it/s, logp=4.436903e+02]\n",
      "message: Optimization terminated successfully.\n",
      "logp: -14781.512343433225 -> 443.690269423034\n"
     ]
    },
    {
     "name": "stdout",
     "output_type": "stream",
     "text": [
      "[INFO] Map Soln Edepth:10.63910074007043\n",
      "[INFO] Full decorrelation took 0.04 minutes\n",
      "['mean', 'edepth', 'slope', 'slope_ycenter']                                    \n",
      "183.97, 210.09, 26.12 ppm difference\n"
     ]
    },
    {
     "name": "stderr",
     "output_type": "stream",
     "text": [
      "optimizing logp for variables: [slope_trace_length, slope_ycenter, slope, edepth, mean]\n",
      "102it [00:00, 172.05it/s, logp=4.974901e+02]\n",
      "message: Optimization terminated successfully.\n",
      "logp: -14782.898637794346 -> 497.49010498452446\n"
     ]
    },
    {
     "name": "stdout",
     "output_type": "stream",
     "text": [
      "[INFO] Map Soln Edepth:15.243275408336286\n",
      "[INFO] Full decorrelation took 0.04 minutes\n",
      "['mean', 'edepth', 'slope', 'slope_ycenter', 'slope_trace_length']              \n",
      "190.43, 210.09, 19.66 ppm difference\n",
      "[INFO] Trace Length Option took 0.08 minutes\n"
     ]
    },
    {
     "name": "stderr",
     "output_type": "stream",
     "text": [
      "optimizing logp for variables: [slope_trace_angle, slope_ycenter, slope, edepth, mean]\n",
      "197it [00:00, 257.47it/s, logp=4.461736e+02]\n",
      "message: Desired error not necessarily achieved due to precision loss.\n",
      "logp: -14782.898637794346 -> 446.1736186038294\n"
     ]
    },
    {
     "name": "stdout",
     "output_type": "stream",
     "text": [
      "[INFO] Map Soln Edepth:11.931067786012376\n",
      "[INFO] Full decorrelation took 0.05 minutes\n",
      "['mean', 'edepth', 'slope', 'slope_ycenter', 'slope_trace_angle']               \n",
      "186.25, 210.09, 23.84 ppm difference\n"
     ]
    },
    {
     "name": "stderr",
     "output_type": "stream",
     "text": [
      "optimizing logp for variables: [slope_trace_length, slope_trace_angle, slope_ycenter, slope, edepth, mean]\n",
      "49it [00:00, 106.21it/s, logp=4.977231e+02]\n",
      "message: Optimization terminated successfully.\n",
      "logp: -14784.284932155466 -> 497.7231125712056\n"
     ]
    },
    {
     "name": "stdout",
     "output_type": "stream",
     "text": [
      "[INFO] Map Soln Edepth:16.76099317945701\n",
      "[INFO] Full decorrelation took 0.05 minutes\n",
      "['mean', 'edepth', 'slope', 'slope_ycenter', 'slope_trace_angle', 'slope_trace_length']\n",
      "189.73, 210.09, 20.36 ppm difference\n",
      "[INFO] Trace Length Option took 0.09 minutes\n",
      "[INFO] Trace Angle Option took 0.17 minutes\n",
      "[INFO] Ycenter Option took 0.32 minutes\n"
     ]
    },
    {
     "name": "stderr",
     "output_type": "stream",
     "text": [
      "optimizing logp for variables: [slope_xcenter, slope, edepth, mean]\n",
      "89it [00:00, 158.39it/s, logp=5.102623e+02]\n",
      "message: Desired error not necessarily achieved due to precision loss.\n",
      "logp: -14781.512343433225 -> 510.2622810926529\n"
     ]
    },
    {
     "name": "stdout",
     "output_type": "stream",
     "text": [
      "[INFO] Map Soln Edepth:10.286967231628763\n",
      "[INFO] Full decorrelation took 0.04 minutes\n",
      "['mean', 'edepth', 'slope', 'slope_xcenter']                                    \n",
      "186.58, 210.09, 23.51 ppm difference\n"
     ]
    },
    {
     "name": "stderr",
     "output_type": "stream",
     "text": [
      "optimizing logp for variables: [slope_trace_length, slope_xcenter, slope, edepth, mean]\n",
      "33it [00:00, 81.92it/s, logp=5.111739e+02] \n",
      "message: Optimization terminated successfully.\n",
      "logp: -14782.898637794346 -> 511.17385513140806\n"
     ]
    },
    {
     "name": "stdout",
     "output_type": "stream",
     "text": [
      "[INFO] Map Soln Edepth:10.690389622115134\n",
      "[INFO] Full decorrelation took 0.04 minutes\n",
      "['mean', 'edepth', 'slope', 'slope_xcenter', 'slope_trace_length']              \n",
      "183.33, 210.09, 26.76 ppm difference\n",
      "[INFO] Trace Length Option took 0.08 minutes\n"
     ]
    },
    {
     "name": "stderr",
     "output_type": "stream",
     "text": [
      "optimizing logp for variables: [slope_trace_angle, slope_xcenter, slope, edepth, mean]\n",
      "31it [00:00, 82.49it/s, logp=5.090342e+02] \n",
      "message: Optimization terminated successfully.\n",
      "logp: -14782.898637794346 -> 509.03422813642084\n"
     ]
    },
    {
     "name": "stdout",
     "output_type": "stream",
     "text": [
      "[INFO] Map Soln Edepth:10.113649366774668\n",
      "[INFO] Full decorrelation took 0.04 minutes\n",
      "['mean', 'edepth', 'slope', 'slope_xcenter', 'slope_trace_angle']               \n",
      "186.45, 210.09, 23.64 ppm difference\n"
     ]
    },
    {
     "name": "stderr",
     "output_type": "stream",
     "text": [
      "optimizing logp for variables: [slope_trace_length, slope_trace_angle, slope_xcenter, slope, edepth, mean]\n",
      "112it [00:00, 176.95it/s, logp=5.098724e+02]\n",
      "message: Desired error not necessarily achieved due to precision loss.\n",
      "logp: -14784.284932155466 -> 509.87239507133654\n"
     ]
    },
    {
     "name": "stdout",
     "output_type": "stream",
     "text": [
      "[INFO] Map Soln Edepth:10.547622183663249\n",
      "[INFO] Full decorrelation took 0.05 minutes\n",
      "['mean', 'edepth', 'slope', 'slope_xcenter', 'slope_trace_angle', 'slope_trace_length']\n",
      "183.27, 210.09, 26.82 ppm difference\n",
      "[INFO] Trace Length Option took 0.09 minutes\n",
      "[INFO] Trace Angle Option took 0.16 minutes\n"
     ]
    },
    {
     "name": "stderr",
     "output_type": "stream",
     "text": [
      "optimizing logp for variables: [slope_ycenter, slope_xcenter, slope, edepth, mean]\n",
      "57it [00:00, 125.35it/s, logp=5.198449e+02]\n",
      "message: Desired error not necessarily achieved due to precision loss.\n",
      "logp: -14782.898637794346 -> 519.8448992937767\n"
     ]
    },
    {
     "name": "stdout",
     "output_type": "stream",
     "text": [
      "[INFO] Map Soln Edepth:13.851591750090302\n",
      "[INFO] Full decorrelation took 0.04 minutes\n",
      "['mean', 'edepth', 'slope', 'slope_xcenter', 'slope_ycenter']                   \n",
      "174.52, 210.09, 35.57 ppm difference\n"
     ]
    },
    {
     "name": "stderr",
     "output_type": "stream",
     "text": [
      "optimizing logp for variables: [slope_trace_length, slope_ycenter, slope_xcenter, slope, edepth, mean]\n",
      "141it [00:00, 196.25it/s, logp=5.216736e+02]\n",
      "message: Desired error not necessarily achieved due to precision loss.\n",
      "logp: -14784.284932155466 -> 521.6736161852015\n"
     ]
    },
    {
     "name": "stdout",
     "output_type": "stream",
     "text": [
      "[INFO] Map Soln Edepth:14.910680015271277\n",
      "[INFO] Full decorrelation took 0.05 minutes\n",
      "['mean', 'edepth', 'slope', 'slope_xcenter', 'slope_ycenter', 'slope_trace_length']\n",
      "170.61, 210.09, 39.48 ppm difference\n",
      "[INFO] Trace Length Option took 0.09 minutes\n"
     ]
    },
    {
     "name": "stderr",
     "output_type": "stream",
     "text": [
      "optimizing logp for variables: [slope_trace_angle, slope_ycenter, slope_xcenter, slope, edepth, mean]\n",
      "106it [00:00, 169.74it/s, logp=5.184596e+02]\n",
      "message: Desired error not necessarily achieved due to precision loss.\n",
      "logp: -14784.284932155466 -> 518.4596330275024\n"
     ]
    },
    {
     "name": "stdout",
     "output_type": "stream",
     "text": [
      "[INFO] Map Soln Edepth:13.881959778535165\n",
      "[INFO] Full decorrelation took 0.05 minutes\n",
      "['mean', 'edepth', 'slope', 'slope_xcenter', 'slope_ycenter', 'slope_trace_angle']\n",
      "174.52, 210.09, 35.57 ppm difference\n"
     ]
    },
    {
     "name": "stderr",
     "output_type": "stream",
     "text": [
      "optimizing logp for variables: [slope_trace_length, slope_trace_angle, slope_ycenter, slope_xcenter, slope, edepth, mean]\n",
      "84it [00:00, 139.85it/s, logp=5.203204e+02]\n",
      "message: Optimization terminated successfully.\n",
      "logp: -14785.671226516586 -> 520.3203748996434\n"
     ]
    },
    {
     "name": "stdout",
     "output_type": "stream",
     "text": [
      "[INFO] Map Soln Edepth:15.118521202479005\n",
      "[INFO] Full decorrelation took 0.05 minutes\n",
      "['mean', 'edepth', 'slope', 'slope_xcenter', 'slope_ycenter', 'slope_trace_angle', 'slope_trace_length']\n",
      "170.55, 210.09, 39.54 ppm difference\n",
      "[INFO] Trace Length Option took 0.10 minutes\n",
      "[INFO] Trace Angle Option took 0.19 minutes\n",
      "[INFO] Ycenter Option took 0.35 minutes\n",
      "[INFO] Xcenter Option took 0.67 minutes\n"
     ]
    },
    {
     "name": "stderr",
     "output_type": "stream",
     "text": [
      "optimizing logp for variables: [slope, edepth, mean_rev, mean_fwd]\n",
      "85it [00:00, 148.46it/s, logp=4.931018e+02]\n",
      "message: Desired error not necessarily achieved due to precision loss.\n",
      "logp: -14781.044987605306 -> 493.1018271885021\n"
     ]
    },
    {
     "name": "stdout",
     "output_type": "stream",
     "text": [
      "[INFO] Map Soln Edepth:8.11530074799558\n",
      "[INFO] Full decorrelation took 0.04 minutes\n",
      "['mean_fwd', 'mean_rev', 'edepth', 'slope']                                     \n",
      "206.31, 210.09, 3.78 ppm difference\n"
     ]
    },
    {
     "name": "stderr",
     "output_type": "stream",
     "text": [
      "optimizing logp for variables: [slope_trace_length, slope, edepth, mean_rev, mean_fwd]\n",
      "125it [00:00, 166.45it/s, logp=4.972820e+02]\n",
      "message: Desired error not necessarily achieved due to precision loss.\n",
      "logp: -14782.431281966426 -> 497.281996581239\n"
     ]
    },
    {
     "name": "stdout",
     "output_type": "stream",
     "text": [
      "[INFO] Map Soln Edepth:9.079684625985708\n",
      "[INFO] Full decorrelation took 0.16 minutes\n",
      "['mean_fwd', 'mean_rev', 'edepth', 'slope', 'slope_trace_length']               \n",
      "199.78, 210.09, 10.31 ppm difference\n",
      "[INFO] Trace Length Option took 0.21 minutes\n"
     ]
    },
    {
     "name": "stderr",
     "output_type": "stream",
     "text": [
      "optimizing logp for variables: [slope_trace_angle, slope, edepth, mean_rev, mean_fwd]\n",
      "100it [00:00, 148.52it/s, logp=4.918032e+02]\n",
      "message: Desired error not necessarily achieved due to precision loss.\n",
      "logp: -14782.431281966426 -> 491.8031784634188\n"
     ]
    },
    {
     "name": "stdout",
     "output_type": "stream",
     "text": [
      "[INFO] Map Soln Edepth:8.018661708354637\n",
      "[INFO] Full decorrelation took 0.05 minutes\n",
      "['mean_fwd', 'mean_rev', 'edepth', 'slope', 'slope_trace_angle']                \n",
      "206.23, 210.09, 3.86 ppm difference\n"
     ]
    },
    {
     "name": "stderr",
     "output_type": "stream",
     "text": [
      "optimizing logp for variables: [slope_trace_length, slope_trace_angle, slope, edepth, mean_rev, mean_fwd]\n",
      "142it [00:00, 170.10it/s, logp=4.958997e+02]\n",
      "message: Desired error not necessarily achieved due to precision loss.\n",
      "logp: -14783.817576327547 -> 495.89971973238835\n"
     ]
    },
    {
     "name": "stdout",
     "output_type": "stream",
     "text": [
      "[INFO] Map Soln Edepth:9.050887222611065\n",
      "[INFO] Full decorrelation took 0.06 minutes\n",
      "['mean_fwd', 'mean_rev', 'edepth', 'slope', 'slope_trace_angle', 'slope_trace_length']\n",
      "199.78, 210.09, 10.31 ppm difference\n",
      "[INFO] Trace Length Option took 0.11 minutes\n",
      "[INFO] Trace Angle Option took 0.31 minutes\n"
     ]
    },
    {
     "name": "stderr",
     "output_type": "stream",
     "text": [
      "optimizing logp for variables: [slope_ycenter, slope, edepth, mean_rev, mean_fwd]\n",
      "118it [00:00, 158.20it/s, logp=5.145255e+02]\n",
      "message: Desired error not necessarily achieved due to precision loss.\n",
      "logp: -14782.431281966426 -> 514.5254666904408\n"
     ]
    },
    {
     "name": "stdout",
     "output_type": "stream",
     "text": [
      "[INFO] Map Soln Edepth:11.735260387833527\n",
      "[INFO] Full decorrelation took 0.05 minutes\n",
      "['mean_fwd', 'mean_rev', 'edepth', 'slope', 'slope_ycenter']                    \n",
      "182.36, 210.09, 27.73 ppm difference\n"
     ]
    },
    {
     "name": "stderr",
     "output_type": "stream",
     "text": [
      "optimizing logp for variables: [slope_trace_length, slope_ycenter, slope, edepth, mean_rev, mean_fwd]\n",
      "36it [00:00, 66.81it/s, logp=5.167328e+02] \n",
      "message: Optimization terminated successfully.\n",
      "logp: -14783.817576327547 -> 516.732837401187\n"
     ]
    },
    {
     "name": "stdout",
     "output_type": "stream",
     "text": [
      "[INFO] Map Soln Edepth:13.040620893365661\n",
      "[INFO] Full decorrelation took 0.05 minutes\n",
      "['mean_fwd', 'mean_rev', 'edepth', 'slope', 'slope_ycenter', 'slope_trace_length']\n",
      "178.00, 210.09, 32.09 ppm difference\n",
      "[INFO] Trace Length Option took 0.10 minutes\n"
     ]
    },
    {
     "name": "stderr",
     "output_type": "stream",
     "text": [
      "optimizing logp for variables: [slope_trace_angle, slope_ycenter, slope, edepth, mean_rev, mean_fwd]\n",
      "115it [00:00, 154.90it/s, logp=5.131544e+02]\n",
      "message: Desired error not necessarily achieved due to precision loss.\n",
      "logp: -14783.817576327547 -> 513.1543542950592\n"
     ]
    },
    {
     "name": "stdout",
     "output_type": "stream",
     "text": [
      "[INFO] Map Soln Edepth:11.82850076685576\n",
      "[INFO] Full decorrelation took 0.06 minutes\n",
      "['mean_fwd', 'mean_rev', 'edepth', 'slope', 'slope_ycenter', 'slope_trace_angle']\n",
      "182.34, 210.09, 27.75 ppm difference\n"
     ]
    },
    {
     "name": "stderr",
     "output_type": "stream",
     "text": [
      "optimizing logp for variables: [slope_trace_length, slope_trace_angle, slope_ycenter, slope, edepth, mean_rev, mean_fwd]\n",
      "283it [00:01, 228.28it/s, logp=5.154359e+02]\n",
      "message: Desired error not necessarily achieved due to precision loss.\n",
      "logp: -14785.203870688667 -> 515.435872246817\n"
     ]
    },
    {
     "name": "stdout",
     "output_type": "stream",
     "text": [
      "[INFO] Map Soln Edepth:13.33943075770496\n",
      "[INFO] Full decorrelation took 0.07 minutes\n",
      "['mean_fwd', 'mean_rev', 'edepth', 'slope', 'slope_ycenter', 'slope_trace_angle', 'slope_trace_length']\n",
      "177.88, 210.09, 32.21 ppm difference\n",
      "[INFO] Trace Length Option took 0.12 minutes\n",
      "[INFO] Trace Angle Option took 0.23 minutes\n",
      "[INFO] Ycenter Option took 0.54 minutes\n"
     ]
    },
    {
     "name": "stderr",
     "output_type": "stream",
     "text": [
      "optimizing logp for variables: [slope_xcenter, slope, edepth, mean_rev, mean_fwd]\n",
      "33it [00:00, 64.74it/s, logp=5.100901e+02] \n",
      "message: Optimization terminated successfully.\n",
      "logp: -14782.431281966426 -> 510.0900560007735\n"
     ]
    },
    {
     "name": "stdout",
     "output_type": "stream",
     "text": [
      "[INFO] Map Soln Edepth:10.9457986098226\n",
      "[INFO] Full decorrelation took 0.05 minutes\n",
      "['mean_fwd', 'mean_rev', 'edepth', 'slope', 'slope_xcenter']                    \n",
      "185.76, 210.09, 24.33 ppm difference\n"
     ]
    },
    {
     "name": "stderr",
     "output_type": "stream",
     "text": [
      "optimizing logp for variables: [slope_trace_length, slope_xcenter, slope, edepth, mean_rev, mean_fwd]\n",
      "35it [00:00, 67.83it/s, logp=5.120640e+02] \n",
      "message: Optimization terminated successfully.\n",
      "logp: -14783.817576327547 -> 512.0639515889435\n"
     ]
    },
    {
     "name": "stdout",
     "output_type": "stream",
     "text": [
      "[INFO] Map Soln Edepth:12.016394270125184\n",
      "[INFO] Full decorrelation took 0.05 minutes\n",
      "['mean_fwd', 'mean_rev', 'edepth', 'slope', 'slope_xcenter', 'slope_trace_length']\n",
      "181.28, 210.09, 28.81 ppm difference\n",
      "[INFO] Trace Length Option took 0.10 minutes\n"
     ]
    },
    {
     "name": "stderr",
     "output_type": "stream",
     "text": [
      "optimizing logp for variables: [slope_trace_angle, slope_xcenter, slope, edepth, mean_rev, mean_fwd]\n",
      "117it [00:00, 153.97it/s, logp=5.088068e+02]\n",
      "message: Desired error not necessarily achieved due to precision loss.\n",
      "logp: -14783.817576327547 -> 508.80679272567556\n"
     ]
    },
    {
     "name": "stdout",
     "output_type": "stream",
     "text": [
      "[INFO] Map Soln Edepth:10.76506965974985\n",
      "[INFO] Full decorrelation took 0.06 minutes\n",
      "['mean_fwd', 'mean_rev', 'edepth', 'slope', 'slope_xcenter', 'slope_trace_angle']\n",
      "185.69, 210.09, 24.40 ppm difference\n"
     ]
    },
    {
     "name": "stderr",
     "output_type": "stream",
     "text": [
      "optimizing logp for variables: [slope_trace_length, slope_trace_angle, slope_xcenter, slope, edepth, mean_rev, mean_fwd]\n",
      "48it [00:00, 74.73it/s, logp=5.106963e+02] \n",
      "message: Optimization terminated successfully.\n",
      "logp: -14785.203870688667 -> 510.69630813837074\n"
     ]
    },
    {
     "name": "stdout",
     "output_type": "stream",
     "text": [
      "[INFO] Map Soln Edepth:11.915296784267777\n",
      "[INFO] Full decorrelation took 0.06 minutes\n",
      "['mean_fwd', 'mean_rev', 'edepth', 'slope', 'slope_xcenter', 'slope_trace_angle', 'slope_trace_length']\n",
      "181.28, 210.09, 28.81 ppm difference\n",
      "[INFO] Trace Length Option took 0.12 minutes\n",
      "[INFO] Trace Angle Option took 0.22 minutes\n"
     ]
    },
    {
     "name": "stderr",
     "output_type": "stream",
     "text": [
      "optimizing logp for variables: [slope_ycenter, slope_xcenter, slope, edepth, mean_rev, mean_fwd]\n",
      "93it [00:00, 136.34it/s, logp=5.193845e+02]\n",
      "message: Desired error not necessarily achieved due to precision loss.\n",
      "logp: -14783.817576327547 -> 519.3845465385785\n"
     ]
    },
    {
     "name": "stdout",
     "output_type": "stream",
     "text": [
      "[INFO] Map Soln Edepth:13.406217907503635\n",
      "[INFO] Full decorrelation took 0.06 minutes\n",
      "['mean_fwd', 'mean_rev', 'edepth', 'slope', 'slope_xcenter', 'slope_ycenter']   \n",
      "174.23, 210.09, 35.86 ppm difference\n"
     ]
    },
    {
     "name": "stderr",
     "output_type": "stream",
     "text": [
      "optimizing logp for variables: [slope_trace_length, slope_ycenter, slope_xcenter, slope, edepth, mean_rev, mean_fwd]\n",
      "40it [00:00, 69.39it/s, logp=5.207913e+02] \n",
      "message: Optimization terminated successfully.\n",
      "logp: -14785.203870688667 -> 520.7912700359878\n"
     ]
    },
    {
     "name": "stdout",
     "output_type": "stream",
     "text": [
      "[INFO] Map Soln Edepth:14.725378868091676\n",
      "[INFO] Full decorrelation took 0.06 minutes\n",
      "['mean_fwd', 'mean_rev', 'edepth', 'slope', 'slope_xcenter', 'slope_ycenter', 'slope_trace_length']\n",
      "170.63, 210.09, 39.46 ppm difference\n",
      "[INFO] Trace Length Option took 0.12 minutes\n"
     ]
    },
    {
     "name": "stderr",
     "output_type": "stream",
     "text": [
      "optimizing logp for variables: [slope_trace_angle, slope_ycenter, slope_xcenter, slope, edepth, mean_rev, mean_fwd]\n",
      "93it [00:00, 119.46it/s, logp=5.179983e+02]\n",
      "message: Desired error not necessarily achieved due to precision loss.\n",
      "logp: -14785.203870688667 -> 517.998292060251\n"
     ]
    },
    {
     "name": "stdout",
     "output_type": "stream",
     "text": [
      "[INFO] Map Soln Edepth:13.412020769926075\n",
      "[INFO] Full decorrelation took 0.06 minutes\n",
      "['mean_fwd', 'mean_rev', 'edepth', 'slope', 'slope_xcenter', 'slope_ycenter', 'slope_trace_angle']\n",
      "174.23, 210.09, 35.86 ppm difference\n"
     ]
    },
    {
     "name": "stderr",
     "output_type": "stream",
     "text": [
      "optimizing logp for variables: [slope_trace_length, slope_trace_angle, slope_ycenter, slope_xcenter, slope, edepth, mean_rev, mean_fwd]\n",
      "113it [00:00, 144.98it/s, logp=5.194338e+02]\n",
      "message: Desired error not necessarily achieved due to precision loss.\n",
      "logp: -14786.590165049787 -> 519.4338494221494\n"
     ]
    },
    {
     "name": "stdout",
     "output_type": "stream",
     "text": [
      "[INFO] Map Soln Edepth:14.926447776167269\n",
      "[INFO] Full decorrelation took 0.07 minutes\n",
      "['mean_fwd', 'mean_rev', 'edepth', 'slope', 'slope_xcenter', 'slope_ycenter', 'slope_trace_angle', 'slope_trace_length']\n",
      "170.58, 210.09, 39.51 ppm difference\n",
      "[INFO] Trace Length Option took 0.13 minutes\n",
      "[INFO] Trace Angle Option took 0.25 minutes\n",
      "[INFO] Ycenter Option took 0.47 minutes\n",
      "[INFO] Xcenter Option took 1.01 minutes\n",
      "[INFO] Run through for aperture_sum_16x41 took 1.67 minutes\n",
      "[INFO] Saving aperture_sum_16x41 to /home/nelly/Research/Planets/WASP43/github_analysis/notebooks/all400_results_decor_MAPs_only_SDNR/results_decor_span_MAPs_only_SDNR_aperture_sum_16x41.joblib.save\n"
     ]
    },
    {
     "name": "stderr",
     "output_type": "stream",
     "text": [
      "optimizing logp for variables: [slope, edepth, mean]\n",
      "35it [00:00, 88.46it/s, logp=4.319250e+02] \n",
      "message: Optimization terminated successfully.\n",
      "logp: -14775.182617228184 -> 431.92502343672425\n"
     ]
    },
    {
     "name": "stdout",
     "output_type": "stream",
     "text": [
      "[INFO] Map Soln Edepth:8.197331237171797\n",
      "[INFO] Full decorrelation took 0.03 minutes\n",
      "['mean', 'edepth', 'slope']                                                     \n",
      "206.48, 210.16, 3.68 ppm difference\n"
     ]
    },
    {
     "name": "stderr",
     "output_type": "stream",
     "text": [
      "optimizing logp for variables: [slope_trace_length, slope, edepth, mean]\n",
      "31it [00:00, 80.87it/s, logp=4.838579e+02] \n",
      "message: Optimization terminated successfully.\n",
      "logp: -14776.568911589302 -> 483.85788470883983\n"
     ]
    },
    {
     "name": "stdout",
     "output_type": "stream",
     "text": [
      "[INFO] Map Soln Edepth:10.538472324126976\n",
      "[INFO] Full decorrelation took 0.03 minutes\n",
      "['mean', 'edepth', 'slope', 'slope_trace_length']                               \n",
      "207.33, 210.16, 2.84 ppm difference\n",
      "[INFO] Trace Length Option took 0.06 minutes\n"
     ]
    },
    {
     "name": "stderr",
     "output_type": "stream",
     "text": [
      "optimizing logp for variables: [slope_trace_angle, slope, edepth, mean]\n",
      "32it [00:00, 82.36it/s, logp=4.329587e+02] \n",
      "message: Optimization terminated successfully.\n",
      "logp: -14776.568911589302 -> 432.95874829265546\n"
     ]
    },
    {
     "name": "stdout",
     "output_type": "stream",
     "text": [
      "[INFO] Map Soln Edepth:8.711528157507818\n",
      "[INFO] Full decorrelation took 0.03 minutes\n",
      "['mean', 'edepth', 'slope', 'slope_trace_angle']                                \n",
      "209.05, 210.16, 1.11 ppm difference\n"
     ]
    },
    {
     "name": "stderr",
     "output_type": "stream",
     "text": [
      "optimizing logp for variables: [slope_trace_length, slope_trace_angle, slope, edepth, mean]\n",
      "187it [00:00, 226.47it/s, logp=4.831412e+02]\n",
      "message: Desired error not necessarily achieved due to precision loss.\n",
      "logp: -14777.955205950422 -> 483.141223141121\n"
     ]
    },
    {
     "name": "stdout",
     "output_type": "stream",
     "text": [
      "[INFO] Map Soln Edepth:10.941114966839868\n",
      "[INFO] Full decorrelation took 0.05 minutes\n",
      "['mean', 'edepth', 'slope', 'slope_trace_angle', 'slope_trace_length']          \n",
      "207.27, 210.16, 2.89 ppm difference\n",
      "[INFO] Trace Length Option took 0.08 minutes\n",
      "[INFO] Trace Angle Option took 0.14 minutes\n"
     ]
    },
    {
     "name": "stderr",
     "output_type": "stream",
     "text": [
      "optimizing logp for variables: [slope_ycenter, slope, edepth, mean]\n",
      "110it [00:00, 189.33it/s, logp=4.430809e+02]\n",
      "message: Desired error not necessarily achieved due to precision loss.\n",
      "logp: -14776.568911589302 -> 443.0808643687428\n"
     ]
    },
    {
     "name": "stdout",
     "output_type": "stream",
     "text": [
      "[INFO] Map Soln Edepth:10.651363273099651\n",
      "[INFO] Full decorrelation took 0.04 minutes\n",
      "['mean', 'edepth', 'slope', 'slope_ycenter']                                    \n",
      "184.04, 210.16, 26.13 ppm difference\n"
     ]
    },
    {
     "name": "stderr",
     "output_type": "stream",
     "text": [
      "optimizing logp for variables: [slope_trace_length, slope_ycenter, slope, edepth, mean]\n",
      "172it [00:00, 226.88it/s, logp=4.972429e+02]\n",
      "message: Desired error not necessarily achieved due to precision loss.\n",
      "logp: -14777.955205950422 -> 497.2429483070355\n"
     ]
    },
    {
     "name": "stdout",
     "output_type": "stream",
     "text": [
      "[INFO] Map Soln Edepth:15.28724902919509\n",
      "[INFO] Full decorrelation took 0.04 minutes\n",
      "['mean', 'edepth', 'slope', 'slope_ycenter', 'slope_trace_length']              \n",
      "190.61, 210.16, 19.56 ppm difference\n",
      "[INFO] Trace Length Option took 0.08 minutes\n"
     ]
    },
    {
     "name": "stderr",
     "output_type": "stream",
     "text": [
      "optimizing logp for variables: [slope_trace_angle, slope_ycenter, slope, edepth, mean]\n",
      "64it [00:00, 137.54it/s, logp=4.455753e+02]\n",
      "message: Optimization terminated successfully.\n",
      "logp: -14777.955205950422 -> 445.575286049\n"
     ]
    },
    {
     "name": "stdout",
     "output_type": "stream",
     "text": [
      "[INFO] Map Soln Edepth:11.947836799809107\n",
      "[INFO] Full decorrelation took 0.04 minutes\n",
      "['mean', 'edepth', 'slope', 'slope_ycenter', 'slope_trace_angle']               \n",
      "186.34, 210.16, 23.82 ppm difference\n"
     ]
    },
    {
     "name": "stderr",
     "output_type": "stream",
     "text": [
      "optimizing logp for variables: [slope_trace_length, slope_trace_angle, slope_ycenter, slope, edepth, mean]\n",
      "125it [00:00, 214.17it/s, logp=4.974776e+02]\n",
      "message: Desired error not necessarily achieved due to precision loss.\n",
      "logp: -14779.341500311542 -> 497.47764662141384\n"
     ]
    },
    {
     "name": "stdout",
     "output_type": "stream",
     "text": [
      "[INFO] Map Soln Edepth:16.813380390256352\n",
      "[INFO] Full decorrelation took 0.05 minutes\n",
      "['mean', 'edepth', 'slope', 'slope_ycenter', 'slope_trace_angle', 'slope_trace_length']\n",
      "189.92, 210.16, 20.25 ppm difference\n",
      "[INFO] Trace Length Option took 0.09 minutes\n",
      "[INFO] Trace Angle Option took 0.17 minutes\n",
      "[INFO] Ycenter Option took 0.31 minutes\n"
     ]
    },
    {
     "name": "stderr",
     "output_type": "stream",
     "text": [
      "optimizing logp for variables: [slope_xcenter, slope, edepth, mean]\n",
      "93it [00:00, 225.52it/s, logp=5.101713e+02] \n",
      "message: Desired error not necessarily achieved due to precision loss.\n",
      "logp: -14776.568911589302 -> 510.1713027222101\n"
     ]
    },
    {
     "name": "stdout",
     "output_type": "stream",
     "text": [
      "[INFO] Map Soln Edepth:10.30362514132958\n",
      "[INFO] Full decorrelation took 0.03 minutes\n",
      "['mean', 'edepth', 'slope', 'slope_xcenter']                                    \n",
      "186.68, 210.16, 23.48 ppm difference\n"
     ]
    },
    {
     "name": "stderr",
     "output_type": "stream",
     "text": [
      "optimizing logp for variables: [slope_trace_length, slope_xcenter, slope, edepth, mean]\n",
      "100it [00:00, 227.78it/s, logp=5.110937e+02]\n",
      "message: Desired error not necessarily achieved due to precision loss.\n",
      "logp: -14777.955205950422 -> 511.0937120489078\n"
     ]
    },
    {
     "name": "stdout",
     "output_type": "stream",
     "text": [
      "[INFO] Map Soln Edepth:10.709261501972483\n",
      "[INFO] Full decorrelation took 0.04 minutes\n",
      "['mean', 'edepth', 'slope', 'slope_xcenter', 'slope_trace_length']              \n",
      "183.43, 210.16, 26.74 ppm difference\n",
      "[INFO] Trace Length Option took 0.07 minutes\n"
     ]
    },
    {
     "name": "stderr",
     "output_type": "stream",
     "text": [
      "optimizing logp for variables: [slope_trace_angle, slope_xcenter, slope, edepth, mean]\n",
      "35it [00:00, 96.30it/s, logp=5.089468e+02] \n",
      "message: Optimization terminated successfully.\n",
      "logp: -14777.955205950422 -> 508.9468424511032\n"
     ]
    },
    {
     "name": "stdout",
     "output_type": "stream",
     "text": [
      "[INFO] Map Soln Edepth:10.127866809014751\n",
      "[INFO] Full decorrelation took 0.16 minutes\n",
      "['mean', 'edepth', 'slope', 'slope_xcenter', 'slope_trace_angle']               \n",
      "186.55, 210.16, 23.61 ppm difference\n"
     ]
    },
    {
     "name": "stderr",
     "output_type": "stream",
     "text": [
      "optimizing logp for variables: [slope_trace_length, slope_trace_angle, slope_xcenter, slope, edepth, mean]\n",
      "117it [00:00, 190.83it/s, logp=5.097947e+02]\n",
      "message: Desired error not necessarily achieved due to precision loss.\n",
      "logp: -14779.341500311542 -> 509.79474571094204\n"
     ]
    },
    {
     "name": "stdout",
     "output_type": "stream",
     "text": [
      "[INFO] Map Soln Edepth:10.56397852358638\n",
      "[INFO] Full decorrelation took 0.05 minutes\n",
      "['mean', 'edepth', 'slope', 'slope_xcenter', 'slope_trace_angle', 'slope_trace_length']\n",
      "183.37, 210.16, 26.80 ppm difference\n",
      "[INFO] Trace Length Option took 0.21 minutes\n",
      "[INFO] Trace Angle Option took 0.28 minutes\n"
     ]
    },
    {
     "name": "stderr",
     "output_type": "stream",
     "text": [
      "optimizing logp for variables: [slope_ycenter, slope_xcenter, slope, edepth, mean]\n",
      "79it [00:00, 145.37it/s, logp=5.197800e+02]\n",
      "message: Optimization terminated successfully.\n",
      "logp: -14777.955205950422 -> 519.7799510179195\n"
     ]
    },
    {
     "name": "stdout",
     "output_type": "stream",
     "text": [
      "[INFO] Map Soln Edepth:13.885578537966214\n",
      "[INFO] Full decorrelation took 0.04 minutes\n",
      "['mean', 'edepth', 'slope', 'slope_xcenter', 'slope_ycenter']                   \n",
      "174.60, 210.16, 35.57 ppm difference\n"
     ]
    },
    {
     "name": "stderr",
     "output_type": "stream",
     "text": [
      "optimizing logp for variables: [slope_trace_length, slope_ycenter, slope_xcenter, slope, edepth, mean]\n",
      "171it [00:00, 224.87it/s, logp=5.216228e+02]\n",
      "message: Desired error not necessarily achieved due to precision loss.\n",
      "logp: -14779.341500311542 -> 521.6227699382733\n"
     ]
    },
    {
     "name": "stdout",
     "output_type": "stream",
     "text": [
      "[INFO] Map Soln Edepth:14.951799663867952\n",
      "[INFO] Full decorrelation took 0.05 minutes\n",
      "['mean', 'edepth', 'slope', 'slope_xcenter', 'slope_ycenter', 'slope_trace_length']\n",
      "170.67, 210.16, 39.49 ppm difference\n",
      "[INFO] Trace Length Option took 0.10 minutes\n"
     ]
    },
    {
     "name": "stderr",
     "output_type": "stream",
     "text": [
      "optimizing logp for variables: [slope_trace_angle, slope_ycenter, slope_xcenter, slope, edepth, mean]\n",
      "131it [00:00, 191.26it/s, logp=5.183944e+02]\n",
      "message: Desired error not necessarily achieved due to precision loss.\n",
      "logp: -14779.341500311542 -> 518.3944448046673\n"
     ]
    },
    {
     "name": "stdout",
     "output_type": "stream",
     "text": [
      "[INFO] Map Soln Edepth:13.912299460935152\n",
      "[INFO] Full decorrelation took 0.05 minutes\n",
      "['mean', 'edepth', 'slope', 'slope_xcenter', 'slope_ycenter', 'slope_trace_angle']\n",
      "174.59, 210.16, 35.57 ppm difference\n"
     ]
    },
    {
     "name": "stderr",
     "output_type": "stream",
     "text": [
      "optimizing logp for variables: [slope_trace_length, slope_trace_angle, slope_ycenter, slope_xcenter, slope, edepth, mean]\n",
      "185it [00:00, 225.96it/s, logp=5.202682e+02]\n",
      "message: Desired error not necessarily achieved due to precision loss.\n",
      "logp: -14780.727794672663 -> 520.2682115561603\n"
     ]
    },
    {
     "name": "stdout",
     "output_type": "stream",
     "text": [
      "[INFO] Map Soln Edepth:15.1563711712156\n",
      "[INFO] Full decorrelation took 0.06 minutes\n",
      "['mean', 'edepth', 'slope', 'slope_xcenter', 'slope_ycenter', 'slope_trace_angle', 'slope_trace_length']\n",
      "170.62, 210.16, 39.54 ppm difference\n",
      "[INFO] Trace Length Option took 0.11 minutes\n",
      "[INFO] Trace Angle Option took 0.20 minutes\n",
      "[INFO] Ycenter Option took 0.48 minutes\n",
      "[INFO] Xcenter Option took 0.80 minutes\n"
     ]
    },
    {
     "name": "stderr",
     "output_type": "stream",
     "text": [
      "optimizing logp for variables: [slope, edepth, mean_rev, mean_fwd]\n",
      "37it [00:00, 74.93it/s, logp=4.929674e+02] \n",
      "message: Optimization terminated successfully.\n",
      "logp: -14776.10155576139 -> 492.96740604713716\n"
     ]
    },
    {
     "name": "stdout",
     "output_type": "stream",
     "text": [
      "[INFO] Map Soln Edepth:8.119841040477267\n",
      "[INFO] Full decorrelation took 0.04 minutes\n",
      "['mean_fwd', 'mean_rev', 'edepth', 'slope']                                     \n",
      "206.45, 210.16, 3.71 ppm difference\n"
     ]
    },
    {
     "name": "stderr",
     "output_type": "stream",
     "text": [
      "optimizing logp for variables: [slope_trace_length, slope, edepth, mean_rev, mean_fwd]\n",
      "35it [00:00, 67.29it/s, logp=4.971533e+02] \n",
      "message: Optimization terminated successfully.\n",
      "logp: -14777.48785012251 -> 497.1532861067418\n"
     ]
    },
    {
     "name": "stdout",
     "output_type": "stream",
     "text": [
      "[INFO] Map Soln Edepth:9.08587033767877\n",
      "[INFO] Full decorrelation took 0.05 minutes\n",
      "['mean_fwd', 'mean_rev', 'edepth', 'slope', 'slope_trace_length']               \n",
      "199.92, 210.16, 10.24 ppm difference\n",
      "[INFO] Trace Length Option took 0.09 minutes\n"
     ]
    },
    {
     "name": "stderr",
     "output_type": "stream",
     "text": [
      "optimizing logp for variables: [slope_trace_angle, slope, edepth, mean_rev, mean_fwd]\n",
      "111it [00:00, 156.94it/s, logp=4.916720e+02]\n",
      "message: Desired error not necessarily achieved due to precision loss.\n",
      "logp: -14777.48785012251 -> 491.6719809972626\n"
     ]
    },
    {
     "name": "stdout",
     "output_type": "stream",
     "text": [
      "[INFO] Map Soln Edepth:8.021359076172788\n",
      "[INFO] Full decorrelation took 0.05 minutes\n",
      "['mean_fwd', 'mean_rev', 'edepth', 'slope', 'slope_trace_angle']                \n",
      "206.37, 210.16, 3.80 ppm difference\n"
     ]
    },
    {
     "name": "stderr",
     "output_type": "stream",
     "text": [
      "optimizing logp for variables: [slope_trace_length, slope_trace_angle, slope, edepth, mean_rev, mean_fwd]\n",
      "316it [00:01, 254.42it/s, logp=4.957717e+02]\n",
      "message: Desired error not necessarily achieved due to precision loss.\n",
      "logp: -14778.87414448363 -> 495.77170986703356\n"
     ]
    },
    {
     "name": "stdout",
     "output_type": "stream",
     "text": [
      "[INFO] Map Soln Edepth:9.054629968156316\n",
      "[INFO] Full decorrelation took 0.06 minutes\n",
      "['mean_fwd', 'mean_rev', 'edepth', 'slope', 'slope_trace_angle', 'slope_trace_length']\n",
      "199.92, 210.16, 10.24 ppm difference\n",
      "[INFO] Trace Length Option took 0.11 minutes\n",
      "[INFO] Trace Angle Option took 0.20 minutes\n"
     ]
    },
    {
     "name": "stderr",
     "output_type": "stream",
     "text": [
      "optimizing logp for variables: [slope_ycenter, slope, edepth, mean_rev, mean_fwd]\n",
      "74it [00:00, 117.24it/s, logp=5.144836e+02]\n",
      "message: Optimization terminated successfully.\n",
      "logp: -14777.48785012251 -> 514.4836459811377\n"
     ]
    },
    {
     "name": "stdout",
     "output_type": "stream",
     "text": [
      "[INFO] Map Soln Edepth:11.754672034167537\n",
      "[INFO] Full decorrelation took 0.05 minutes\n",
      "['mean_fwd', 'mean_rev', 'edepth', 'slope', 'slope_ycenter']                    \n",
      "182.41, 210.16, 27.75 ppm difference\n"
     ]
    },
    {
     "name": "stderr",
     "output_type": "stream",
     "text": [
      "optimizing logp for variables: [slope_trace_length, slope_ycenter, slope, edepth, mean_rev, mean_fwd]\n",
      "78it [00:00, 117.61it/s, logp=5.166921e+02]\n",
      "message: Desired error not necessarily achieved due to precision loss.\n",
      "logp: -14778.87414448363 -> 516.6920577933718\n"
     ]
    },
    {
     "name": "stdout",
     "output_type": "stream",
     "text": [
      "[INFO] Map Soln Edepth:13.064309677232348\n",
      "[INFO] Full decorrelation took 0.05 minutes\n",
      "['mean_fwd', 'mean_rev', 'edepth', 'slope', 'slope_ycenter', 'slope_trace_length']\n",
      "178.05, 210.16, 32.11 ppm difference\n",
      "[INFO] Trace Length Option took 0.11 minutes\n"
     ]
    },
    {
     "name": "stderr",
     "output_type": "stream",
     "text": [
      "optimizing logp for variables: [slope_trace_angle, slope_ycenter, slope, edepth, mean_rev, mean_fwd]\n",
      "112it [00:00, 141.05it/s, logp=5.131114e+02]\n",
      "message: Desired error not necessarily achieved due to precision loss.\n",
      "logp: -14778.87414448363 -> 513.1114336127876\n"
     ]
    },
    {
     "name": "stdout",
     "output_type": "stream",
     "text": [
      "[INFO] Map Soln Edepth:11.844730515229887\n",
      "[INFO] Full decorrelation took 0.06 minutes\n",
      "['mean_fwd', 'mean_rev', 'edepth', 'slope', 'slope_ycenter', 'slope_trace_angle']\n",
      "182.39, 210.16, 27.77 ppm difference\n"
     ]
    },
    {
     "name": "stderr",
     "output_type": "stream",
     "text": [
      "optimizing logp for variables: [slope_trace_length, slope_trace_angle, slope_ycenter, slope, edepth, mean_rev, mean_fwd]\n",
      "108it [00:00, 134.03it/s, logp=5.153924e+02]\n",
      "message: Desired error not necessarily achieved due to precision loss.\n",
      "logp: -14780.26043884475 -> 515.392409472001\n"
     ]
    },
    {
     "name": "stdout",
     "output_type": "stream",
     "text": [
      "[INFO] Map Soln Edepth:13.359479557506923\n",
      "[INFO] Full decorrelation took 0.06 minutes\n",
      "['mean_fwd', 'mean_rev', 'edepth', 'slope', 'slope_ycenter', 'slope_trace_angle', 'slope_trace_length']\n",
      "177.94, 210.16, 32.22 ppm difference\n",
      "[INFO] Trace Length Option took 0.12 minutes\n",
      "[INFO] Trace Angle Option took 0.23 minutes\n",
      "[INFO] Ycenter Option took 0.43 minutes\n"
     ]
    },
    {
     "name": "stderr",
     "output_type": "stream",
     "text": [
      "optimizing logp for variables: [slope_xcenter, slope, edepth, mean_rev, mean_fwd]\n",
      "33it [00:00, 62.64it/s, logp=5.099822e+02] \n",
      "message: Optimization terminated successfully.\n",
      "logp: -14777.48785012251 -> 509.9821564436437\n"
     ]
    },
    {
     "name": "stdout",
     "output_type": "stream",
     "text": [
      "[INFO] Map Soln Edepth:10.956515154644645\n",
      "[INFO] Full decorrelation took 0.05 minutes\n",
      "['mean_fwd', 'mean_rev', 'edepth', 'slope', 'slope_xcenter']                    \n",
      "185.88, 210.16, 24.28 ppm difference\n"
     ]
    },
    {
     "name": "stderr",
     "output_type": "stream",
     "text": [
      "optimizing logp for variables: [slope_trace_length, slope_xcenter, slope, edepth, mean_rev, mean_fwd]\n",
      "35it [00:00, 64.10it/s, logp=5.119591e+02] \n",
      "message: Optimization terminated successfully.\n",
      "logp: -14778.87414448363 -> 511.95912584864436\n"
     ]
    },
    {
     "name": "stdout",
     "output_type": "stream",
     "text": [
      "[INFO] Map Soln Edepth:12.029641979218198\n",
      "[INFO] Full decorrelation took 0.05 minutes\n",
      "['mean_fwd', 'mean_rev', 'edepth', 'slope', 'slope_xcenter', 'slope_trace_length']\n",
      "181.41, 210.16, 28.75 ppm difference\n",
      "[INFO] Trace Length Option took 0.10 minutes\n"
     ]
    },
    {
     "name": "stderr",
     "output_type": "stream",
     "text": [
      "optimizing logp for variables: [slope_trace_angle, slope_xcenter, slope, edepth, mean_rev, mean_fwd]\n",
      "160it [00:00, 190.36it/s, logp=5.087024e+02]\n",
      "message: Desired error not necessarily achieved due to precision loss.\n",
      "logp: -14778.87414448363 -> 508.70239095453906\n"
     ]
    },
    {
     "name": "stdout",
     "output_type": "stream",
     "text": [
      "[INFO] Map Soln Edepth:10.772468336978704\n",
      "[INFO] Full decorrelation took 0.06 minutes\n",
      "['mean_fwd', 'mean_rev', 'edepth', 'slope', 'slope_xcenter', 'slope_trace_angle']\n",
      "185.80, 210.16, 24.36 ppm difference\n"
     ]
    },
    {
     "name": "stderr",
     "output_type": "stream",
     "text": [
      "optimizing logp for variables: [slope_trace_length, slope_trace_angle, slope_xcenter, slope, edepth, mean_rev, mean_fwd]\n",
      "160it [00:00, 171.58it/s, logp=5.105930e+02]\n",
      "message: Desired error not necessarily achieved due to precision loss.\n",
      "logp: -14780.26043884475 -> 510.5929713801931\n"
     ]
    },
    {
     "name": "stdout",
     "output_type": "stream",
     "text": [
      "[INFO] Map Soln Edepth:11.924403563763367\n",
      "[INFO] Full decorrelation took 0.06 minutes\n",
      "['mean_fwd', 'mean_rev', 'edepth', 'slope', 'slope_xcenter', 'slope_trace_angle', 'slope_trace_length']\n",
      "181.41, 210.16, 28.76 ppm difference\n",
      "[INFO] Trace Length Option took 0.12 minutes\n",
      "[INFO] Trace Angle Option took 0.22 minutes\n"
     ]
    },
    {
     "name": "stderr",
     "output_type": "stream",
     "text": [
      "optimizing logp for variables: [slope_ycenter, slope_xcenter, slope, edepth, mean_rev, mean_fwd]\n",
      "39it [00:00, 72.23it/s, logp=5.193372e+02] \n",
      "message: Optimization terminated successfully.\n",
      "logp: -14778.87414448363 -> 519.337249932341\n"
     ]
    },
    {
     "name": "stdout",
     "output_type": "stream",
     "text": [
      "[INFO] Map Soln Edepth:13.43005403115686\n",
      "[INFO] Full decorrelation took 0.05 minutes\n",
      "['mean_fwd', 'mean_rev', 'edepth', 'slope', 'slope_xcenter', 'slope_ycenter']   \n",
      "174.29, 210.16, 35.87 ppm difference\n"
     ]
    },
    {
     "name": "stderr",
     "output_type": "stream",
     "text": [
      "optimizing logp for variables: [slope_trace_length, slope_ycenter, slope_xcenter, slope, edepth, mean_rev, mean_fwd]\n",
      "38it [00:00, 66.37it/s, logp=5.207453e+02] \n",
      "message: Optimization terminated successfully.\n",
      "logp: -14780.26043884475 -> 520.745278242238\n"
     ]
    },
    {
     "name": "stdout",
     "output_type": "stream",
     "text": [
      "[INFO] Map Soln Edepth:14.753791282828567\n",
      "[INFO] Full decorrelation took 0.06 minutes\n",
      "['mean_fwd', 'mean_rev', 'edepth', 'slope', 'slope_xcenter', 'slope_ycenter', 'slope_trace_length']\n",
      "170.69, 210.16, 39.47 ppm difference\n",
      "[INFO] Trace Length Option took 0.11 minutes\n"
     ]
    },
    {
     "name": "stderr",
     "output_type": "stream",
     "text": [
      "optimizing logp for variables: [slope_trace_angle, slope_ycenter, slope_xcenter, slope, edepth, mean_rev, mean_fwd]\n",
      "148it [00:00, 166.62it/s, logp=5.179510e+02]\n",
      "message: Desired error not necessarily achieved due to precision loss.\n",
      "logp: -14780.26043884475 -> 517.950958906697\n"
     ]
    },
    {
     "name": "stdout",
     "output_type": "stream",
     "text": [
      "[INFO] Map Soln Edepth:13.431737051310447\n",
      "[INFO] Full decorrelation took 0.06 minutes\n",
      "['mean_fwd', 'mean_rev', 'edepth', 'slope', 'slope_xcenter', 'slope_ycenter', 'slope_trace_angle']\n",
      "174.29, 210.16, 35.88 ppm difference\n"
     ]
    },
    {
     "name": "stderr",
     "output_type": "stream",
     "text": [
      "optimizing logp for variables: [slope_trace_length, slope_trace_angle, slope_ycenter, slope_xcenter, slope, edepth, mean_rev, mean_fwd]\n",
      "117it [00:00, 145.35it/s, logp=5.193864e+02]\n",
      "message: Desired error not necessarily achieved due to precision loss.\n",
      "logp: -14781.646733205871 -> 519.3863628802698\n"
     ]
    },
    {
     "name": "stdout",
     "output_type": "stream",
     "text": [
      "[INFO] Map Soln Edepth:14.95018599404771\n",
      "[INFO] Full decorrelation took 0.07 minutes\n",
      "['mean_fwd', 'mean_rev', 'edepth', 'slope', 'slope_xcenter', 'slope_ycenter', 'slope_trace_angle', 'slope_trace_length']\n",
      "170.64, 210.16, 39.52 ppm difference\n",
      "[INFO] Trace Length Option took 0.13 minutes\n",
      "[INFO] Trace Angle Option took 0.24 minutes\n",
      "[INFO] Ycenter Option took 0.47 minutes\n",
      "[INFO] Xcenter Option took 0.90 minutes\n",
      "[INFO] Run through for aperture_sum_17x41 took 1.70 minutes\n",
      "[INFO] Saving aperture_sum_17x41 to /home/nelly/Research/Planets/WASP43/github_analysis/notebooks/all400_results_decor_MAPs_only_SDNR/results_decor_span_MAPs_only_SDNR_aperture_sum_17x41.joblib.save\n"
     ]
    },
    {
     "name": "stderr",
     "output_type": "stream",
     "text": [
      "optimizing logp for variables: [slope, edepth, mean]\n",
      "120it [00:00, 221.27it/s, logp=4.319956e+02]\n",
      "message: Desired error not necessarily achieved due to precision loss.\n",
      "logp: -14777.814878521236 -> 431.9955794413437\n"
     ]
    },
    {
     "name": "stdout",
     "output_type": "stream",
     "text": [
      "[INFO] Map Soln Edepth:8.193843379423223\n",
      "[INFO] Full decorrelation took 0.03 minutes\n",
      "['mean', 'edepth', 'slope']                                                     \n",
      "206.52, 210.20, 3.69 ppm difference\n"
     ]
    },
    {
     "name": "stderr",
     "output_type": "stream",
     "text": [
      "optimizing logp for variables: [slope_trace_length, slope, edepth, mean]\n",
      "89it [00:00, 160.80it/s, logp=4.838167e+02]\n",
      "message: Optimization terminated successfully.\n",
      "logp: -14779.201172882355 -> 483.81670652801455\n"
     ]
    },
    {
     "name": "stdout",
     "output_type": "stream",
     "text": [
      "[INFO] Map Soln Edepth:10.529869115414547\n",
      "[INFO] Full decorrelation took 0.15 minutes\n",
      "['mean', 'edepth', 'slope', 'slope_trace_length']                               \n",
      "207.37, 210.20, 2.84 ppm difference\n",
      "[INFO] Trace Length Option took 0.19 minutes\n"
     ]
    },
    {
     "name": "stderr",
     "output_type": "stream",
     "text": [
      "optimizing logp for variables: [slope_trace_angle, slope, edepth, mean]\n",
      "196it [00:00, 276.41it/s, logp=4.330149e+02]\n",
      "message: Desired error not necessarily achieved due to precision loss.\n",
      "logp: -14779.201172882355 -> 433.0149424840386\n"
     ]
    },
    {
     "name": "stdout",
     "output_type": "stream",
     "text": [
      "[INFO] Map Soln Edepth:8.706178263793024\n",
      "[INFO] Full decorrelation took 0.04 minutes\n",
      "['mean', 'edepth', 'slope', 'slope_trace_angle']                                \n",
      "209.08, 210.20, 1.12 ppm difference\n"
     ]
    },
    {
     "name": "stderr",
     "output_type": "stream",
     "text": [
      "optimizing logp for variables: [slope_trace_length, slope_trace_angle, slope, edepth, mean]\n",
      "77it [00:00, 151.36it/s, logp=4.830935e+02]\n",
      "message: Desired error not necessarily achieved due to precision loss.\n",
      "logp: -14780.587467243475 -> 483.09349371843297\n"
     ]
    },
    {
     "name": "stdout",
     "output_type": "stream",
     "text": [
      "[INFO] Map Soln Edepth:10.929912455297744\n",
      "[INFO] Full decorrelation took 0.04 minutes\n",
      "['mean', 'edepth', 'slope', 'slope_trace_angle', 'slope_trace_length']          \n",
      "207.32, 210.20, 2.89 ppm difference\n",
      "[INFO] Trace Length Option took 0.08 minutes\n",
      "[INFO] Trace Angle Option took 0.27 minutes\n"
     ]
    },
    {
     "name": "stderr",
     "output_type": "stream",
     "text": [
      "optimizing logp for variables: [slope_ycenter, slope, edepth, mean]\n",
      "120it [00:00, 199.95it/s, logp=4.431878e+02]\n",
      "message: Desired error not necessarily achieved due to precision loss.\n",
      "logp: -14779.201172882355 -> 443.1878202063352\n"
     ]
    },
    {
     "name": "stdout",
     "output_type": "stream",
     "text": [
      "[INFO] Map Soln Edepth:10.650274114910198\n",
      "[INFO] Full decorrelation took 0.04 minutes\n",
      "['mean', 'edepth', 'slope', 'slope_ycenter']                                    \n",
      "184.04, 210.20, 26.17 ppm difference\n"
     ]
    },
    {
     "name": "stderr",
     "output_type": "stream",
     "text": [
      "optimizing logp for variables: [slope_trace_length, slope_ycenter, slope, edepth, mean]\n",
      "113it [00:00, 187.00it/s, logp=4.972388e+02]\n",
      "message: Desired error not necessarily achieved due to precision loss.\n",
      "logp: -14780.587467243475 -> 497.238793071039\n"
     ]
    },
    {
     "name": "stdout",
     "output_type": "stream",
     "text": [
      "[INFO] Map Soln Edepth:15.278938173997533\n",
      "[INFO] Full decorrelation took 0.04 minutes\n",
      "['mean', 'edepth', 'slope', 'slope_ycenter', 'slope_trace_length']              \n",
      "190.62, 210.20, 19.58 ppm difference\n",
      "[INFO] Trace Length Option took 0.08 minutes\n"
     ]
    },
    {
     "name": "stderr",
     "output_type": "stream",
     "text": [
      "optimizing logp for variables: [slope_trace_angle, slope_ycenter, slope, edepth, mean]\n",
      "90it [00:00, 164.22it/s, logp=4.456668e+02]\n",
      "message: Desired error not necessarily achieved due to precision loss.\n",
      "logp: -14780.587467243475 -> 445.66683979282516\n"
     ]
    },
    {
     "name": "stdout",
     "output_type": "stream",
     "text": [
      "[INFO] Map Soln Edepth:11.944286139786765\n",
      "[INFO] Full decorrelation took 0.04 minutes\n",
      "['mean', 'edepth', 'slope', 'slope_ycenter', 'slope_trace_angle']               \n",
      "186.34, 210.20, 23.86 ppm difference\n"
     ]
    },
    {
     "name": "stderr",
     "output_type": "stream",
     "text": [
      "optimizing logp for variables: [slope_trace_length, slope_trace_angle, slope_ycenter, slope, edepth, mean]\n",
      "44it [00:00, 97.12it/s, logp=4.974648e+02] \n",
      "message: Optimization terminated successfully.\n",
      "logp: -14781.973761604595 -> 497.4647616983773\n"
     ]
    },
    {
     "name": "stdout",
     "output_type": "stream",
     "text": [
      "[INFO] Map Soln Edepth:16.799532509863763\n",
      "[INFO] Full decorrelation took 0.04 minutes\n",
      "['mean', 'edepth', 'slope', 'slope_ycenter', 'slope_trace_angle', 'slope_trace_length']\n",
      "189.93, 210.20, 20.27 ppm difference\n",
      "[INFO] Trace Length Option took 0.08 minutes\n",
      "[INFO] Trace Angle Option took 0.16 minutes\n",
      "[INFO] Ycenter Option took 0.43 minutes\n"
     ]
    },
    {
     "name": "stderr",
     "output_type": "stream",
     "text": [
      "optimizing logp for variables: [slope_xcenter, slope, edepth, mean]\n",
      "102it [00:00, 194.62it/s, logp=5.100961e+02]\n",
      "message: Desired error not necessarily achieved due to precision loss.\n",
      "logp: -14779.201172882355 -> 510.0960869907695\n"
     ]
    },
    {
     "name": "stdout",
     "output_type": "stream",
     "text": [
      "[INFO] Map Soln Edepth:10.295948686387383\n",
      "[INFO] Full decorrelation took 0.04 minutes\n",
      "['mean', 'edepth', 'slope', 'slope_xcenter']                                    \n",
      "186.76, 210.20, 23.44 ppm difference\n"
     ]
    },
    {
     "name": "stderr",
     "output_type": "stream",
     "text": [
      "optimizing logp for variables: [slope_trace_length, slope_xcenter, slope, edepth, mean]\n",
      "155it [00:00, 228.27it/s, logp=5.110102e+02]\n",
      "message: Optimization terminated successfully.\n",
      "logp: -14780.587467243475 -> 511.0101715410336\n"
     ]
    },
    {
     "name": "stdout",
     "output_type": "stream",
     "text": [
      "[INFO] Map Soln Edepth:10.70027342950183\n",
      "[INFO] Full decorrelation took 0.04 minutes\n",
      "['mean', 'edepth', 'slope', 'slope_xcenter', 'slope_trace_length']              \n",
      "183.52, 210.20, 26.69 ppm difference\n",
      "[INFO] Trace Length Option took 0.08 minutes\n"
     ]
    },
    {
     "name": "stderr",
     "output_type": "stream",
     "text": [
      "optimizing logp for variables: [slope_trace_angle, slope_xcenter, slope, edepth, mean]\n",
      "155it [00:00, 246.67it/s, logp=5.088741e+02]\n",
      "message: Desired error not necessarily achieved due to precision loss.\n",
      "logp: -14780.587467243475 -> 508.87412441557746\n"
     ]
    },
    {
     "name": "stdout",
     "output_type": "stream",
     "text": [
      "[INFO] Map Soln Edepth:10.119104669797904\n",
      "[INFO] Full decorrelation took 0.04 minutes\n",
      "['mean', 'edepth', 'slope', 'slope_xcenter', 'slope_trace_angle']               \n",
      "186.63, 210.20, 23.57 ppm difference\n"
     ]
    },
    {
     "name": "stderr",
     "output_type": "stream",
     "text": [
      "optimizing logp for variables: [slope_trace_length, slope_trace_angle, slope_xcenter, slope, edepth, mean]\n",
      "205it [00:00, 257.86it/s, logp=5.097132e+02]\n",
      "message: Desired error not necessarily achieved due to precision loss.\n",
      "logp: -14781.973761604595 -> 509.7131661334151\n"
     ]
    },
    {
     "name": "stdout",
     "output_type": "stream",
     "text": [
      "[INFO] Map Soln Edepth:10.553614806068433\n",
      "[INFO] Full decorrelation took 0.05 minutes\n",
      "['mean', 'edepth', 'slope', 'slope_xcenter', 'slope_trace_angle', 'slope_trace_length']\n",
      "183.46, 210.20, 26.75 ppm difference\n",
      "[INFO] Trace Length Option took 0.09 minutes\n",
      "[INFO] Trace Angle Option took 0.17 minutes\n"
     ]
    },
    {
     "name": "stderr",
     "output_type": "stream",
     "text": [
      "optimizing logp for variables: [slope_ycenter, slope_xcenter, slope, edepth, mean]\n",
      "32it [00:00, 84.21it/s, logp=5.197402e+02] \n",
      "message: Optimization terminated successfully.\n",
      "logp: -14780.587467243475 -> 519.7401515076787\n"
     ]
    },
    {
     "name": "stdout",
     "output_type": "stream",
     "text": [
      "[INFO] Map Soln Edepth:13.880061313370154\n",
      "[INFO] Full decorrelation took 0.04 minutes\n",
      "['mean', 'edepth', 'slope', 'slope_xcenter', 'slope_ycenter']                   \n",
      "174.65, 210.20, 35.56 ppm difference\n"
     ]
    },
    {
     "name": "stderr",
     "output_type": "stream",
     "text": [
      "optimizing logp for variables: [slope_trace_length, slope_ycenter, slope_xcenter, slope, edepth, mean]\n",
      "117it [00:00, 187.45it/s, logp=5.215746e+02]\n",
      "message: Desired error not necessarily achieved due to precision loss.\n",
      "logp: -14781.973761604595 -> 521.574639260911\n"
     ]
    },
    {
     "name": "stdout",
     "output_type": "stream",
     "text": [
      "[INFO] Map Soln Edepth:14.944077615683334\n",
      "[INFO] Full decorrelation took 0.05 minutes\n",
      "['mean', 'edepth', 'slope', 'slope_xcenter', 'slope_ycenter', 'slope_trace_length']\n",
      "170.73, 210.20, 39.47 ppm difference\n",
      "[INFO] Trace Length Option took 0.09 minutes\n"
     ]
    },
    {
     "name": "stderr",
     "output_type": "stream",
     "text": [
      "optimizing logp for variables: [slope_trace_angle, slope_ycenter, slope_xcenter, slope, edepth, mean]\n",
      "102it [00:00, 174.01it/s, logp=5.183545e+02]\n",
      "message: Desired error not necessarily achieved due to precision loss.\n",
      "logp: -14781.973761604595 -> 518.3545144147604\n"
     ]
    },
    {
     "name": "stdout",
     "output_type": "stream",
     "text": [
      "[INFO] Map Soln Edepth:13.904441503270268\n",
      "[INFO] Full decorrelation took 0.05 minutes\n",
      "['mean', 'edepth', 'slope', 'slope_xcenter', 'slope_ycenter', 'slope_trace_angle']\n",
      "174.64, 210.20, 35.56 ppm difference\n"
     ]
    },
    {
     "name": "stderr",
     "output_type": "stream",
     "text": [
      "optimizing logp for variables: [slope_trace_length, slope_trace_angle, slope_ycenter, slope_xcenter, slope, edepth, mean]\n",
      "51it [00:00, 107.52it/s, logp=5.202191e+02]\n",
      "message: Optimization terminated successfully.\n",
      "logp: -14783.360055965715 -> 520.2191471464342\n"
     ]
    },
    {
     "name": "stdout",
     "output_type": "stream",
     "text": [
      "[INFO] Map Soln Edepth:15.145426332838477\n",
      "[INFO] Full decorrelation took 0.05 minutes\n",
      "['mean', 'edepth', 'slope', 'slope_xcenter', 'slope_ycenter', 'slope_trace_angle', 'slope_trace_length']\n",
      "170.69, 210.20, 39.52 ppm difference\n",
      "[INFO] Trace Length Option took 0.10 minutes\n",
      "[INFO] Trace Angle Option took 0.18 minutes\n",
      "[INFO] Ycenter Option took 0.35 minutes\n",
      "[INFO] Xcenter Option took 0.78 minutes\n"
     ]
    },
    {
     "name": "stderr",
     "output_type": "stream",
     "text": [
      "optimizing logp for variables: [slope, edepth, mean_rev, mean_fwd]\n",
      "112it [00:00, 153.73it/s, logp=4.929223e+02]\n",
      "message: Desired error not necessarily achieved due to precision loss.\n",
      "logp: -14778.733817054437 -> 492.92228376102685\n"
     ]
    },
    {
     "name": "stdout",
     "output_type": "stream",
     "text": [
      "[INFO] Map Soln Edepth:8.116484177690207\n",
      "[INFO] Full decorrelation took 0.05 minutes\n",
      "['mean_fwd', 'mean_rev', 'edepth', 'slope']                                     \n",
      "206.49, 210.20, 3.72 ppm difference\n"
     ]
    },
    {
     "name": "stderr",
     "output_type": "stream",
     "text": [
      "optimizing logp for variables: [slope_trace_length, slope, edepth, mean_rev, mean_fwd]\n",
      "103it [00:00, 142.94it/s, logp=4.970921e+02]\n",
      "message: Desired error not necessarily achieved due to precision loss.\n",
      "logp: -14780.120111415557 -> 497.09209832154204\n"
     ]
    },
    {
     "name": "stdout",
     "output_type": "stream",
     "text": [
      "[INFO] Map Soln Edepth:9.080198005503341\n",
      "[INFO] Full decorrelation took 0.05 minutes\n",
      "['mean_fwd', 'mean_rev', 'edepth', 'slope', 'slope_trace_length']               \n",
      "199.98, 210.20, 10.23 ppm difference\n",
      "[INFO] Trace Length Option took 0.10 minutes\n"
     ]
    },
    {
     "name": "stderr",
     "output_type": "stream",
     "text": [
      "optimizing logp for variables: [slope_trace_angle, slope, edepth, mean_rev, mean_fwd]\n",
      "42it [00:00, 81.10it/s, logp=4.916288e+02] \n",
      "message: Optimization terminated successfully.\n",
      "logp: -14780.120111415557 -> 491.62877444629225\n"
     ]
    },
    {
     "name": "stdout",
     "output_type": "stream",
     "text": [
      "[INFO] Map Soln Edepth:8.017059823697759\n",
      "[INFO] Full decorrelation took 0.05 minutes\n",
      "['mean_fwd', 'mean_rev', 'edepth', 'slope', 'slope_trace_angle']                \n",
      "206.40, 210.20, 3.80 ppm difference\n"
     ]
    },
    {
     "name": "stderr",
     "output_type": "stream",
     "text": [
      "optimizing logp for variables: [slope_trace_length, slope_trace_angle, slope, edepth, mean_rev, mean_fwd]\n",
      "229it [00:01, 225.41it/s, logp=4.957110e+02]\n",
      "message: Desired error not necessarily achieved due to precision loss.\n",
      "logp: -14781.506405776676 -> 495.7110181755172\n"
     ]
    },
    {
     "name": "stdout",
     "output_type": "stream",
     "text": [
      "[INFO] Map Soln Edepth:9.047396880175015\n",
      "[INFO] Full decorrelation took 0.06 minutes\n",
      "['mean_fwd', 'mean_rev', 'edepth', 'slope', 'slope_trace_angle', 'slope_trace_length']\n",
      "199.97, 210.20, 10.23 ppm difference\n",
      "[INFO] Trace Length Option took 0.11 minutes\n",
      "[INFO] Trace Angle Option took 0.21 minutes\n"
     ]
    },
    {
     "name": "stderr",
     "output_type": "stream",
     "text": [
      "optimizing logp for variables: [slope_ycenter, slope, edepth, mean_rev, mean_fwd]\n",
      "92it [00:00, 141.45it/s, logp=5.144775e+02]\n",
      "message: Desired error not necessarily achieved due to precision loss.\n",
      "logp: -14780.120111415557 -> 514.4774923989291\n"
     ]
    },
    {
     "name": "stdout",
     "output_type": "stream",
     "text": [
      "[INFO] Map Soln Edepth:11.752460564142346\n",
      "[INFO] Full decorrelation took 0.05 minutes\n",
      "['mean_fwd', 'mean_rev', 'edepth', 'slope', 'slope_ycenter']                    \n",
      "182.42, 210.20, 27.79 ppm difference\n"
     ]
    },
    {
     "name": "stderr",
     "output_type": "stream",
     "text": [
      "optimizing logp for variables: [slope_trace_length, slope_ycenter, slope, edepth, mean_rev, mean_fwd]\n",
      "249it [00:01, 237.75it/s, logp=5.166714e+02]\n",
      "message: Desired error not necessarily achieved due to precision loss.\n",
      "logp: -14781.506405776676 -> 516.6713773666551\n"
     ]
    },
    {
     "name": "stdout",
     "output_type": "stream",
     "text": [
      "[INFO] Map Soln Edepth:13.058742853999393\n",
      "[INFO] Full decorrelation took 0.06 minutes\n",
      "['mean_fwd', 'mean_rev', 'edepth', 'slope', 'slope_ycenter', 'slope_trace_length']\n",
      "178.07, 210.20, 32.13 ppm difference\n",
      "[INFO] Trace Length Option took 0.11 minutes\n"
     ]
    },
    {
     "name": "stderr",
     "output_type": "stream",
     "text": [
      "optimizing logp for variables: [slope_trace_angle, slope_ycenter, slope, edepth, mean_rev, mean_fwd]\n",
      "34it [00:00, 60.36it/s, logp=5.131046e+02] \n",
      "message: Optimization terminated successfully.\n",
      "logp: -14781.506405776676 -> 513.1046177789715\n"
     ]
    },
    {
     "name": "stdout",
     "output_type": "stream",
     "text": [
      "[INFO] Map Soln Edepth:11.840319744691957\n",
      "[INFO] Full decorrelation took 0.06 minutes\n",
      "['mean_fwd', 'mean_rev', 'edepth', 'slope', 'slope_ycenter', 'slope_trace_angle']\n",
      "182.40, 210.20, 27.81 ppm difference\n"
     ]
    },
    {
     "name": "stderr",
     "output_type": "stream",
     "text": [
      "optimizing logp for variables: [slope_trace_length, slope_trace_angle, slope_ycenter, slope, edepth, mean_rev, mean_fwd]\n",
      "152it [00:00, 177.81it/s, logp=5.153699e+02]\n",
      "message: Desired error not necessarily achieved due to precision loss.\n",
      "logp: -14782.892700137796 -> 515.3698614538506\n"
     ]
    },
    {
     "name": "stdout",
     "output_type": "stream",
     "text": [
      "[INFO] Map Soln Edepth:13.350445020070236\n",
      "[INFO] Full decorrelation took 0.06 minutes\n",
      "['mean_fwd', 'mean_rev', 'edepth', 'slope', 'slope_ycenter', 'slope_trace_angle', 'slope_trace_length']\n",
      "177.97, 210.20, 32.24 ppm difference\n",
      "[INFO] Trace Length Option took 0.12 minutes\n",
      "[INFO] Trace Angle Option took 0.23 minutes\n",
      "[INFO] Ycenter Option took 0.43 minutes\n"
     ]
    },
    {
     "name": "stderr",
     "output_type": "stream",
     "text": [
      "optimizing logp for variables: [slope_xcenter, slope, edepth, mean_rev, mean_fwd]\n",
      "158it [00:00, 193.89it/s, logp=5.099062e+02]\n",
      "message: Desired error not necessarily achieved due to precision loss.\n",
      "logp: -14780.120111415557 -> 509.9062175253515\n"
     ]
    },
    {
     "name": "stdout",
     "output_type": "stream",
     "text": [
      "[INFO] Map Soln Edepth:10.947595952194312\n",
      "[INFO] Full decorrelation took 0.05 minutes\n",
      "['mean_fwd', 'mean_rev', 'edepth', 'slope', 'slope_xcenter']                    \n",
      "185.96, 210.20, 24.24 ppm difference\n"
     ]
    },
    {
     "name": "stderr",
     "output_type": "stream",
     "text": [
      "optimizing logp for variables: [slope_trace_length, slope_xcenter, slope, edepth, mean_rev, mean_fwd]\n",
      "35it [00:00, 68.35it/s, logp=5.118722e+02] \n",
      "message: Optimization terminated successfully.\n",
      "logp: -14781.506405776676 -> 511.8722480528186\n"
     ]
    },
    {
     "name": "stdout",
     "output_type": "stream",
     "text": [
      "[INFO] Map Soln Edepth:12.017206468169585\n",
      "[INFO] Full decorrelation took 0.05 minutes\n",
      "['mean_fwd', 'mean_rev', 'edepth', 'slope', 'slope_xcenter', 'slope_trace_length']\n",
      "181.51, 210.20, 28.70 ppm difference\n",
      "[INFO] Trace Length Option took 0.10 minutes\n"
     ]
    },
    {
     "name": "stderr",
     "output_type": "stream",
     "text": [
      "optimizing logp for variables: [slope_trace_angle, slope_xcenter, slope, edepth, mean_rev, mean_fwd]\n",
      "39it [00:00, 73.69it/s, logp=5.086285e+02] \n",
      "message: Optimization terminated successfully.\n",
      "logp: -14781.506405776676 -> 508.62851706380746\n"
     ]
    },
    {
     "name": "stdout",
     "output_type": "stream",
     "text": [
      "[INFO] Map Soln Edepth:10.762078109888485\n",
      "[INFO] Full decorrelation took 0.05 minutes\n",
      "['mean_fwd', 'mean_rev', 'edepth', 'slope', 'slope_xcenter', 'slope_trace_angle']\n",
      "185.89, 210.20, 24.32 ppm difference\n"
     ]
    }
   ],
   "source": [
    "from arctor.utils import run_pymc3_both\n",
    "\n",
    "tune = 3000\n",
    "draws = 3000\n",
    "target_accept = 0.9\n",
    "do_mcmc = True\n",
    "idx_fwd_ = None\n",
    "idx_rev_ = None\n",
    "use_log_edepth = False\n",
    "allow_negative_edepths = False\n",
    "\n",
    "xcenters_mod = planet.trace_xcenters - np.median(planet.trace_xcenters)\n",
    "ycenters_mod = planet.trace_ycenters - np.median(planet.trace_ycenters)\n",
    "trace_angles_mod = planet.trace_angles - np.median(planet.trace_angles)\n",
    "trace_lengths_mod = planet.trace_lengths - np.median(planet.trace_lengths)\n",
    "phots = planet.normed_photometry_df[fine_min_snr_colname].values\n",
    "\n",
    "# n_space = 10\n",
    "# near_best_apertures_NxN_small = [f'aperture_sum_{aper_width_}x{aper_height_}' \n",
    "#                                  for aper_width_ in (np.arange(-n_space//2+1, n_space//2+1)+fine_min_snr_aper_width)\n",
    "#                                  for aper_height_ in (np.arange(-n_space//2+1, n_space//2+1)+fine_min_snr_aper_height)]\n",
    "# # len(near_best_apertures_NxN_small)# near_best_apertures_NxN_small\n",
    "save_dir = os.path.join(HOME, 'Research', 'Planets', 'WASP43', 'github_analysis', 'notebooks', 'all400_results_decor_MAPs_only_SDNR')\n",
    "\n",
    "decor_span_MAPs_only_list_all400 = []\n",
    "startn1 = time()\n",
    "for aper_column in planet.normed_photometry_df.columns:  # near_best_apertures_NxN_small:  # [fine_min_snr_colname]:\n",
    "    phots = planet.normed_photometry_df[aper_column].values\n",
    "    uncs = planet.normed_uncertainty_df[aper_column].values\n",
    "    save_state = {}\n",
    "    save_state[aper_column] = []\n",
    "    start0 = time()\n",
    "    for idx_fwd_, idx_rev_ in zip([None, idx_fwd], [None, idx_rev]):\n",
    "        start1 = time()\n",
    "        for xcenters_ in [None, xcenters_mod]:\n",
    "            start2 = time()\n",
    "            for ycenters_ in [None, ycenters_mod]:\n",
    "                start3 = time()\n",
    "                for trace_angles_ in [None, trace_angles_mod]:\n",
    "                    start4 = time()\n",
    "                    for trace_lengths_ in [None, trace_lengths_mod]:\n",
    "                        start5 = time()\n",
    "                        fine_grain_mcmcs, map_soln = run_pymc3_both(\n",
    "                            times, phots, uncs,\n",
    "                            t0=t0_guess, u=u, period=period_wasp43, b=b_wasp43,\n",
    "                            tune=tune, draws=draws, target_accept=target_accept,\n",
    "                            xcenters=xcenters_,\n",
    "                            ycenters=ycenters_,\n",
    "                            trace_angles=trace_angles_,\n",
    "                            trace_lengths=trace_lengths_,\n",
    "                            do_mcmc=False,\n",
    "                            idx_fwd=idx_fwd_,\n",
    "                            idx_rev=idx_rev_,\n",
    "                            use_log_edepth=use_log_edepth,\n",
    "                            allow_negative_edepths=allow_negative_edepths)\n",
    "\n",
    "                        info_message(f'Full decorrelation took {(time() - start5)/60:0.2f} minutes')\n",
    "                        res_std_ppm, phots_std_ppm, res_diff_ppm = compute_sdnr(map_soln, phots, idx_fwd, idx_rev)\n",
    "                        \n",
    "                        save_state_ = [idx_fwd_ is not None,\n",
    "                                       idx_rev_ is not None,\n",
    "                                       xcenters_ is not None,\n",
    "                                       ycenters_ is not None,\n",
    "                                       trace_angles_ is not None,\n",
    "                                       trace_lengths_ is not None]\n",
    "                        \n",
    "                        save_state_.extend([fine_grain_mcmcs, map_soln])\n",
    "                        save_state_.extend([res_std_ppm, phots_std_ppm, res_diff_ppm])\n",
    "                        \n",
    "                        save_state[aper_column].append(save_state_)\n",
    "                        # decor_span_MAPs_only_list_all400.append(save_state)\n",
    "                        \n",
    "                    info_message(f'Trace Length Option took {(time() - start4)/60:0.2f} minutes')\n",
    "                info_message(f'Trace Angle Option took {(time() - start3)/60:0.2f} minutes')\n",
    "            info_message(f'Ycenter Option took {(time() - start2)/60:0.2f} minutes')\n",
    "        info_message(f'Xcenter Option took {(time() - start1)/60:0.2f} minutes')\n",
    "    info_message(f'Run through for {aper_column} took {(time() - start0)/60:0.2f} minutes')\n",
    "    save_name = f'{save_dir}/results_decor_span_MAPs_only_SDNR_{aper_column}.joblib.save'\n",
    "    \n",
    "    print(f'[INFO] Saving {aper_column} to {save_name}')\n",
    "    joblib.dump(save_state, save_name)\n",
    "    del save_state\n",
    "info_message(f'Entire loop-d-loop took {(time() - startn1)/60:0.2f} minutes')\n",
    "\n",
    "# joblib.dump(decor_span_MAPs_only_list_all400, f'{save_dir}/results_decor_span_MAPs_only_SDNR_all400.joblib.save')"
   ]
  },
  {
   "cell_type": "raw",
   "metadata": {},
   "source": [
    "joblib.dump(decor_span_MAPs_only_list, 'results_decor_span_MAPs_only_SDNR_all400.joblib.save')"
   ]
  },
  {
   "cell_type": "code",
   "execution_count": null,
   "metadata": {},
   "outputs": [],
   "source": [
    "n_space = 5\n",
    "near_best_apertures_NxN_small = [f'aperture_sum_{aper_width_}x{aper_height_}' \n",
    "                                 for aper_width_ in (np.arange(-n_space//2+1, n_space//2+1)+fine_min_snr_aper_width)\n",
    "                                 for aper_height_ in (np.arange(-n_space//2+1, n_space//2+1)+fine_min_snr_aper_height)]\n",
    "len(near_best_apertures_NxN_small), near_best_apertures_NxN_small"
   ]
  },
  {
   "cell_type": "raw",
   "metadata": {},
   "source": [
    "decor_aper_columns_list = []\n",
    "for aper_column in near_best_apertures_NxN_small:  # planet.normed_photometry_df.columns:  # [fine_min_snr_colname]:\n",
    "    for idx_fwd_, idx_rev_ in zip([None, idx_fwd], [None, idx_rev]):\n",
    "        for xcenters_ in [None, xcenters_mod]:\n",
    "            for ycenters_ in [None, ycenters_mod]:\n",
    "                for trace_angles_ in [None, trace_angles_mod]:\n",
    "                    for trace_lengths_ in [None, trace_lengths_mod]:\n",
    "                        decor_aper_columns_list.append(aper_column)\n",
    "\n",
    "joblib.dump(decor_aper_columns_list, 'decor_span_MAPs_only_aper_columns_list.joblib.save')"
   ]
  },
  {
   "cell_type": "code",
   "execution_count": null,
   "metadata": {},
   "outputs": [],
   "source": [
    "len(decor_aper_columns_list)"
   ]
  },
  {
   "cell_type": "code",
   "execution_count": null,
   "metadata": {},
   "outputs": [],
   "source": [
    "save_dir = os.path.join(HOME, 'Research', 'Planets', 'WASP43', 'github_analysis', 'notebooks', 'all400_results_decor_MCMCs_SDNR')"
   ]
  },
  {
   "cell_type": "code",
   "execution_count": null,
   "metadata": {},
   "outputs": [],
   "source": [
    "from arctor.utils import run_pymc3_both\n",
    "\n",
    "tune = 3000\n",
    "draws = 3000\n",
    "target_accept = 0.9\n",
    "do_mcmc = True\n",
    "idx_fwd_ = None\n",
    "idx_rev_ = None\n",
    "use_log_edepth = False\n",
    "allow_negative_edepths = False\n",
    "\n",
    "xcenters_mod = planet.trace_xcenters - np.median(planet.trace_xcenters)\n",
    "ycenters_mod = planet.trace_ycenters - np.median(planet.trace_ycenters)\n",
    "trace_angles_mod = planet.trace_angles - np.median(planet.trace_angles)\n",
    "trace_lengths_mod = planet.trace_lengths - np.median(planet.trace_lengths)\n",
    "phots = planet.normed_photometry_df[fine_min_snr_colname].values\n",
    "\n",
    "# near_best_apertures_NxN_small = [fine_min_snr_colname]\n",
    "n_space = 5\n",
    "near_best_apertures_NxN_small = [f'aperture_sum_{aper_width_}x{aper_height_}' \n",
    "                                 for aper_width_ in (np.arange(-n_space//2+1, n_space//2+1)+fine_min_snr_aper_width)\n",
    "                                 for aper_height_ in (np.arange(-n_space//2+1, n_space//2+1)+fine_min_snr_aper_height)]\n",
    "save_dir = os.path.join(HOME, 'Research', 'Planets', 'WASP43', 'github_analysis', 'notebooks', 'all400_results_decor_MCMCs_SDNR')\n",
    "# decor_span_MCMCs_list = []\n",
    "startn1 = time()\n",
    "for aper_column in near_best_apertures_NxN_small:  # [fine_min_snr_colname]:  # planet.normed_photometry_df.columns:  # near_best_apertures_NxN_small:  # \n",
    "    phots = planet.normed_photometry_df[aper_column].values\n",
    "    uncs = planet.normed_uncertainty_df[aper_column].values\n",
    "    save_state = {}\n",
    "    save_state[aper_column] = []\n",
    "    start0 = time()\n",
    "    for idx_fwd_, idx_rev_ in zip([None, idx_fwd], [None, idx_rev]):\n",
    "        start1 = time()\n",
    "        for xcenters_ in [None, xcenters_mod]:\n",
    "            start2 = time()\n",
    "            for ycenters_ in [None, ycenters_mod]:\n",
    "                start3 = time()\n",
    "                for trace_angles_ in [None, trace_angles_mod]:\n",
    "                    start4 = time()\n",
    "                    for trace_lengths_ in [None, trace_lengths_mod]:\n",
    "                        start5 = time()\n",
    "                        fine_grain_mcmcs, map_soln = run_pymc3_both(\n",
    "                            times, phots, uncs,\n",
    "                            t0=t0_guess, u=u, period=period_wasp43, b=b_wasp43,\n",
    "                            tune=tune, draws=draws, target_accept=target_accept,\n",
    "                            xcenters=xcenters_,\n",
    "                            ycenters=ycenters_,\n",
    "                            trace_angles=trace_angles_,\n",
    "                            trace_lengths=trace_lengths_,\n",
    "                            do_mcmc=do_mcmc,\n",
    "                            idx_fwd=idx_fwd_,\n",
    "                            idx_rev=idx_rev_,\n",
    "                            use_log_edepth=use_log_edepth,\n",
    "                            allow_negative_edepths=allow_negative_edepths)\n",
    "                        \n",
    "                        info_message(f'Full decorrelation took {(time() - start5)/60:0.2f} minutes')\n",
    "                        res_std_ppm, phots_std_ppm, res_diff_ppm = compute_sdnr(map_soln, phots, idx_fwd, idx_rev)\n",
    "                        \n",
    "                        save_state_ = [idx_fwd_ is not None,\n",
    "                                       idx_rev is not None,\n",
    "                                       xcenters_ is not None,\n",
    "                                       ycenters_ is not None,\n",
    "                                       trace_angles_ is not None,\n",
    "                                       trace_lengths_ is not None]\n",
    "                        \n",
    "                        save_state_.extend([aper_column, fine_grain_mcmcs, map_soln])\n",
    "                        save_state_.extend([res_std_ppm, phots_std_ppm, res_diff_ppm])\n",
    "                        \n",
    "                        save_state[aper_column].append(save_state_)\n",
    "                        # decor_span_MCMCs_list.append(save_state)\n",
    "                    info_message(f'Trace Length Option took {(time() - start4)/60:0.2f} minutes')\n",
    "                info_message(f'Trace Angle Option took {(time() - start3)/60:0.2f} minutes')\n",
    "            info_message(f'Ycenter Option took {(time() - start2)/60:0.2f} minutes')\n",
    "        info_message(f'xcenter Option took {(time() - start1)/60:0.2f} minutes')\n",
    "    info_message(f'Run through for {aper_column} took {(time() - start0)/60:0.2f} minutes')\n",
    "    \n",
    "    save_name = f'{save_dir}/results_decor_span_MCMCs_25_bestest_SDNR_{aper_column}.joblib.save'\n",
    "    print(f'[INFO] Saving {aper_column} to {save_name}')\n",
    "    \n",
    "    joblib.dump(save_state, save_name)\n",
    "    del save_state\n",
    "\n",
    "info_message(f'Entire loop-d-loop took {(time() - startn1)/60:0.2f} minutes')\n",
    "\n",
    "# joblib.dump(decor_span_MCMCs_list, 'results_decor_span_MCMCs_25_bestest_SDNR.joblib.save')"
   ]
  },
  {
   "cell_type": "code",
   "execution_count": null,
   "metadata": {},
   "outputs": [],
   "source": [
    "mcmc_fit_ = fine_grain_mcmcs_w_xcenter_w_ycenter_w_trace_angle_w_trace_length_lin_edepth_no_split_w_negEcl\n",
    "map_soln_ = map_soln_w_xcenter_w_ycenter_w_trace_angle_w_trace_length_lin_edepth_no_split_w_negEcl\n",
    "# map_soln_ = map_soln_no_decor_lin_edepth_no_split_w_negEcl\n",
    "# mcmc_fits_ = fine_grain_mcmcs_no_decor_lin_edepth_no_split_w_negEcl\n",
    "ppm = 1e6\n",
    "\n",
    "phots = planet.normed_photometry_df[fine_min_snr_colname].values\n",
    "phots_std = phots.std()*ppm\n",
    "varnames = [key for key in map_soln_.keys() if '__' not in key and 'light' not in key and 'line' not in key and 'le_edepth_0' not in key]\n",
    "label_mcmc_fit_ = str(varnames)\n",
    "\n",
    "if 'mean_fwd' not in map_soln_.keys():\n",
    "    map_model = map_soln_['light_curves'].flatten() + map_soln_['mean'] + map_soln_['slope']*(times - np.median(times))\n",
    "    if 'slope_xcenter' in map_soln_.keys():\n",
    "        map_model = map_model + map_soln_['slope_xcenter']*(xcenters.values - np.median(xcenters))\n",
    "else:\n",
    "    map_model = np.zeros_like(times)\n",
    "    map_model[idx_fwd] = map_soln_['light_curves_fwd'].flatten() + map_soln_['mean_fwd'] + map_soln_['slope']*(times[idx_fwd] - np.median(times))\n",
    "    map_model[idx_rev] = map_soln_['light_curves_rev'].flatten() + map_soln_['mean_rev'] + map_soln_['slope']*(times[idx_rev] - np.median(times))\n",
    "\n",
    "    if 'slope_xcenter' in map_soln_.keys():\n",
    "        map_model = map_model + map_soln_['slope_xcenter']*(xcenters.values - np.median(xcenters))\n",
    "\n",
    "print(f'{label_mcmc_fit_}: {phots_std - (np.std(map_model - phots))*ppm:0.2f} ppm difference')\n",
    "print(pm.summary(mcmc_fit_, varnames=varnames)[['mean', 'sd', 'hpd_2.5', 'hpd_97.5']])\n",
    "setup_and_plot_GTC({'trace':mcmc_fit_, 'map_soln':map_soln_},\n",
    "                   smoothingKernel=0.1, square_edepth=False,\n",
    "                   varnames=varnames)"
   ]
  },
  {
   "cell_type": "code",
   "execution_count": null,
   "metadata": {},
   "outputs": [],
   "source": [
    "# mcmc_fit_ = fine_grain_mcmcs_w_xcenter_w_ycenter_w_trace_angle_w_trace_length_lin_edepth_no_split_w_negEcl\n",
    "# map_soln_ = map_soln_w_xcenter_w_ycenter_w_trace_angle_w_trace_length_lin_edepth_no_split_w_negEcl\n",
    "map_soln_ = map_soln_no_decor_lin_edepth_no_split_w_negEcl\n",
    "mcmc_fits_ = fine_grain_mcmcs_no_decor_lin_edepth_no_split_w_negEcl\n",
    "ppm = 1e6\n",
    "\n",
    "phots = planet.normed_photometry_df[fine_min_snr_colname].values\n",
    "phots_std = phots.std()*ppm\n",
    "varnames = [key for key in map_soln_.keys() if '__' not in key and 'light' not in key and 'line' not in key and 'le_edepth_0' not in key]\n",
    "label_mcmc_fit_ = str(varnames)\n",
    "\n",
    "if 'mean_fwd' not in map_soln_.keys():\n",
    "    map_model = map_soln_['light_curves'].flatten() + map_soln_['mean'] + map_soln_['slope']*(times - np.median(times))\n",
    "    if 'slope_xcenter' in map_soln_.keys():\n",
    "        map_model = map_model + map_soln_['slope_xcenter']*(xcenters.values - np.median(xcenters))\n",
    "else:\n",
    "    map_model = np.zeros_like(times)\n",
    "    map_model[idx_fwd] = map_soln_['light_curves_fwd'].flatten() + map_soln_['mean_fwd'] + map_soln_['slope']*(times[idx_fwd] - np.median(times))\n",
    "    map_model[idx_rev] = map_soln_['light_curves_rev'].flatten() + map_soln_['mean_rev'] + map_soln_['slope']*(times[idx_rev] - np.median(times))\n",
    "    map_model[idx_rev] = map_model[idx_rev] + \n",
    "    # if 'slope_xcenter' in map_soln_.keys():\n",
    "    #     map_model = map_model + map_soln_['slope_xcenter']*(xcenters.values - np.median(xcenters))\n",
    "\n",
    "print(f'{label_mcmc_fit_}: {phots_std - (np.std(map_model - phots))*ppm:0.2f} ppm difference')\n",
    "print(pm.summary(mcmc_fit_, varnames=varnames)[['mean', 'sd', 'hpd_2.5', 'hpd_97.5']])\n",
    "setup_and_plot_GTC({'trace':mcmc_fit_, 'map_soln':map_soln_},\n",
    "                   smoothingKernel=0.1, square_edepth=False,\n",
    "                   varnames=varnames)"
   ]
  },
  {
   "cell_type": "code",
   "execution_count": null,
   "metadata": {},
   "outputs": [],
   "source": [
    "start = time()\n",
    "varnames_ = varnames\n",
    "pm.traceplot(mcmc_fit_, var_names=varnames_);\n",
    "info_message(f'Time to plot {len(varnames_)} vars: {time() - start:0.2f} seconds')"
   ]
  },
  {
   "cell_type": "markdown",
   "metadata": {},
   "source": [
    "# Run  through All 12 (original) MCMC Flavors to Compare results"
   ]
  },
  {
   "cell_type": "code",
   "execution_count": null,
   "metadata": {},
   "outputs": [],
   "source": [
    "mcmc_fits = [{fine_min_snr_colname:{'trace':fine_grain_mcmcs_no_decor_lin_edepth_no_split_w_negEcl,\n",
    "             'map_soln':map_soln_no_decor_lin_edepth_no_split_w_negEcl}},\n",
    "            {fine_min_snr_colname:{'trace':fine_grain_mcmcs_w_xcenter_w_ycenter_w_trace_angle_w_trace_length_lin_edepth_no_split_w_negEcl,\n",
    "             'map_soln':map_soln_w_xcenter_w_ycenter_w_trace_angle_w_trace_length_lin_edepth_no_split_w_negEcl}}]"
   ]
  },
  {
   "cell_type": "code",
   "execution_count": null,
   "metadata": {},
   "outputs": [],
   "source": [
    "label_mcmc_fit = []\n",
    "for mcmc_fit_ in mcmc_fits:\n",
    "    label_mcmc_fit.append(str([key for key in mcmc_fit_[fine_min_snr_colname]['map_soln'].keys() if '__' not in key and 'light' not in key]))\n",
    "\n",
    "for k in range(len(mcmc_fits)):\n",
    "    label_mcmc_fit[k] = label_mcmc_fit[k][:-1] + \", 'allow_neg_slopes']\""
   ]
  },
  {
   "cell_type": "code",
   "execution_count": null,
   "metadata": {},
   "outputs": [],
   "source": [
    "ppm = 1e6\n",
    "phots = planet.normed_photometry_df[fine_min_snr_colname].values\n",
    "phots_std = phots.std()\n",
    "for k, mcmc_fit_ in enumerate(mcmc_fits):\n",
    "    map_soln = mcmc_fit_[fine_min_snr_colname]['map_soln']\n",
    "    if 'mean_fwd' not in map_soln.keys():\n",
    "        map_model = map_soln['light_curves'].flatten() + map_soln['line_model']\n",
    "    else:\n",
    "        map_model = np.zeros_like(times)\n",
    "        map_model[idx_fwd] = map_soln['light_curves_fwd'].flatten() + map_soln['line_model_fwd']\n",
    "        map_model[idx_rev] = map_soln['light_curves_rev'].flatten() + map_soln['line_model_rev']\n",
    "\n",
    "    print(f'{label_mcmc_fit[k]:<80}')\n",
    "    print(f'{phots_std*ppm:0.2f}, {np.std(map_model - phots)*ppm:0.2f}, {phots_std*ppm - (np.std(map_model - phots))*ppm:0.2f} ppm difference')"
   ]
  },
  {
   "cell_type": "code",
   "execution_count": null,
   "metadata": {},
   "outputs": [],
   "source": [
    "for k, mcmc_fit_ in enumerate(mcmc_fits):\n",
    "    print(pm.summary(trace, varnames=varnames)[['mean', 'sd', 'hpd_2.5', 'hpd_97.5']])"
   ]
  },
  {
   "cell_type": "code",
   "execution_count": null,
   "metadata": {},
   "outputs": [],
   "source": [
    "for k, mcmc_fit_ in enumerate(mcmc_fits):\n",
    "    setup_and_plot_GTC(mcmc_fit_[fine_min_snr_colname])"
   ]
  },
  {
   "cell_type": "markdown",
   "metadata": {},
   "source": [
    "# Defunct Analysis Steps"
   ]
  },
  {
   "cell_type": "code",
   "execution_count": null,
   "metadata": {},
   "outputs": [],
   "source": [
    "[key for key in fine_grain_mcmcs_with_w_xcenter_lin_edepth_w_split['aperture_sum_20x50']['map_soln'].keys()\n",
    "                if '__' not in key and 'light' not in key]"
   ]
  },
  {
   "cell_type": "code",
   "execution_count": null,
   "metadata": {},
   "outputs": [],
   "source": [
    "pm.summary(trace, varnames=varnames)"
   ]
  },
  {
   "cell_type": "code",
   "execution_count": null,
   "metadata": {},
   "outputs": [],
   "source": [
    "import pygtc\n",
    "plt.rcParams['figure.figsize'] = 10,10\n",
    "\n",
    "trace = fine_grain_mcmcs_w_xcenterfit[fine_min_snr_colname]['trace']\n",
    "\n",
    "samples = pm.trace_to_dataframe(trace, varnames=varnames)\n",
    "samples['edepth'] = 10**samples['log_edepth']\n",
    "\n",
    "pygtc.plotGTC(samples, nContourLevels=3);"
   ]
  },
  {
   "cell_type": "code",
   "execution_count": null,
   "metadata": {},
   "outputs": [],
   "source": [
    "from scipy.special import erf\n",
    "sigmas = erf(np.arange(1,6)/np.sqrt(2))\n",
    "print(np.percentile(samples['edepth'], sigmas*100)*1e6)\n",
    "print(10**(np.percentile(samples['log_edepth'], sigmas*100))*1e6)"
   ]
  },
  {
   "cell_type": "raw",
   "metadata": {},
   "source": [
    "ppm = 1e6\n",
    "edepth_mean = pm.summary(trace, var_names=varnames)['mean'].loc['edepth']\n",
    "edepth_sd = pm.summary(trace, var_names=varnames)['sd'].loc['edepth']\n",
    "\n",
    "edepth_mod = np.sign(edepth_mean)*np.sqrt(edepth_mean.__abs__())\n",
    "unc_edepth = abs(2*edepth_sd*edepth_mod)\n",
    "print(edepth_mod*ppm, unc_edepth*ppm)"
   ]
  },
  {
   "cell_type": "markdown",
   "metadata": {
    "colab_type": "text",
    "id": "AXl22v6jp_2i"
   },
   "source": [
    "Now we can plot the simulated data and the maximum a posteriori model to make sure that our initialization looks ok."
   ]
  },
  {
   "cell_type": "markdown",
   "metadata": {
    "colab_type": "text",
    "id": "y9xbZ7Atp_2l"
   },
   "source": [
    "## Sampling\n",
    "\n",
    "Now, let's sample from the posterior defined by this model.\n",
    "As usual, there are strong covariances between some of the parameters so we'll use :func:`exoplanet.get_dense_nuts_step`."
   ]
  },
  {
   "cell_type": "raw",
   "metadata": {
    "colab": {
     "base_uri": "https://localhost:8080/",
     "height": 67
    },
    "colab_type": "code",
    "id": "beb1lgP_p_2l",
    "outputId": "ad0bf51d-16f0-4600-d929-d074d3f525d2"
   },
   "source": [
    "np.random.seed(42)\n",
    "with model:\n",
    "    trace = pm.sample(\n",
    "        tune=3000,\n",
    "        draws=3000,\n",
    "        start=map_soln,\n",
    "        chains=mp.cpu_count(),\n",
    "        step=xo.get_dense_nuts_step(target_accept=0.9),\n",
    "        cores=mp.cpu_count()\n",
    "    )"
   ]
  },
  {
   "cell_type": "markdown",
   "metadata": {
    "colab_type": "text",
    "id": "r6Sgztjkp_2n"
   },
   "source": [
    "After sampling, it's important that we assess convergence.\n",
    "We can do that using the `pymc3.summary` function:"
   ]
  },
  {
   "cell_type": "code",
   "execution_count": null,
   "metadata": {},
   "outputs": [],
   "source": [
    "aper_sum_columns = planet.normed_photometry_df.drop(\n",
    "    ['xcenter', 'ycenter'], axis=1).columns\n",
    "aper_sum_columns"
   ]
  },
  {
   "cell_type": "code",
   "execution_count": null,
   "metadata": {},
   "outputs": [],
   "source": [
    "trace_ = fine_grain_mcmcs_w_xcenterfit[fine_min_snr_colname]['trace']\n",
    "dir(trace_)\n",
    "trace_.report._gelman_rubin.values()\n",
    "dir(trace_.report)\n",
    "trace_.report._run_convergence_checks??"
   ]
  },
  {
   "cell_type": "code",
   "execution_count": null,
   "metadata": {
    "colab": {
     "base_uri": "https://localhost:8080/",
     "height": 166
    },
    "colab_type": "code",
    "id": "OHVfu27Ip_2o",
    "outputId": "09042a5e-52a6-479b-806a-040551f27b4a"
   },
   "outputs": [],
   "source": [
    "# fine_grain_mcmcs_w_xcenterfit[fine_min_snr_colname]['map_soln']\n",
    "edepths = []\n",
    "means = []\n",
    "slopes = []\n",
    "slopes_xcenter = []\n",
    "\n",
    "edepths_unc = []\n",
    "means_unc = []\n",
    "slopes_unc = []\n",
    "slopes_xcenter_unc = []\n",
    "\n",
    "mesh_widths = []\n",
    "mesh_heights = []\n",
    "\n",
    "for colname in tqdm(aper_sum_columns):\n",
    "    aper_width_, aper_height_ = np.int32(colname.split('_')[-1].split('x'))\n",
    "    mesh_widths.append(aper_width_)\n",
    "    mesh_heights.append(aper_height_)\n",
    "\n",
    "    # Load Summary from Colname\n",
    "    summary_df = pm.summary(fine_grain_mcmcs_w_xcenterfit[colname]['trace'], varnames=varnames)\n",
    "\n",
    "    # Store mean values\n",
    "    edepths.append(summary_df['mean'].loc['edepth'])\n",
    "    means.append(summary_df['mean'].loc['mean'])\n",
    "    slopes.append(summary_df['mean'].loc['slope'])\n",
    "    slopes_xcenter.append(summary_df['mean'].loc['slope_xcenter'])\n",
    "\n",
    "    # Store uncertainties\n",
    "    edepths_unc.append(summary_df['sd'].loc['edepth'])\n",
    "    means_unc.append(summary_df['sd'].loc['mean'])\n",
    "    slopes_unc.append(summary_df['sd'].loc['slope'])\n",
    "    slopes_xcenter_unc.append(summary_df['sd'].loc['slope_xcenter'])"
   ]
  },
  {
   "cell_type": "code",
   "execution_count": null,
   "metadata": {
    "colab": {
     "base_uri": "https://localhost:8080/",
     "height": 166
    },
    "colab_type": "code",
    "id": "OHVfu27Ip_2o",
    "outputId": "09042a5e-52a6-479b-806a-040551f27b4a"
   },
   "outputs": [],
   "source": [
    "df_columns = [\"aper_width\", \"aper_height\", \"edepth\", \"mean\", \"slope\", \"slope_xcenter\"]\n",
    "means_df = pd.DataFrame(np.transpose([mesh_widths, mesh_heights, edepths, means, slopes, slopes_xcenter]), \n",
    "                        columns=df_columns)\n",
    "uncs_df = pd.DataFrame(np.transpose([mesh_widths, mesh_heights, edepths_unc, means_unc, slopes_unc, slopes_xcenter_unc]), \n",
    "                        columns=df_columns)"
   ]
  },
  {
   "cell_type": "code",
   "execution_count": null,
   "metadata": {},
   "outputs": [],
   "source": [
    "# mesh_widths_sorted = np.argsort(mesh_widths)\n",
    "# mesh_heights_sorted = np.argsort(mesh_heights)\n",
    "plt.plot(means_df['aper_width'], (means_df['edepth'] / uncs_df['edepth']), '.')\n",
    "plt.plot(means_df['aper_height'], (means_df['edepth'] / uncs_df['edepth']),'.')\n",
    "\n",
    "plt.figure()\n",
    "plt.plot(means_df['aper_height']*means_df['aper_width'], (means_df['edepth'] / uncs_df['edepth']),'.')"
   ]
  },
  {
   "cell_type": "code",
   "execution_count": null,
   "metadata": {},
   "outputs": [],
   "source": [
    "mesh_widths_sorted = np.argsort(mesh_widths)\n",
    "mesh_heights_sorted = np.argsort(mesh_heights)\n",
    "\n",
    "plt.figure()\n",
    "plt.plot(means_df['aper_width'], means_df['mean'],'.')\n",
    "plt.plot(means_df['aper_height'], means_df['mean'],'.')\n",
    "\n",
    "plt.figure()\n",
    "plt.plot(means_df['aper_height']*means_df['aper_width'], means_df['mean'],'.')"
   ]
  },
  {
   "cell_type": "markdown",
   "metadata": {
    "colab_type": "text",
    "id": "Ka3b7ucAp_2q"
   },
   "source": [
    "That looks pretty good!\n",
    "Fitting this without *exoplanet* would have taken a lot more patience.\n",
    "\n",
    "Now we can also look at the [corner plot](https://corner.readthedocs.io) of some of that parameters of interest:"
   ]
  },
  {
   "cell_type": "code",
   "execution_count": null,
   "metadata": {},
   "outputs": [],
   "source": [
    "import pygtc\n",
    "import corner"
   ]
  },
  {
   "cell_type": "code",
   "execution_count": null,
   "metadata": {},
   "outputs": [],
   "source": [
    "trace = fine_grain_mcmcs_w_xcenterfit[fine_min_snr_colname]['trace']"
   ]
  },
  {
   "cell_type": "code",
   "execution_count": null,
   "metadata": {},
   "outputs": [],
   "source": [
    "n_lightcurves_fwd = trace['light_curves_fwd'].shape[0]\n",
    "light_curves_fwd = trace['light_curves_fwd'].reshape(trace['light_curves_fwd'].shape[:2])#trace['mean_fwd'][:,None]\n",
    "\n",
    "n_lightcurves_rev = trace['light_curves_rev'].shape[0]\n",
    "light_curves_rev = trace['light_curves_rev'].reshape(trace['light_curves_rev'].shape[:2])#trace['mean_rev'][:,None]\n",
    "\n",
    "for k in np.random.choice(np.arange(n_lightcurves_fwd), size=100):\n",
    "    plt.plot(t[idx_fwd], light_curves_fwd[k], '.', color='C0', alpha=0.25)\n",
    "\n",
    "for k in np.random.choice(np.arange(n_lightcurves_rev), size=100):\n",
    "    plt.plot(t[idx_rev], light_curves_rev[k], '.', color='C1', alpha=0.25)\n",
    "\n",
    "plt.ylim(-1e-5, 1e-6);\n",
    "plt.xlim(t0_guess - 0.1, t0_guess + 0.1);"
   ]
  },
  {
   "cell_type": "code",
   "execution_count": null,
   "metadata": {
    "colab": {
     "base_uri": "https://localhost:8080/",
     "height": 983
    },
    "colab_type": "code",
    "id": "jfCeokGEp_2q",
    "outputId": "7bf78c3f-897d-4f23-cc05-b80a9c1fbcd6"
   },
   "outputs": [],
   "source": [
    "for colname in tqdm(aper_sum_columns):\n",
    "    trace = fine_grain_mcmcs_w_xcenterfit[colname]['trace']\n",
    "    \n",
    "    samples = pm.trace_to_dataframe(trace, varnames=varnames)\n",
    "    truth = [0.0, 1.0, 1.0, 0.0]\n",
    "    corner.corner(samples, truths=truth, labels=varnames);"
   ]
  },
  {
   "cell_type": "markdown",
   "metadata": {
    "colab_type": "text",
    "id": "MpMLcJQOp_2s"
   },
   "source": [
    "## Phase plots\n",
    "\n",
    "Like in the radial velocity tutorial (:ref:`rv`), we can make plots of the model predictions for each planet."
   ]
  },
  {
   "cell_type": "code",
   "execution_count": null,
   "metadata": {},
   "outputs": [],
   "source": [
    "line_fit.shape"
   ]
  },
  {
   "cell_type": "code",
   "execution_count": null,
   "metadata": {
    "colab": {
     "base_uri": "https://localhost:8080/",
     "height": 490
    },
    "colab_type": "code",
    "id": "WjqqqQGIp_2t",
    "outputId": "23dd3dec-e1ba-4464-b4d4-997746b357cd"
   },
   "outputs": [],
   "source": [
    "plt.figure()\n",
    "# Get the posterior median orbital parameters\n",
    "p = period\n",
    "# t0 = np.median(trace[\"t0\"])\n",
    "\n",
    "# Plot the folded data\n",
    "line_fit =  + trace['slope_xcenter'] + trace['slope']\n",
    "line_fit = slope * (t-t0_guess) + mean + slope * (xcenters-np.median(xcenters))\n",
    "\n",
    "plt.errorbar(times[idx_fwd] - t0, (data - line_fit + 1.0)[idx_fwd], yerr=yerr[idx_fwd], fmt=\".\", color='C0', label=\"fwd data\", zorder=-1000)\n",
    "plt.errorbar(times[idx_rev] - t0, (data - line_fit + 1.0)[idx_rev], yerr=yerr[idx_rev], fmt=\".\", color='C3', label=\"rev data\", zorder=-1000)\n",
    "\n",
    "# Plot the folded model\n",
    "preds_fwd = trace[\"light_curves\"][:,:,0]\n",
    "# preds_rev = trace[\"light_curves\"][:,:,0] + trace[\"mean\"][:, None]\n",
    "pred_fwd = np.median(preds_fwd, axis=0)\n",
    "# pred_rev = np.median(preds_rev, axis=0)\n",
    "\n",
    "\n",
    "plt.plot(times - t0, pred_fwd, color=\"C1\", label=\"model\", zorder=10)\n",
    "# plt.plot(t[idx_rev] - t0, pred_rev, color=\"C2\", label=\"model\", zorder=10)\n",
    "plt.axhline(1.0, ls='--', color='k')\n",
    "\n",
    "# Annotate the plot with the planet's period\n",
    "txt = f\"Eclipse Depth = {np.mean(trace['edepth']*1e6):.0f}\"\n",
    "txt += f\" +/- {np.std(trace['edepth']*1e6):.0f} ppm\"\n",
    "\n",
    "plt.annotate(\n",
    "    txt,\n",
    "    (0, 0),\n",
    "    xycoords=\"axes fraction\",\n",
    "    xytext=(5, 5),\n",
    "    textcoords=\"offset points\",\n",
    "    ha=\"left\",\n",
    "    va=\"bottom\",\n",
    "    fontsize=12,\n",
    ")\n",
    "\n",
    "add_traces = False\n",
    "if add_traces:\n",
    "    n_traces = 1000\n",
    "    \n",
    "    idx_rand = np.random.choice(np.arange(preds_fwd.shape[0]), size=n_traces, replace=False)\n",
    "    for pred_ in preds_fwd[idx_rand]:\n",
    "        plt.plot(times - t0, pred_, color=\"grey\", alpha=0.5, zorder=0)\n",
    "\n",
    "    # idx_rand = np.random.choice(np.arange(preds_fwd.shape[0]), size=n_traces, replace=False)\n",
    "    # for pred_ in preds_rev[idx_rand]:\n",
    "    #     plt.plot(t[idx_rev] - t0, pred_, color=\"grey\", alpha=0.5, zorder=0)\n",
    "\n",
    "plt.legend(fontsize=10, loc=4)\n",
    "plt.xlim((times - t0).min(), (times - t0).max())\n",
    "plt.xlabel(\"Time Since Eclipse [days]\")\n",
    "plt.ylabel(\"Relative Flux\")\n",
    "plt.title(\"WASP43 UVIS Eclipse\");"
   ]
  },
  {
   "cell_type": "markdown",
   "metadata": {
    "colab_type": "text",
    "id": "_DCj2Oh6p_2v"
   },
   "source": [
    "## Citations\n",
    "\n",
    "As described in the :ref:`citation` tutorial, we can use :func:`exoplanet.citations.get_citations_for_model` to construct an acknowledgement and BibTeX listing that includes the relevant citations for this model.\n",
    "This is especially important here because we have used quite a few model components that should be cited."
   ]
  },
  {
   "cell_type": "code",
   "execution_count": null,
   "metadata": {
    "colab": {
     "base_uri": "https://localhost:8080/",
     "height": 67
    },
    "colab_type": "code",
    "id": "hn6rJIQVp_2v",
    "outputId": "3f1e259e-984c-4934-d986-b9a44cf1ba70"
   },
   "outputs": [],
   "source": [
    "with model:\n",
    "    txt, bib = xo.citations.get_citations_for_model()\n",
    "print(txt)"
   ]
  },
  {
   "cell_type": "code",
   "execution_count": null,
   "metadata": {
    "colab": {
     "base_uri": "https://localhost:8080/",
     "height": 202
    },
    "colab_type": "code",
    "id": "qOIgfN87p_2x",
    "outputId": "69589eb5-c895-4753-dfc9-8aa3a043a989"
   },
   "outputs": [],
   "source": [
    "print(\"\\n\".join(bib.splitlines()[:10]) + \"\\n...\")"
   ]
  },
  {
   "cell_type": "code",
   "execution_count": null,
   "metadata": {
    "colab": {},
    "colab_type": "code",
    "id": "v8yMkKOXp_2z"
   },
   "outputs": [],
   "source": []
  }
 ],
 "metadata": {
  "colab": {
   "collapsed_sections": [],
   "machine_shape": "hm",
   "name": "wasp43 dfm exoplanet transit tutorial.ipynb",
   "provenance": []
  },
  "kernelspec": {
   "display_name": "Python 3",
   "language": "python",
   "name": "python3"
  },
  "language_info": {
   "codemirror_mode": {
    "name": "ipython",
    "version": 3
   },
   "file_extension": ".py",
   "mimetype": "text/x-python",
   "name": "python",
   "nbconvert_exporter": "python",
   "pygments_lexer": "ipython3",
   "version": "3.7.2"
  }
 },
 "nbformat": 4,
 "nbformat_minor": 2
}
