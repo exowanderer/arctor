{
 "cells": [
  {
   "cell_type": "code",
   "execution_count": null,
   "metadata": {
    "colab": {},
    "colab_type": "code",
    "id": "cQ0H-RyAp_2T"
   },
   "outputs": [],
   "source": [
    "%matplotlib inline"
   ]
  },
  {
   "cell_type": "code",
   "execution_count": null,
   "metadata": {
    "colab": {},
    "colab_type": "code",
    "id": "1o7Q6X8TCXnt"
   },
   "outputs": [],
   "source": [
    "import os"
   ]
  },
  {
   "cell_type": "code",
   "execution_count": null,
   "metadata": {
    "colab": {},
    "colab_type": "code",
    "id": "Qpt0amocp_2X"
   },
   "outputs": [],
   "source": [
    "%run notebook_setup"
   ]
  },
  {
   "cell_type": "markdown",
   "metadata": {
    "colab_type": "text",
    "id": "j-ZULzpx60SU"
   },
   "source": [
    "# Load data in from Google Drive"
   ]
  },
  {
   "cell_type": "markdown",
   "metadata": {
    "colab_type": "text",
    "id": "kJOWjvPFCj2M"
   },
   "source": [
    "from google.colab import drive\n",
    "drive.mount('/content/drive')"
   ]
  },
  {
   "cell_type": "markdown",
   "metadata": {
    "colab_type": "text",
    "id": "_2LRtWCAp_2Z"
   },
   "source": [
    "# Transit fitting"
   ]
  },
  {
   "cell_type": "markdown",
   "metadata": {
    "colab_type": "text",
    "id": "oRQyaGBOp_2a"
   },
   "source": [
    "*exoplanet* includes methods for computing the light curves transiting planets.\n",
    "In its simplest form this can be used to evaluate a light curve like you would do with [batman](https://astro.uchicago.edu/~kreidberg/batman/), for example:"
   ]
  },
  {
   "cell_type": "code",
   "execution_count": null,
   "metadata": {},
   "outputs": [],
   "source": [
    "import os\n",
    "HOME = os.environ['HOME']\n",
    "os.chdir(f'{HOME}/path/to/analysis')"
   ]
  },
  {
   "cell_type": "code",
   "execution_count": null,
   "metadata": {
    "colab": {},
    "colab_type": "code",
    "id": "nEjzyJgip_2a"
   },
   "outputs": [],
   "source": [
    "import joblib\n",
    "import numpy as np\n",
    "import matplotlib.pyplot as plt\n",
    "import pandas as pd\n",
    "\n",
    "import exoplanet as xo\n",
    "\n",
    "from arctor import Arctor, info_message"
   ]
  },
  {
   "cell_type": "code",
   "execution_count": null,
   "metadata": {
    "colab": {},
    "colab_type": "code",
    "id": "TsANZkhBDMKM"
   },
   "outputs": [],
   "source": [
    "def instantiate_arctor(planet_name, data_dir, working_dir, file_type):\n",
    "    planet = Arctor(\n",
    "        planet_name=planet_name,\n",
    "        data_dir=data_dir,\n",
    "        working_dir=working_dir,\n",
    "        file_type=file_type)\n",
    "\n",
    "    joblib_filename = f'{planet_name}_savedict.joblib.save'\n",
    "    joblib_filename = f'{working_dir}/{joblib_filename}'\n",
    "    if os.path.exists(joblib_filename):\n",
    "        info_message('Loading Data from Save File')\n",
    "        planet.load_data(joblib_filename)\n",
    "    else:\n",
    "        info_message('Loading New Data Object')\n",
    "        planet.load_data()\n",
    "\n",
    "    return planet\n",
    "\n",
    "def create_raw_lc_stddev(planet):\n",
    "    ppm = 1e6\n",
    "    phot_vals = planet.photometry_df\n",
    "    lc_std_rev = phot_vals.iloc[planet.idx_rev].std(axis=0)\n",
    "    lc_std_fwd = phot_vals.iloc[planet.idx_fwd].std(axis=0)\n",
    "\n",
    "    lc_med_rev = np.median(phot_vals.iloc[planet.idx_rev], axis=0)\n",
    "    lc_med_fwd = np.median(phot_vals.iloc[planet.idx_rev], axis=0)\n",
    "\n",
    "    lc_std = np.mean([lc_std_rev, lc_std_fwd], axis=0)\n",
    "    lc_med = np.mean([lc_med_rev, lc_med_fwd], axis=0)\n",
    "\n",
    "    return lc_std / lc_med * ppm"
   ]
  },
  {
   "cell_type": "code",
   "execution_count": null,
   "metadata": {
    "colab": {},
    "colab_type": "code",
    "id": "GWd1PNSXDWWa"
   },
   "outputs": [],
   "source": [
    "plot_verbose = False\n",
    "save_now = False\n",
    "planet_name = 'PlanetName'\n",
    "file_type = 'flt.fits'\n",
    "\n",
    "HOME = os.environ['HOME']\n",
    "base_dir = os.path.join(HOME, 'path', 'to', 'base')\n",
    "data_dir = os.path.join(base_dir, 'data', 'UVIS', 'MAST_2019-07-03T0738')\n",
    "data_dir = os.path.join(data_dir, 'HST', 'FLTs')\n",
    "working_dir = os.path.join(base_dir, 'github_analysis', 'savefiles')"
   ]
  },
  {
   "cell_type": "code",
   "execution_count": null,
   "metadata": {
    "colab": {
     "base_uri": "https://localhost:8080/",
     "height": 542
    },
    "colab_type": "code",
    "id": "AEcnGARKD56O",
    "outputId": "3623dbf5-dbd8-463c-d0c3-8150383538f4"
   },
   "outputs": [],
   "source": [
    "planet = instantiate_arctor(planet_name, data_dir, working_dir, file_type)"
   ]
  },
  {
   "cell_type": "code",
   "execution_count": null,
   "metadata": {},
   "outputs": [],
   "source": [
    "planet.clean_cosmic_rays()\n",
    "planet.calibration_trace_location()\n",
    "planet.identify_trace_direction()\n",
    "planet.simple_phots()\n",
    "planet.center_all_traces()\n",
    "planet.fit_trace_slopes()\n",
    "planet.compute_sky_background(subpixels=32)\n",
    "planet.compute_columnwise_sky_background()"
   ]
  },
  {
   "cell_type": "markdown",
   "metadata": {},
   "source": [
    "# Run Multi-Phot"
   ]
  },
  {
   "cell_type": "code",
   "execution_count": null,
   "metadata": {},
   "outputs": [],
   "source": [
    "# Set up the list of aperture widths and heights to search\n",
    "min_aper_width = 1\n",
    "max_aper_width = 100\n",
    "min_aper_height = 1\n",
    "max_aper_height = 100\n",
    "\n",
    "aper_widths = np.arange(min_aper_width, max_aper_width + 2, 5)\n",
    "aper_heights = np.arange(min_aper_height, max_aper_height + 2, 5)"
   ]
  },
  {
   "cell_type": "code",
   "execution_count": null,
   "metadata": {},
   "outputs": [],
   "source": [
    "planet.do_multi_phot(aper_widths, aper_heights)"
   ]
  },
  {
   "cell_type": "markdown",
   "metadata": {},
   "source": [
    "# Determine the 'best' photometry SNR"
   ]
  },
  {
   "cell_type": "code",
   "execution_count": null,
   "metadata": {},
   "outputs": [],
   "source": [
    "planet_coarse_photometry_df = planet.photometry_df.copy()\n",
    "del planet.photometry_df"
   ]
  },
  {
   "cell_type": "code",
   "execution_count": null,
   "metadata": {},
   "outputs": [],
   "source": [
    "coarse_snr_lightcurves = create_raw_lc_stddev(planet)\n",
    "coarse_min_snr = coarse_snr_lightcurves[coarse_snr_lightcurves.argmin()]\n",
    "coarse_min_snr_colname = planet.photometry_df.columns[coarse_snr_lightcurves.argmin()]\n",
    "coarse_min_snr_col = planet.normed_photometry_df[coarse_min_snr_colname]\n",
    "coarse_temp = coarse_min_snr_colname.split('_')[-1].split('x')\n",
    "coarse_min_snr_aper_width, coarse_min_snr_aper_height = np.int32(coarse_temp)"
   ]
  },
  {
   "cell_type": "code",
   "execution_count": null,
   "metadata": {},
   "outputs": [],
   "source": [
    "info_message(f'Coarse Aperture Photometry Resulted in {coarse_min_snr:0.0f}ppm with '\n",
    "             f'{coarse_min_snr_aper_width}x{coarse_min_snr_aper_height} aperture size')"
   ]
  },
  {
   "cell_type": "code",
   "execution_count": null,
   "metadata": {},
   "outputs": [],
   "source": [
    "fine_buffer = 10\n",
    "fine_aper_widths = np.arange(min_snr_aper_width - fine_buffer,\n",
    "                             min_snr_aper_width + fine_buffer)\n",
    "\n",
    "fine_aper_heights = np.arange(min_snr_aper_height - fine_buffer,\n",
    "                              min_snr_aper_height + fine_buffer)"
   ]
  },
  {
   "cell_type": "code",
   "execution_count": null,
   "metadata": {},
   "outputs": [],
   "source": [
    "planet.do_multi_phot(fine_aper_widths, fine_aper_heights)"
   ]
  },
  {
   "cell_type": "code",
   "execution_count": null,
   "metadata": {},
   "outputs": [],
   "source": [
    "planet_fine_photometry_df = planet.photometry_df.copy()"
   ]
  },
  {
   "cell_type": "code",
   "execution_count": null,
   "metadata": {},
   "outputs": [],
   "source": [
    "fine_snr_lightcurves = create_raw_lc_stddev(planet)\n",
    "fine_min_snr = fine_snr_lightcurves[fine_snr_lightcurves.argmin()]\n",
    "fine_min_snr_colname = planet.photometry_df.columns[fine_snr_lightcurves.argmin()]\n",
    "fine_min_snr_flux = planet.normed_photometry_df[fine_min_snr_colname]\n",
    "fine_min_snr_uncs = planet.normed_uncertainty_df[fine_min_snr_colname]\n",
    "fine_temp = fine_min_snr_colname.split('_')[-1].split('x')\n",
    "fine_min_snr_aper_width, fine_min_snr_aper_height = np.int32(fine_temp)"
   ]
  },
  {
   "cell_type": "code",
   "execution_count": null,
   "metadata": {},
   "outputs": [],
   "source": [
    "info_message(f'Fine Aperture Photometry Resulted in {fine_min_snr:0.0f}ppm with '\n",
    "             f'{fine_min_snr_aper_width}x{fine_min_snr_aper_height} aperture size; '\n",
    "             f'with median uncertainties of {np.median(fine_min_snr_uncs)*1e6:0.0f} ppm')"
   ]
  },
  {
   "cell_type": "markdown",
   "metadata": {},
   "source": [
    "# Configure system for PyMC3"
   ]
  },
  {
   "cell_type": "code",
   "execution_count": null,
   "metadata": {
    "colab": {},
    "colab_type": "code",
    "id": "jqJxdF0I7bTK"
   },
   "outputs": [],
   "source": [
    "data_df = pd.DataFrame()\n",
    "data_df['flux'] = fine_min_snr_flux.values\n",
    "data_df['unc'] = fine_min_snr_uncs.values\n",
    "data_df['times'] = planet.times\n",
    "idx_fwd = planet.idx_fwd\n",
    "idx_rev = planet.idx_rev\n",
    "# data_df.sort_values('times', inplace=True)\n",
    "# data_df = data_df.reset_index()\n",
    "# data_df.drop(['index'], axis=1, inplace=True)\n",
    "data_df"
   ]
  },
  {
   "cell_type": "code",
   "execution_count": null,
   "metadata": {
    "colab": {
     "base_uri": "https://localhost:8080/",
     "height": 464
    },
    "colab_type": "code",
    "id": "6vGrEIEv7YnO",
    "outputId": "bfed0117-0b8a-423e-f2a1-13068d698e0e"
   },
   "outputs": [],
   "source": [
    "# Compute a limb-darkened light curve using starry\n",
    "t = data_df['times']\n",
    "u = []\n",
    "flux = data_df['flux']\n",
    "yerr = data_df['unc']\n",
    "# Note: the `eval` is needed because this is using Theano in\n",
    "# the background\n",
    "\n",
    "plt.errorbar(t[idx_fwd], flux[idx_fwd], yerr[idx_fwd], fmt='o', color=\"C0\")\n",
    "plt.errorbar(t[idx_rev], flux[idx_rev], yerr[idx_rev], fmt='o', color=\"C3\")\n",
    "plt.axhline(1.0, ls='--', color='C1')\n",
    "plt.ylabel(\"relative flux\")\n",
    "plt.xlabel(\"time [days]\")\n",
    "plt.xlim(t.min(), t.max());"
   ]
  },
  {
   "cell_type": "markdown",
   "metadata": {
    "colab_type": "text",
    "id": "UDHaejnap_2d"
   },
   "source": [
    "But the real power comes from the fact that this is defined as a [Theano operation](http://deeplearning.net/software/theano/extending/extending_theano.html) so it can be combined with PyMC3 to do transit inference using Hamiltonian Monte Carlo.\n",
    "\n",
    "## The transit model in PyMC3\n",
    "\n",
    "In this section, we will construct a simple transit fit model using *PyMC3* and then we will fit a two planet model to simulated data.\n",
    "To start, let's randomly sample some periods and phases and then define the time sampling:"
   ]
  },
  {
   "cell_type": "code",
   "execution_count": null,
   "metadata": {
    "colab": {},
    "colab_type": "code",
    "id": "urdyPprvp_2e"
   },
   "outputs": [],
   "source": [
    "np.random.seed(42)\n",
    "\n",
    "time_med = np.median(t)\n",
    "med_t_diff = np.median(np.diff(t))"
   ]
  },
  {
   "cell_type": "markdown",
   "metadata": {
    "colab_type": "text",
    "id": "So0C6fKop_2g"
   },
   "source": [
    "Then, define the parameters.\n",
    "In this simple model, we'll just fit for the limb darkening parameters of the star, and the period, phase, impact parameter, and radius ratio of the planets (note: this is already 10 parameters and running MCMC to convergence using [emcee](https://emcee.readthedocs.io) would probably take at least an hour).\n",
    "For the limb darkening, we'll use a quadratic law as parameterized by [Kipping (2013)](https://arxiv.org/abs/1308.0009).\n",
    "This reparameterizations is implemented in *exoplanet* as custom *PyMC3* distribution :class:`exoplanet.distributions.QuadLimbDark`."
   ]
  },
  {
   "cell_type": "code",
   "execution_count": null,
   "metadata": {
    "colab": {
     "base_uri": "https://localhost:8080/",
     "height": 34
    },
    "colab_type": "code",
    "id": "z-oUic6qrjXZ",
    "outputId": "85f6974f-cbc1-476a-d3ce-3372c7f02451"
   },
   "outputs": [],
   "source": [
    "from multiprocessing import cpu_count\n",
    "print(f'This instance has {cpu_count()} CPUs')"
   ]
  },
  {
   "cell_type": "code",
   "execution_count": null,
   "metadata": {
    "colab": {},
    "colab_type": "code",
    "id": "f5jMP0gg2Gxy"
   },
   "outputs": [],
   "source": [
    "import pymc3 as pm\n",
    "b = 0.66 # Hellier 2011\n",
    "period = 0.813475  # days # exo.mast.stsci.edu\n",
    "u = [0]\n",
    "t0 = time_med\n",
    "edepth = np.sqrt(500/1e6)\n",
    "\n",
    "orbit = xo.orbits.KeplerianOrbit(period=period, t0=t0, b=b)\n",
    "light_curves = xo.LimbDarkLightCurve(u).get_light_curve(orbit=orbit, r=edepth, t=t).eval().flatten()"
   ]
  },
  {
   "cell_type": "code",
   "execution_count": null,
   "metadata": {
    "colab": {
     "base_uri": "https://localhost:8080/",
     "height": 464
    },
    "colab_type": "code",
    "id": "jcnrG-JX2l4Y",
    "outputId": "4def2a2b-1baa-4698-d8a1-3d55289ff259"
   },
   "outputs": [],
   "source": [
    "plt.errorbar(t, flux, yerr, fmt='o')\n",
    "plt.plot(t, light_curves+1,'o')\n",
    "plt.ylabel(\"relative flux\")\n",
    "plt.xlabel(\"time [days]\")\n",
    "plt.xlim(t.min(), t.max());"
   ]
  },
  {
   "cell_type": "code",
   "execution_count": null,
   "metadata": {
    "colab": {},
    "colab_type": "code",
    "id": "EW_PSKNreRpC"
   },
   "outputs": [],
   "source": [
    "t0_planet = 55528.3684  # exo.mast.stsci.edu\n",
    "n_epochs = np.int(np.round(((time_med - t0_planet) / period)-0.5))\n",
    "n_epochs, ((time_med - t0_planet) / period)\n",
    "t0_guess = t0_planet + (n_epochs+0.5) * period\n",
    "\n",
    "# t0s = np.random.normal(t0_guess, 0.1*med_t_diff, size=2)\n",
    "t0s = t0_guess"
   ]
  },
  {
   "cell_type": "code",
   "execution_count": null,
   "metadata": {
    "colab": {
     "base_uri": "https://localhost:8080/",
     "height": 84
    },
    "colab_type": "code",
    "id": "EOyTi-GVp_2g",
    "outputId": "14ec1f4d-e04f-43b3-8b29-f4b8838a14f6"
   },
   "outputs": [],
   "source": [
    "import pymc3 as pm\n",
    "b = 0.66 # Hellier 2011\n",
    "period = 0.813475  # days # exo.mast.stsci.edu\n",
    "u = [0]\n",
    "\n",
    "oot_guess = np.median(np.r_[flux[:2*18], flux[-18:]])\n",
    "stellar_variance = np.std(np.r_[flux[:2*18], flux[-18:]])\n",
    "data = flux# - oot_guess\n",
    "\n",
    "with pm.Model() as model:\n",
    "\n",
    "    # The baseline flux\n",
    "    mean_fwd = pm.Normal(\"mean_fwd\", mu=1.0, sd=1.0)\n",
    "    mean_rev = pm.Normal(\"mean_rev\", mu=1.0, sd=1.0)\n",
    "\n",
    "    # The time of a reference transit for each planet\n",
    "    t0 = pm.Normal(\"t0\", mu=t0_guess, sd=1e-6)  # , shape=2)\n",
    "\n",
    "    # The log period; also tracking the period itself\n",
    "    # logP = pm.Normal(\"logP\", mu=np.log(periods), sd=0.1, shape=2)\n",
    "    # period = pm.Deterministic(\"period\", pm.math.exp(logP))\n",
    "\n",
    "    # The Kipping (2013) parameterization for quadratic limb darkening paramters\n",
    "    # u = xo.distributions.QuadLimbDark(\"u\", testval=np.array([0.3, 0.2]))\n",
    "\n",
    "    edepth = pm.Uniform(\"edepth\", lower=1e-6, upper=0.1)  # , shape=2)  #, testval=np.array([0.04, 0.06]))\n",
    "    edepth = np.sqrt(edepth)\n",
    "    # b = xo.distributions.ImpactParameter(\"b\", ror=r, shape=2, testval=np.random.rand(2))\n",
    "\n",
    "    slope = pm.Uniform(\"slope\", lower=-0.1, upper=0.1)\n",
    "    # intercept = pm.Uniform(\"intercept\", lower=-0.1, upper=0.1)\n",
    "    line = slope * (t-t0_guess) + mean_fwd\n",
    "\n",
    "    # Set up a Keplerian orbit for the planets\n",
    "    orbit = xo.orbits.KeplerianOrbit(period=period, t0=t0s, b=b)\n",
    "\n",
    "    # # Compute the model light curve using starry\n",
    "    light_curves = xo.LimbDarkLightCurve(u).get_light_curve(orbit=orbit, r=edepth, t=t)\n",
    "    light_curve = pm.math.sum(light_curves, axis=-1) \n",
    "\n",
    "    # # Here we track the value of the model light curve for plotting\n",
    "    # # purposes\n",
    "    pm.Deterministic(\"light_curves\", light_curves)\n",
    "\n",
    "    # # In this line, we simulate the dataset that we will fit\n",
    "    # # y = xo.eval_in_model(light_curve)\n",
    "    # # y += yerr * np.random.randn(len(y))\n",
    "\n",
    "    # # The likelihood function assuming known Gaussian uncertainty\n",
    "    pm.Normal(\"obs\", mu=light_curve + line, sd=yerr, observed=data)\n",
    "\n",
    "    # # Fit for the maximum a posteriori parameters given the simuated dataset\n",
    "    map_soln = xo.optimize(start=model.test_point)"
   ]
  },
  {
   "cell_type": "markdown",
   "metadata": {
    "colab_type": "text",
    "id": "AXl22v6jp_2i"
   },
   "source": [
    "Now we can plot the simulated data and the maximum a posteriori model to make sure that our initialization looks ok."
   ]
  },
  {
   "cell_type": "code",
   "execution_count": null,
   "metadata": {
    "colab": {
     "base_uri": "https://localhost:8080/",
     "height": 34
    },
    "colab_type": "code",
    "id": "O7OGIs95gYq-",
    "outputId": "3192327e-7e9d-49df-8cc4-73fb2ab31189"
   },
   "outputs": [],
   "source": [
    "print(f\"Found an eclipse of size {map_soln['edepth']*1e6:.0f} ppm at {map_soln['edepth']*86400:.2f} seconds from expected\")"
   ]
  },
  {
   "cell_type": "code",
   "execution_count": null,
   "metadata": {
    "colab": {
     "base_uri": "https://localhost:8080/",
     "height": 50
    },
    "colab_type": "code",
    "id": "vCq9IcmqEhjG",
    "outputId": "e854c9cd-d09b-4704-cb13-5ba1a34264ec"
   },
   "outputs": [],
   "source": [
    "np.where(map_soln[\"light_curves\"] < 0)[0]"
   ]
  },
  {
   "cell_type": "code",
   "execution_count": null,
   "metadata": {
    "colab": {
     "base_uri": "https://localhost:8080/",
     "height": 490
    },
    "colab_type": "code",
    "id": "KlsQAEAdp_2j",
    "outputId": "8efea518-3548-494d-85c4-cab3e8425180"
   },
   "outputs": [],
   "source": [
    "plt.errorbar(t, data, yerr, color=\"k\", fmt='o', ms=4, label=\"data\")\n",
    "plt.plot(t, map_soln[\"light_curves\"] + map_soln['mean'], lw=1)\n",
    "plt.axhline(0.0, ls='--', color='orange')\n",
    "plt.xlim(t.min(), t.max())\n",
    "plt.ylabel(\"relative flux\")\n",
    "plt.xlabel(\"time [days]\")\n",
    "plt.legend(fontsize=10)\n",
    "plt.title(\"map model\");"
   ]
  },
  {
   "cell_type": "markdown",
   "metadata": {
    "colab_type": "text",
    "id": "y9xbZ7Atp_2l"
   },
   "source": [
    "## Sampling\n",
    "\n",
    "Now, let's sample from the posterior defined by this model.\n",
    "As usual, there are strong covariances between some of the parameters so we'll use :func:`exoplanet.get_dense_nuts_step`."
   ]
  },
  {
   "cell_type": "code",
   "execution_count": null,
   "metadata": {
    "colab": {
     "base_uri": "https://localhost:8080/",
     "height": 67
    },
    "colab_type": "code",
    "id": "beb1lgP_p_2l",
    "outputId": "ad0bf51d-16f0-4600-d929-d074d3f525d2"
   },
   "outputs": [],
   "source": [
    "np.random.seed(42)\n",
    "with model:\n",
    "    trace = pm.sample(\n",
    "        tune=3000,\n",
    "        draws=3000,\n",
    "        start=map_soln,\n",
    "        chains=4,\n",
    "        step=xo.get_dense_nuts_step(target_accept=0.9),\n",
    "        cores=mp.cpu_count()\n",
    "    )a"
   ]
  },
  {
   "cell_type": "markdown",
   "metadata": {
    "colab_type": "text",
    "id": "r6Sgztjkp_2n"
   },
   "source": [
    "After sampling, it's important that we assess convergence.\n",
    "We can do that using the `pymc3.summary` function:"
   ]
  },
  {
   "cell_type": "code",
   "execution_count": null,
   "metadata": {
    "colab": {
     "base_uri": "https://localhost:8080/",
     "height": 166
    },
    "colab_type": "code",
    "id": "OHVfu27Ip_2o",
    "outputId": "09042a5e-52a6-479b-806a-040551f27b4a"
   },
   "outputs": [],
   "source": [
    "pm.summary(trace, varnames=[\"t0\", \"edepth\", \"mean\", \"slope\"])"
   ]
  },
  {
   "cell_type": "markdown",
   "metadata": {
    "colab_type": "text",
    "id": "Ka3b7ucAp_2q"
   },
   "source": [
    "That looks pretty good!\n",
    "Fitting this without *exoplanet* would have taken a lot more patience.\n",
    "\n",
    "Now we can also look at the [corner plot](https://corner.readthedocs.io) of some of that parameters of interest:"
   ]
  },
  {
   "cell_type": "code",
   "execution_count": null,
   "metadata": {
    "colab": {
     "base_uri": "https://localhost:8080/",
     "height": 983
    },
    "colab_type": "code",
    "id": "jfCeokGEp_2q",
    "outputId": "7bf78c3f-897d-4f23-cc05-b80a9c1fbcd6"
   },
   "outputs": [],
   "source": [
    "import corner\n",
    "\n",
    "samples = pm.trace_to_dataframe(trace, varnames=[\"t0\", \"edepth\", \"mean\", \"slope\"])\n",
    "truth = [t0_guess, 0.0, 1.0, 0.0]\n",
    "corner.corner(samples, truths=truth, labels=[\"t0\", \"edepth\", \"mean\", \"slope\"]);"
   ]
  },
  {
   "cell_type": "markdown",
   "metadata": {
    "colab_type": "text",
    "id": "MpMLcJQOp_2s"
   },
   "source": [
    "## Phase plots\n",
    "\n",
    "Like in the radial velocity tutorial (:ref:`rv`), we can make plots of the model predictions for each planet."
   ]
  },
  {
   "cell_type": "code",
   "execution_count": null,
   "metadata": {
    "colab": {
     "base_uri": "https://localhost:8080/",
     "height": 490
    },
    "colab_type": "code",
    "id": "WjqqqQGIp_2t",
    "outputId": "23dd3dec-e1ba-4464-b4d4-997746b357cd"
   },
   "outputs": [],
   "source": [
    "plt.figure()\n",
    "\n",
    "# Get the posterior median orbital parameters\n",
    "p = period\n",
    "t0 = np.median(trace[\"t0\"])\n",
    "\n",
    "# Plot the folded data\n",
    "plt.errorbar(t - t0, data, yerr=yerr, fmt=\".k\", label=\"data\", zorder=-1000)\n",
    "\n",
    "# Plot the folded model\n",
    "preds = trace[\"light_curves\"][:,:,0] + trace[\"mean\"][:, None]\n",
    "pred = np.median(preds, axis=0)\n",
    "# pred -= pred.min()\n",
    "plt.plot(t - t0, pred, color=\"C1\", label=\"model\", zorder=10)\n",
    "plt.axhline(0.0, ls='--', color='k')\n",
    "\n",
    "# Annotate the plot with the planet's period\n",
    "txt = f\"Eclipse Depth = {np.mean(trace['edepth']*1e6):.0f}\"\n",
    "txt += f\" +/- {np.std(trace['edepth']*1e6):.0f} ppm\"\n",
    "\n",
    "plt.annotate(\n",
    "    txt,\n",
    "    (0, 0),\n",
    "    xycoords=\"axes fraction\",\n",
    "    xytext=(5, 5),\n",
    "    textcoords=\"offset points\",\n",
    "    ha=\"left\",\n",
    "    va=\"bottom\",\n",
    "    fontsize=12,\n",
    ")\n",
    "\n",
    "add_traces = False\n",
    "if add_traces:\n",
    "  n_traces = 1000\n",
    "  idx_rand = np.random.choice(np.arange(preds.shape[0]), size=n_traces, replace=False)\n",
    "  for pred_ in preds[idx_rand]:\n",
    "      plt.plot(t - t0, pred, color=\"grey\", alpha=0.5, zorder=0)\n",
    "\n",
    "plt.legend(fontsize=10, loc=4)\n",
    "plt.xlim((t - t0).min(), (t - t0).max())\n",
    "plt.xlabel(\"Time Since Eclipse [days]\")\n",
    "plt.ylabel(\"Relative Flux\")\n",
    "plt.title(\"PlanetName UVIS Eclipse\");"
   ]
  },
  {
   "cell_type": "markdown",
   "metadata": {
    "colab_type": "text",
    "id": "_DCj2Oh6p_2v"
   },
   "source": [
    "## Citations\n",
    "\n",
    "As described in the :ref:`citation` tutorial, we can use :func:`exoplanet.citations.get_citations_for_model` to construct an acknowledgement and BibTeX listing that includes the relevant citations for this model.\n",
    "This is especially important here because we have used quite a few model components that should be cited."
   ]
  },
  {
   "cell_type": "code",
   "execution_count": null,
   "metadata": {
    "colab": {
     "base_uri": "https://localhost:8080/",
     "height": 67
    },
    "colab_type": "code",
    "id": "hn6rJIQVp_2v",
    "outputId": "3f1e259e-984c-4934-d986-b9a44cf1ba70"
   },
   "outputs": [],
   "source": [
    "with model:\n",
    "    txt, bib = xo.citations.get_citations_for_model()\n",
    "print(txt)"
   ]
  },
  {
   "cell_type": "code",
   "execution_count": null,
   "metadata": {
    "colab": {
     "base_uri": "https://localhost:8080/",
     "height": 202
    },
    "colab_type": "code",
    "id": "qOIgfN87p_2x",
    "outputId": "69589eb5-c895-4753-dfc9-8aa3a043a989"
   },
   "outputs": [],
   "source": [
    "print(\"\\n\".join(bib.splitlines()[:10]) + \"\\n...\")"
   ]
  },
  {
   "cell_type": "code",
   "execution_count": null,
   "metadata": {
    "colab": {},
    "colab_type": "code",
    "id": "v8yMkKOXp_2z"
   },
   "outputs": [],
   "source": []
  }
 ],
 "metadata": {
  "colab": {
   "collapsed_sections": [],
   "machine_shape": "hm",
   "name": "example exoplanet transit mcmc fitting tutorial.ipynb",
   "provenance": []
  },
  "kernelspec": {
   "display_name": "Python 3",
   "language": "python",
   "name": "python3"
  },
  "language_info": {
   "codemirror_mode": {
    "name": "ipython",
    "version": 3
   },
   "file_extension": ".py",
   "mimetype": "text/x-python",
   "name": "python",
   "nbconvert_exporter": "python",
   "pygments_lexer": "ipython3",
   "version": "3.8.3"
  }
 },
 "nbformat": 4,
 "nbformat_minor": 4
}
